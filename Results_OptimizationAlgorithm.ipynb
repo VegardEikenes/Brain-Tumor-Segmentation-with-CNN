{
 "cells": [
  {
   "cell_type": "code",
   "execution_count": 34,
   "id": "4242e422",
   "metadata": {},
   "outputs": [],
   "source": [
    "import pandas as pd"
   ]
  },
  {
   "cell_type": "code",
   "execution_count": 35,
   "id": "10cff31b",
   "metadata": {},
   "outputs": [
    {
     "data": {
      "text/html": [
       "<div>\n",
       "<style scoped>\n",
       "    .dataframe tbody tr th:only-of-type {\n",
       "        vertical-align: middle;\n",
       "    }\n",
       "\n",
       "    .dataframe tbody tr th {\n",
       "        vertical-align: top;\n",
       "    }\n",
       "\n",
       "    .dataframe thead th {\n",
       "        text-align: right;\n",
       "    }\n",
       "</style>\n",
       "<table border=\"1\" class=\"dataframe\">\n",
       "  <thead>\n",
       "    <tr style=\"text-align: right;\">\n",
       "      <th></th>\n",
       "      <th>Optimizer</th>\n",
       "      <th>dice_coef</th>\n",
       "      <th>dice_coef_edema</th>\n",
       "      <th>dice_coef_enhancing</th>\n",
       "      <th>dice_coef_necrotic</th>\n",
       "      <th>mean_io_u</th>\n",
       "    </tr>\n",
       "  </thead>\n",
       "  <tbody>\n",
       "    <tr>\n",
       "      <th>35</th>\n",
       "      <td>Adam</td>\n",
       "      <td>0.652161</td>\n",
       "      <td>0.791219</td>\n",
       "      <td>0.753609</td>\n",
       "      <td>0.581129</td>\n",
       "      <td>0.780474</td>\n",
       "    </tr>\n",
       "  </tbody>\n",
       "</table>\n",
       "</div>"
      ],
      "text/plain": [
       "   Optimizer  dice_coef  dice_coef_edema  dice_coef_enhancing  \\\n",
       "35      Adam   0.652161         0.791219             0.753609   \n",
       "\n",
       "    dice_coef_necrotic  mean_io_u  \n",
       "35            0.581129   0.780474  "
      ]
     },
     "execution_count": 35,
     "metadata": {},
     "output_type": "execute_result"
    }
   ],
   "source": [
    "df = pd.read_csv('Logs/evaluation_200_2d_3ch.log')\n",
    "df = df[['dice_coef', 'dice_coef_edema', 'dice_coef_enhancing', 'dice_coef_necrotic', 'mean_io_u']]\n",
    "df = pd.DataFrame(df.mean().to_dict(),index=[df.index.values[-1]])\n",
    "df.insert(loc=0, column='Optimizer', value='Adam')\n",
    "df"
   ]
  },
  {
   "cell_type": "code",
   "execution_count": 36,
   "id": "b43b1a68",
   "metadata": {},
   "outputs": [
    {
     "data": {
      "text/html": [
       "<div>\n",
       "<style scoped>\n",
       "    .dataframe tbody tr th:only-of-type {\n",
       "        vertical-align: middle;\n",
       "    }\n",
       "\n",
       "    .dataframe tbody tr th {\n",
       "        vertical-align: top;\n",
       "    }\n",
       "\n",
       "    .dataframe thead th {\n",
       "        text-align: right;\n",
       "    }\n",
       "</style>\n",
       "<table border=\"1\" class=\"dataframe\">\n",
       "  <thead>\n",
       "    <tr style=\"text-align: right;\">\n",
       "      <th></th>\n",
       "      <th>Optimizer</th>\n",
       "      <th>dice_coef</th>\n",
       "      <th>dice_coef_edema</th>\n",
       "      <th>dice_coef_enhancing</th>\n",
       "      <th>dice_coef_necrotic</th>\n",
       "      <th>mean_io_u</th>\n",
       "    </tr>\n",
       "  </thead>\n",
       "  <tbody>\n",
       "    <tr>\n",
       "      <th>35</th>\n",
       "      <td>AdaGrad</td>\n",
       "      <td>0.378474</td>\n",
       "      <td>0.461831</td>\n",
       "      <td>0.257067</td>\n",
       "      <td>0.249221</td>\n",
       "      <td>0.742604</td>\n",
       "    </tr>\n",
       "  </tbody>\n",
       "</table>\n",
       "</div>"
      ],
      "text/plain": [
       "   Optimizer  dice_coef  dice_coef_edema  dice_coef_enhancing  \\\n",
       "35   AdaGrad   0.378474         0.461831             0.257067   \n",
       "\n",
       "    dice_coef_necrotic  mean_io_u  \n",
       "35            0.249221   0.742604  "
      ]
     },
     "execution_count": 36,
     "metadata": {},
     "output_type": "execute_result"
    }
   ],
   "source": [
    "df2 = pd.read_csv('Logs/evaluation_200_2d_3ch_Adagrad.log')\n",
    "df2 = df2[['dice_coef', 'dice_coef_edema', 'dice_coef_enhancing', 'dice_coef_necrotic', 'mean_io_u']]\n",
    "df2 = pd.DataFrame(df2.mean().to_dict(),index=[df2.index.values[-1]])\n",
    "df2.insert(loc=0, column='Optimizer', value='AdaGrad')\n",
    "df2"
   ]
  },
  {
   "cell_type": "code",
   "execution_count": 37,
   "id": "f14df329",
   "metadata": {},
   "outputs": [
    {
     "data": {
      "text/html": [
       "<div>\n",
       "<style scoped>\n",
       "    .dataframe tbody tr th:only-of-type {\n",
       "        vertical-align: middle;\n",
       "    }\n",
       "\n",
       "    .dataframe tbody tr th {\n",
       "        vertical-align: top;\n",
       "    }\n",
       "\n",
       "    .dataframe thead th {\n",
       "        text-align: right;\n",
       "    }\n",
       "</style>\n",
       "<table border=\"1\" class=\"dataframe\">\n",
       "  <thead>\n",
       "    <tr style=\"text-align: right;\">\n",
       "      <th></th>\n",
       "      <th>Optimizer</th>\n",
       "      <th>dice_coef</th>\n",
       "      <th>dice_coef_edema</th>\n",
       "      <th>dice_coef_enhancing</th>\n",
       "      <th>dice_coef_necrotic</th>\n",
       "      <th>mean_io_u</th>\n",
       "    </tr>\n",
       "  </thead>\n",
       "  <tbody>\n",
       "    <tr>\n",
       "      <th>35</th>\n",
       "      <td>AdaDelta</td>\n",
       "      <td>0.281804</td>\n",
       "      <td>0.157525</td>\n",
       "      <td>0.097162</td>\n",
       "      <td>0.120241</td>\n",
       "      <td>0.658468</td>\n",
       "    </tr>\n",
       "  </tbody>\n",
       "</table>\n",
       "</div>"
      ],
      "text/plain": [
       "   Optimizer  dice_coef  dice_coef_edema  dice_coef_enhancing  \\\n",
       "35  AdaDelta   0.281804         0.157525             0.097162   \n",
       "\n",
       "    dice_coef_necrotic  mean_io_u  \n",
       "35            0.120241   0.658468  "
      ]
     },
     "execution_count": 37,
     "metadata": {},
     "output_type": "execute_result"
    }
   ],
   "source": [
    "df3 = pd.read_csv('Logs/evaluation_200_2d_3ch_AdaDelta.log')\n",
    "df3 = df3[['dice_coef', 'dice_coef_edema', 'dice_coef_enhancing', 'dice_coef_necrotic', 'mean_io_u']]\n",
    "df3 = pd.DataFrame(df3.mean().to_dict(),index=[df3.index.values[-1]])\n",
    "df3.insert(loc=0, column='Optimizer', value='AdaDelta')\n",
    "df3"
   ]
  },
  {
   "cell_type": "code",
   "execution_count": 38,
   "id": "6de444a3",
   "metadata": {},
   "outputs": [
    {
     "data": {
      "text/html": [
       "<div>\n",
       "<style scoped>\n",
       "    .dataframe tbody tr th:only-of-type {\n",
       "        vertical-align: middle;\n",
       "    }\n",
       "\n",
       "    .dataframe tbody tr th {\n",
       "        vertical-align: top;\n",
       "    }\n",
       "\n",
       "    .dataframe thead th {\n",
       "        text-align: right;\n",
       "    }\n",
       "</style>\n",
       "<table border=\"1\" class=\"dataframe\">\n",
       "  <thead>\n",
       "    <tr style=\"text-align: right;\">\n",
       "      <th></th>\n",
       "      <th>Optimizer</th>\n",
       "      <th>dice_coef</th>\n",
       "      <th>dice_coef_edema</th>\n",
       "      <th>dice_coef_enhancing</th>\n",
       "      <th>dice_coef_necrotic</th>\n",
       "      <th>mean_io_u</th>\n",
       "    </tr>\n",
       "  </thead>\n",
       "  <tbody>\n",
       "    <tr>\n",
       "      <th>59</th>\n",
       "      <td>Adam</td>\n",
       "      <td>0.588444</td>\n",
       "      <td>0.715345</td>\n",
       "      <td>0.643784</td>\n",
       "      <td>0.484155</td>\n",
       "      <td>0.785045</td>\n",
       "    </tr>\n",
       "  </tbody>\n",
       "</table>\n",
       "</div>"
      ],
      "text/plain": [
       "   Optimizer  dice_coef  dice_coef_edema  dice_coef_enhancing  \\\n",
       "59      Adam   0.588444         0.715345             0.643784   \n",
       "\n",
       "    dice_coef_necrotic  mean_io_u  \n",
       "59            0.484155   0.785045  "
      ]
     },
     "execution_count": 38,
     "metadata": {},
     "output_type": "execute_result"
    }
   ],
   "source": [
    "df4 = pd.read_csv('Logs/validation_200_2d_3ch.log')\n",
    "df4 = df4[['dice_coef', 'dice_coef_edema', 'dice_coef_enhancing', 'dice_coef_necrotic', 'mean_io_u']]\n",
    "df4 = pd.DataFrame(df4.mean().to_dict(),index=[df4.index.values[-1]])\n",
    "df4.insert(loc=0, column='Optimizer', value='Adam')\n",
    "df4"
   ]
  },
  {
   "cell_type": "code",
   "execution_count": 39,
   "id": "e20cccfa",
   "metadata": {},
   "outputs": [
    {
     "data": {
      "text/html": [
       "<div>\n",
       "<style scoped>\n",
       "    .dataframe tbody tr th:only-of-type {\n",
       "        vertical-align: middle;\n",
       "    }\n",
       "\n",
       "    .dataframe tbody tr th {\n",
       "        vertical-align: top;\n",
       "    }\n",
       "\n",
       "    .dataframe thead th {\n",
       "        text-align: right;\n",
       "    }\n",
       "</style>\n",
       "<table border=\"1\" class=\"dataframe\">\n",
       "  <thead>\n",
       "    <tr style=\"text-align: right;\">\n",
       "      <th></th>\n",
       "      <th>Optimizer</th>\n",
       "      <th>dice_coef</th>\n",
       "      <th>dice_coef_edema</th>\n",
       "      <th>dice_coef_enhancing</th>\n",
       "      <th>dice_coef_necrotic</th>\n",
       "      <th>mean_io_u</th>\n",
       "    </tr>\n",
       "  </thead>\n",
       "  <tbody>\n",
       "    <tr>\n",
       "      <th>59</th>\n",
       "      <td>AdaGrad</td>\n",
       "      <td>0.386929</td>\n",
       "      <td>0.480786</td>\n",
       "      <td>0.308081</td>\n",
       "      <td>0.26688</td>\n",
       "      <td>0.75702</td>\n",
       "    </tr>\n",
       "  </tbody>\n",
       "</table>\n",
       "</div>"
      ],
      "text/plain": [
       "   Optimizer  dice_coef  dice_coef_edema  dice_coef_enhancing  \\\n",
       "59   AdaGrad   0.386929         0.480786             0.308081   \n",
       "\n",
       "    dice_coef_necrotic  mean_io_u  \n",
       "59             0.26688    0.75702  "
      ]
     },
     "execution_count": 39,
     "metadata": {},
     "output_type": "execute_result"
    }
   ],
   "source": [
    "df5 = pd.read_csv('Logs/validation_200_2d_3ch_AdaGrad.log')\n",
    "df5 = df5[['dice_coef', 'dice_coef_edema', 'dice_coef_enhancing', 'dice_coef_necrotic', 'mean_io_u']]\n",
    "df5 = pd.DataFrame(df5.mean().to_dict(),index=[df5.index.values[-1]])\n",
    "df5.insert(loc=0, column='Optimizer', value='AdaGrad')\n",
    "df5"
   ]
  },
  {
   "cell_type": "code",
   "execution_count": 40,
   "id": "d080d45b",
   "metadata": {},
   "outputs": [
    {
     "data": {
      "text/html": [
       "<div>\n",
       "<style scoped>\n",
       "    .dataframe tbody tr th:only-of-type {\n",
       "        vertical-align: middle;\n",
       "    }\n",
       "\n",
       "    .dataframe tbody tr th {\n",
       "        vertical-align: top;\n",
       "    }\n",
       "\n",
       "    .dataframe thead th {\n",
       "        text-align: right;\n",
       "    }\n",
       "</style>\n",
       "<table border=\"1\" class=\"dataframe\">\n",
       "  <thead>\n",
       "    <tr style=\"text-align: right;\">\n",
       "      <th></th>\n",
       "      <th>Optimizer</th>\n",
       "      <th>dice_coef</th>\n",
       "      <th>dice_coef_edema</th>\n",
       "      <th>dice_coef_enhancing</th>\n",
       "      <th>dice_coef_necrotic</th>\n",
       "      <th>mean_io_u</th>\n",
       "    </tr>\n",
       "  </thead>\n",
       "  <tbody>\n",
       "    <tr>\n",
       "      <th>59</th>\n",
       "      <td>AdaDelta</td>\n",
       "      <td>0.278061</td>\n",
       "      <td>0.159791</td>\n",
       "      <td>0.086211</td>\n",
       "      <td>0.101846</td>\n",
       "      <td>0.631212</td>\n",
       "    </tr>\n",
       "  </tbody>\n",
       "</table>\n",
       "</div>"
      ],
      "text/plain": [
       "   Optimizer  dice_coef  dice_coef_edema  dice_coef_enhancing  \\\n",
       "59  AdaDelta   0.278061         0.159791             0.086211   \n",
       "\n",
       "    dice_coef_necrotic  mean_io_u  \n",
       "59            0.101846   0.631212  "
      ]
     },
     "execution_count": 40,
     "metadata": {},
     "output_type": "execute_result"
    }
   ],
   "source": [
    "df6 = pd.read_csv('Logs/validation_200_2d_3ch_AdaDelta.log')\n",
    "df6 = df6[['dice_coef', 'dice_coef_edema', 'dice_coef_enhancing', 'dice_coef_necrotic', 'mean_io_u']]\n",
    "df6 = pd.DataFrame(df6.mean().to_dict(),index=[df6.index.values[-1]])\n",
    "df6.insert(loc=0, column='Optimizer', value='AdaDelta')\n",
    "df6"
   ]
  },
  {
   "cell_type": "code",
   "execution_count": 41,
   "id": "ce6fafa3",
   "metadata": {},
   "outputs": [
    {
     "name": "stdout",
     "output_type": "stream",
     "text": [
      "\\begin{tabular}{lrrrrr}\n",
      "\\toprule\n",
      "Optimizer &  dice\\_coef &  dice\\_coef\\_edema &  dice\\_coef\\_enhancing &  dice\\_coef\\_necrotic &  mean\\_io\\_u \\\\\n",
      "\\midrule\n",
      "     Adam &     0.6522 &           0.7912 &               0.7536 &              0.5811 &     0.7805 \\\\\n",
      "  AdaGrad &     0.3785 &           0.4618 &               0.2571 &              0.2492 &     0.7426 \\\\\n",
      " AdaDelta &     0.2818 &           0.1575 &               0.0972 &              0.1202 &     0.6585 \\\\\n",
      "     Adam &     0.5884 &           0.7153 &               0.6438 &              0.4842 &     0.7850 \\\\\n",
      "  AdaGrad &     0.3869 &           0.4808 &               0.3081 &              0.2669 &     0.7570 \\\\\n",
      " AdaDelta &     0.2781 &           0.1598 &               0.0862 &              0.1018 &     0.6312 \\\\\n",
      "\\bottomrule\n",
      "\\end{tabular}\n",
      "\n"
     ]
    },
    {
     "name": "stderr",
     "output_type": "stream",
     "text": [
      "C:\\Users\\VegardEikenes\\AppData\\Local\\Temp\\ipykernel_18812\\3644285479.py:2: FutureWarning: In future versions `DataFrame.to_latex` is expected to utilise the base implementation of `Styler.to_latex` for formatting and rendering. The arguments signature may therefore change. It is recommended instead to use `DataFrame.style.to_latex` which also contains additional functionality.\n",
      "  print(df.round(decimals=4).to_latex(index=False))\n"
     ]
    }
   ],
   "source": [
    "df = pd.concat([df, df2, df3, df4, df5, df6])\n",
    "print(df.round(decimals=4).to_latex(index=False))"
   ]
  },
  {
   "cell_type": "code",
   "execution_count": null,
   "id": "c1199a2f",
   "metadata": {},
   "outputs": [],
   "source": []
  }
 ],
 "metadata": {
  "kernelspec": {
   "display_name": "Python 3 (ipykernel)",
   "language": "python",
   "name": "python3"
  },
  "language_info": {
   "codemirror_mode": {
    "name": "ipython",
    "version": 3
   },
   "file_extension": ".py",
   "mimetype": "text/x-python",
   "name": "python",
   "nbconvert_exporter": "python",
   "pygments_lexer": "ipython3",
   "version": "3.9.16"
  }
 },
 "nbformat": 4,
 "nbformat_minor": 5
}
