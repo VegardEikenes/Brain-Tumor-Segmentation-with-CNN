{
 "cells": [
  {
   "cell_type": "code",
   "execution_count": 13,
   "id": "b614cdaf",
   "metadata": {},
   "outputs": [],
   "source": [
    "import pandas as pd"
   ]
  },
  {
   "cell_type": "markdown",
   "id": "36543921",
   "metadata": {},
   "source": [
    "### Testing subset"
   ]
  },
  {
   "cell_type": "code",
   "execution_count": 14,
   "id": "9fbd5208",
   "metadata": {},
   "outputs": [
    {
     "data": {
      "text/html": [
       "<div>\n",
       "<style scoped>\n",
       "    .dataframe tbody tr th:only-of-type {\n",
       "        vertical-align: middle;\n",
       "    }\n",
       "\n",
       "    .dataframe tbody tr th {\n",
       "        vertical-align: top;\n",
       "    }\n",
       "\n",
       "    .dataframe thead th {\n",
       "        text-align: right;\n",
       "    }\n",
       "</style>\n",
       "<table border=\"1\" class=\"dataframe\">\n",
       "  <thead>\n",
       "    <tr style=\"text-align: right;\">\n",
       "      <th></th>\n",
       "      <th>Modalities</th>\n",
       "      <th>dice_coef</th>\n",
       "      <th>dice_coef_edema</th>\n",
       "      <th>dice_coef_enhancing</th>\n",
       "      <th>dice_coef_necrotic</th>\n",
       "      <th>mean_io_u</th>\n",
       "    </tr>\n",
       "  </thead>\n",
       "  <tbody>\n",
       "    <tr>\n",
       "      <th>35</th>\n",
       "      <td>T1ce, T1, T2</td>\n",
       "      <td>0.441548</td>\n",
       "      <td>0.538517</td>\n",
       "      <td>0.334994</td>\n",
       "      <td>0.260693</td>\n",
       "      <td>0.604209</td>\n",
       "    </tr>\n",
       "  </tbody>\n",
       "</table>\n",
       "</div>"
      ],
      "text/plain": [
       "      Modalities  dice_coef  dice_coef_edema  dice_coef_enhancing  \\\n",
       "35  T1ce, T1, T2   0.441548         0.538517             0.334994   \n",
       "\n",
       "    dice_coef_necrotic  mean_io_u  \n",
       "35            0.260693   0.604209  "
      ]
     },
     "execution_count": 14,
     "metadata": {},
     "output_type": "execute_result"
    }
   ],
   "source": [
    "df = pd.read_csv('Logs/testing/3D_U_net_t1ce_t2_t1.log')\n",
    "df = df[['dice_coef', 'dice_coef_edema', 'dice_coef_enhancing', 'dice_coef_necrotic', 'mean_io_u']]\n",
    "df = pd.DataFrame(df.mean().to_dict(),index=[df.index.values[-1]])\n",
    "df.insert(loc=0, column='Modalities', value='T1ce, T1, T2')\n",
    "df"
   ]
  },
  {
   "cell_type": "code",
   "execution_count": 15,
   "id": "cc116ca3",
   "metadata": {},
   "outputs": [
    {
     "data": {
      "text/html": [
       "<div>\n",
       "<style scoped>\n",
       "    .dataframe tbody tr th:only-of-type {\n",
       "        vertical-align: middle;\n",
       "    }\n",
       "\n",
       "    .dataframe tbody tr th {\n",
       "        vertical-align: top;\n",
       "    }\n",
       "\n",
       "    .dataframe thead th {\n",
       "        text-align: right;\n",
       "    }\n",
       "</style>\n",
       "<table border=\"1\" class=\"dataframe\">\n",
       "  <thead>\n",
       "    <tr style=\"text-align: right;\">\n",
       "      <th></th>\n",
       "      <th>Modalities</th>\n",
       "      <th>dice_coef</th>\n",
       "      <th>dice_coef_edema</th>\n",
       "      <th>dice_coef_enhancing</th>\n",
       "      <th>dice_coef_necrotic</th>\n",
       "      <th>mean_io_u</th>\n",
       "    </tr>\n",
       "  </thead>\n",
       "  <tbody>\n",
       "    <tr>\n",
       "      <th>35</th>\n",
       "      <td>flair, T1ce, T2</td>\n",
       "      <td>0.540739</td>\n",
       "      <td>0.66607</td>\n",
       "      <td>0.579609</td>\n",
       "      <td>0.342992</td>\n",
       "      <td>0.526904</td>\n",
       "    </tr>\n",
       "  </tbody>\n",
       "</table>\n",
       "</div>"
      ],
      "text/plain": [
       "         Modalities  dice_coef  dice_coef_edema  dice_coef_enhancing  \\\n",
       "35  flair, T1ce, T2   0.540739          0.66607             0.579609   \n",
       "\n",
       "    dice_coef_necrotic  mean_io_u  \n",
       "35            0.342992   0.526904  "
      ]
     },
     "execution_count": 15,
     "metadata": {},
     "output_type": "execute_result"
    }
   ],
   "source": [
    "df2 = pd.read_csv('Logs/testing/3D_U_net_flair_t1ce_t2.log')\n",
    "df2 = df2[['dice_coef', 'dice_coef_edema', 'dice_coef_enhancing', 'dice_coef_necrotic', 'mean_io_u']]\n",
    "df2 = pd.DataFrame(df2.mean().to_dict(),index=[df.index.values[-1]])\n",
    "df2.insert(loc=0, column='Modalities', value='flair, T1ce, T2')\n",
    "df2"
   ]
  },
  {
   "cell_type": "code",
   "execution_count": 16,
   "id": "cad2a78a",
   "metadata": {},
   "outputs": [
    {
     "data": {
      "text/html": [
       "<div>\n",
       "<style scoped>\n",
       "    .dataframe tbody tr th:only-of-type {\n",
       "        vertical-align: middle;\n",
       "    }\n",
       "\n",
       "    .dataframe tbody tr th {\n",
       "        vertical-align: top;\n",
       "    }\n",
       "\n",
       "    .dataframe thead th {\n",
       "        text-align: right;\n",
       "    }\n",
       "</style>\n",
       "<table border=\"1\" class=\"dataframe\">\n",
       "  <thead>\n",
       "    <tr style=\"text-align: right;\">\n",
       "      <th></th>\n",
       "      <th>Modalities</th>\n",
       "      <th>dice_coef</th>\n",
       "      <th>dice_coef_edema</th>\n",
       "      <th>dice_coef_enhancing</th>\n",
       "      <th>dice_coef_necrotic</th>\n",
       "      <th>mean_io_u</th>\n",
       "    </tr>\n",
       "  </thead>\n",
       "  <tbody>\n",
       "    <tr>\n",
       "      <th>35</th>\n",
       "      <td>flair, T1ce, T1</td>\n",
       "      <td>0.319418</td>\n",
       "      <td>0.226711</td>\n",
       "      <td>0.189256</td>\n",
       "      <td>0.108176</td>\n",
       "      <td>0.390469</td>\n",
       "    </tr>\n",
       "  </tbody>\n",
       "</table>\n",
       "</div>"
      ],
      "text/plain": [
       "         Modalities  dice_coef  dice_coef_edema  dice_coef_enhancing  \\\n",
       "35  flair, T1ce, T1   0.319418         0.226711             0.189256   \n",
       "\n",
       "    dice_coef_necrotic  mean_io_u  \n",
       "35            0.108176   0.390469  "
      ]
     },
     "execution_count": 16,
     "metadata": {},
     "output_type": "execute_result"
    }
   ],
   "source": [
    "df3 = pd.read_csv('Logs/testing/3D_U_net_flair_t1ce_t1.log')\n",
    "df3 = df3[['dice_coef', 'dice_coef_edema', 'dice_coef_enhancing', 'dice_coef_necrotic', 'mean_io_u']]\n",
    "df3 = pd.DataFrame(df3.mean().to_dict(),index=[df.index.values[-1]])\n",
    "df3.insert(loc=0, column='Modalities', value='flair, T1ce, T1')\n",
    "df3"
   ]
  },
  {
   "cell_type": "code",
   "execution_count": 17,
   "id": "5ba21d48",
   "metadata": {},
   "outputs": [
    {
     "data": {
      "text/html": [
       "<div>\n",
       "<style scoped>\n",
       "    .dataframe tbody tr th:only-of-type {\n",
       "        vertical-align: middle;\n",
       "    }\n",
       "\n",
       "    .dataframe tbody tr th {\n",
       "        vertical-align: top;\n",
       "    }\n",
       "\n",
       "    .dataframe thead th {\n",
       "        text-align: right;\n",
       "    }\n",
       "</style>\n",
       "<table border=\"1\" class=\"dataframe\">\n",
       "  <thead>\n",
       "    <tr style=\"text-align: right;\">\n",
       "      <th></th>\n",
       "      <th>Modalities</th>\n",
       "      <th>dice_coef</th>\n",
       "      <th>dice_coef_edema</th>\n",
       "      <th>dice_coef_enhancing</th>\n",
       "      <th>dice_coef_necrotic</th>\n",
       "      <th>mean_io_u</th>\n",
       "    </tr>\n",
       "  </thead>\n",
       "  <tbody>\n",
       "    <tr>\n",
       "      <th>35</th>\n",
       "      <td>flair, T1, T2</td>\n",
       "      <td>0.454691</td>\n",
       "      <td>0.5991</td>\n",
       "      <td>0.27364</td>\n",
       "      <td>0.314165</td>\n",
       "      <td>0.5098</td>\n",
       "    </tr>\n",
       "  </tbody>\n",
       "</table>\n",
       "</div>"
      ],
      "text/plain": [
       "       Modalities  dice_coef  dice_coef_edema  dice_coef_enhancing  \\\n",
       "35  flair, T1, T2   0.454691           0.5991              0.27364   \n",
       "\n",
       "    dice_coef_necrotic  mean_io_u  \n",
       "35            0.314165     0.5098  "
      ]
     },
     "execution_count": 17,
     "metadata": {},
     "output_type": "execute_result"
    }
   ],
   "source": [
    "df4 = pd.read_csv('Logs/testing/3D_U_net_flair_t2_t1.log')\n",
    "df4 = df4[['dice_coef', 'dice_coef_edema', 'dice_coef_enhancing', 'dice_coef_necrotic', 'mean_io_u']]\n",
    "df4 = pd.DataFrame(df4.mean().to_dict(),index=[df.index.values[-1]])\n",
    "df4.insert(loc=0, column='Modalities', value='flair, T1, T2')\n",
    "df4"
   ]
  },
  {
   "cell_type": "code",
   "execution_count": 18,
   "id": "f501a470",
   "metadata": {},
   "outputs": [
    {
     "data": {
      "text/html": [
       "<div>\n",
       "<style scoped>\n",
       "    .dataframe tbody tr th:only-of-type {\n",
       "        vertical-align: middle;\n",
       "    }\n",
       "\n",
       "    .dataframe tbody tr th {\n",
       "        vertical-align: top;\n",
       "    }\n",
       "\n",
       "    .dataframe thead th {\n",
       "        text-align: right;\n",
       "    }\n",
       "</style>\n",
       "<table border=\"1\" class=\"dataframe\">\n",
       "  <thead>\n",
       "    <tr style=\"text-align: right;\">\n",
       "      <th></th>\n",
       "      <th>Modalities</th>\n",
       "      <th>dice_coef</th>\n",
       "      <th>dice_coef_edema</th>\n",
       "      <th>dice_coef_enhancing</th>\n",
       "      <th>dice_coef_necrotic</th>\n",
       "      <th>mean_io_u</th>\n",
       "    </tr>\n",
       "  </thead>\n",
       "  <tbody>\n",
       "    <tr>\n",
       "      <th>35</th>\n",
       "      <td>flair, T1ce, T1, T2</td>\n",
       "      <td>0.46414</td>\n",
       "      <td>0.704352</td>\n",
       "      <td>0.289565</td>\n",
       "      <td>0.22285</td>\n",
       "      <td>0.536419</td>\n",
       "    </tr>\n",
       "  </tbody>\n",
       "</table>\n",
       "</div>"
      ],
      "text/plain": [
       "             Modalities  dice_coef  dice_coef_edema  dice_coef_enhancing  \\\n",
       "35  flair, T1ce, T1, T2    0.46414         0.704352             0.289565   \n",
       "\n",
       "    dice_coef_necrotic  mean_io_u  \n",
       "35             0.22285   0.536419  "
      ]
     },
     "execution_count": 18,
     "metadata": {},
     "output_type": "execute_result"
    }
   ],
   "source": [
    "df5 = pd.read_csv('Logs/testing/3D_U_net_4ch.log')\n",
    "df5 = df5[['dice_coef', 'dice_coef_edema', 'dice_coef_enhancing', 'dice_coef_necrotic', 'mean_io_u_1']]\n",
    "df5 = df5.rename(columns={'mean_io_u_1': 'mean_io_u'})\n",
    "df5 = pd.DataFrame(df5.mean().to_dict(),index=[df.index.values[-1]])\n",
    "df5.insert(loc=0, column='Modalities', value='flair, T1ce, T1, T2')\n",
    "df5"
   ]
  },
  {
   "cell_type": "code",
   "execution_count": 19,
   "id": "fdded2a8",
   "metadata": {},
   "outputs": [
    {
     "data": {
      "text/html": [
       "<div>\n",
       "<style scoped>\n",
       "    .dataframe tbody tr th:only-of-type {\n",
       "        vertical-align: middle;\n",
       "    }\n",
       "\n",
       "    .dataframe tbody tr th {\n",
       "        vertical-align: top;\n",
       "    }\n",
       "\n",
       "    .dataframe thead th {\n",
       "        text-align: right;\n",
       "    }\n",
       "</style>\n",
       "<table border=\"1\" class=\"dataframe\">\n",
       "  <thead>\n",
       "    <tr style=\"text-align: right;\">\n",
       "      <th></th>\n",
       "      <th>Modalities</th>\n",
       "      <th>dice_coef</th>\n",
       "      <th>dice_coef_edema</th>\n",
       "      <th>dice_coef_enhancing</th>\n",
       "      <th>dice_coef_necrotic</th>\n",
       "      <th>mean_io_u</th>\n",
       "    </tr>\n",
       "  </thead>\n",
       "  <tbody>\n",
       "    <tr>\n",
       "      <th>35</th>\n",
       "      <td>flair, T1ce, T2</td>\n",
       "      <td>0.540739</td>\n",
       "      <td>0.666070</td>\n",
       "      <td>0.579609</td>\n",
       "      <td>0.342992</td>\n",
       "      <td>0.526904</td>\n",
       "    </tr>\n",
       "    <tr>\n",
       "      <th>35</th>\n",
       "      <td>flair, T1ce, T1, T2</td>\n",
       "      <td>0.464140</td>\n",
       "      <td>0.704352</td>\n",
       "      <td>0.289565</td>\n",
       "      <td>0.222850</td>\n",
       "      <td>0.536419</td>\n",
       "    </tr>\n",
       "    <tr>\n",
       "      <th>35</th>\n",
       "      <td>flair, T1, T2</td>\n",
       "      <td>0.454691</td>\n",
       "      <td>0.599100</td>\n",
       "      <td>0.273640</td>\n",
       "      <td>0.314165</td>\n",
       "      <td>0.509800</td>\n",
       "    </tr>\n",
       "    <tr>\n",
       "      <th>35</th>\n",
       "      <td>T1ce, T1, T2</td>\n",
       "      <td>0.441548</td>\n",
       "      <td>0.538517</td>\n",
       "      <td>0.334994</td>\n",
       "      <td>0.260693</td>\n",
       "      <td>0.604209</td>\n",
       "    </tr>\n",
       "    <tr>\n",
       "      <th>35</th>\n",
       "      <td>flair, T1ce, T1</td>\n",
       "      <td>0.319418</td>\n",
       "      <td>0.226711</td>\n",
       "      <td>0.189256</td>\n",
       "      <td>0.108176</td>\n",
       "      <td>0.390469</td>\n",
       "    </tr>\n",
       "  </tbody>\n",
       "</table>\n",
       "</div>"
      ],
      "text/plain": [
       "             Modalities  dice_coef  dice_coef_edema  dice_coef_enhancing  \\\n",
       "35      flair, T1ce, T2   0.540739         0.666070             0.579609   \n",
       "35  flair, T1ce, T1, T2   0.464140         0.704352             0.289565   \n",
       "35        flair, T1, T2   0.454691         0.599100             0.273640   \n",
       "35         T1ce, T1, T2   0.441548         0.538517             0.334994   \n",
       "35      flair, T1ce, T1   0.319418         0.226711             0.189256   \n",
       "\n",
       "    dice_coef_necrotic  mean_io_u  \n",
       "35            0.342992   0.526904  \n",
       "35            0.222850   0.536419  \n",
       "35            0.314165   0.509800  \n",
       "35            0.260693   0.604209  \n",
       "35            0.108176   0.390469  "
      ]
     },
     "execution_count": 19,
     "metadata": {},
     "output_type": "execute_result"
    }
   ],
   "source": [
    "test_df = pd.concat([df, df2, df3, df4, df5])\n",
    "test_df.sort_values(by=['dice_coef'], ascending=False, inplace=True)\n",
    "test_df"
   ]
  },
  {
   "cell_type": "markdown",
   "id": "d707480c",
   "metadata": {},
   "source": [
    "### Validation subset"
   ]
  },
  {
   "cell_type": "code",
   "execution_count": 22,
   "id": "ce9280ff",
   "metadata": {},
   "outputs": [
    {
     "data": {
      "text/html": [
       "<div>\n",
       "<style scoped>\n",
       "    .dataframe tbody tr th:only-of-type {\n",
       "        vertical-align: middle;\n",
       "    }\n",
       "\n",
       "    .dataframe tbody tr th {\n",
       "        vertical-align: top;\n",
       "    }\n",
       "\n",
       "    .dataframe thead th {\n",
       "        text-align: right;\n",
       "    }\n",
       "</style>\n",
       "<table border=\"1\" class=\"dataframe\">\n",
       "  <thead>\n",
       "    <tr style=\"text-align: right;\">\n",
       "      <th></th>\n",
       "      <th>Modalities</th>\n",
       "      <th>dice_coef</th>\n",
       "      <th>dice_coef_edema</th>\n",
       "      <th>dice_coef_enhancing</th>\n",
       "      <th>dice_coef_necrotic</th>\n",
       "      <th>mean_io_u</th>\n",
       "    </tr>\n",
       "  </thead>\n",
       "  <tbody>\n",
       "    <tr>\n",
       "      <th>35</th>\n",
       "      <td>flair, T1ce, T1, T2</td>\n",
       "      <td>0.432859</td>\n",
       "      <td>0.573087</td>\n",
       "      <td>0.276937</td>\n",
       "      <td>0.218319</td>\n",
       "      <td>0.558685</td>\n",
       "    </tr>\n",
       "  </tbody>\n",
       "</table>\n",
       "</div>"
      ],
      "text/plain": [
       "             Modalities  dice_coef  dice_coef_edema  dice_coef_enhancing  \\\n",
       "35  flair, T1ce, T1, T2   0.432859         0.573087             0.276937   \n",
       "\n",
       "    dice_coef_necrotic  mean_io_u  \n",
       "35            0.218319   0.558685  "
      ]
     },
     "execution_count": 22,
     "metadata": {},
     "output_type": "execute_result"
    }
   ],
   "source": [
    "df6 = pd.read_csv('Logs/validation/3D_U_net_4ch.log')\n",
    "df6 = df6[['dice_coef', 'dice_coef_edema', 'dice_coef_enhancing', 'dice_coef_necrotic', 'mean_io_u_1']]\n",
    "df6 = df6.rename(columns={'mean_io_u_1': 'mean_io_u'})\n",
    "df6 = pd.DataFrame(df6.mean().to_dict(),index=[df.index.values[-1]])\n",
    "df6.insert(loc=0, column='Modalities', value='flair, T1ce, T1, T2')\n",
    "df6"
   ]
  },
  {
   "cell_type": "code",
   "execution_count": 23,
   "id": "1c0aaa0c",
   "metadata": {},
   "outputs": [
    {
     "data": {
      "text/html": [
       "<div>\n",
       "<style scoped>\n",
       "    .dataframe tbody tr th:only-of-type {\n",
       "        vertical-align: middle;\n",
       "    }\n",
       "\n",
       "    .dataframe tbody tr th {\n",
       "        vertical-align: top;\n",
       "    }\n",
       "\n",
       "    .dataframe thead th {\n",
       "        text-align: right;\n",
       "    }\n",
       "</style>\n",
       "<table border=\"1\" class=\"dataframe\">\n",
       "  <thead>\n",
       "    <tr style=\"text-align: right;\">\n",
       "      <th></th>\n",
       "      <th>Modalities</th>\n",
       "      <th>dice_coef</th>\n",
       "      <th>dice_coef_edema</th>\n",
       "      <th>dice_coef_enhancing</th>\n",
       "      <th>dice_coef_necrotic</th>\n",
       "      <th>mean_io_u</th>\n",
       "    </tr>\n",
       "  </thead>\n",
       "  <tbody>\n",
       "    <tr>\n",
       "      <th>35</th>\n",
       "      <td>flair, T1ce, T1</td>\n",
       "      <td>0.313048</td>\n",
       "      <td>0.233789</td>\n",
       "      <td>0.170865</td>\n",
       "      <td>0.110565</td>\n",
       "      <td>0.391855</td>\n",
       "    </tr>\n",
       "  </tbody>\n",
       "</table>\n",
       "</div>"
      ],
      "text/plain": [
       "         Modalities  dice_coef  dice_coef_edema  dice_coef_enhancing  \\\n",
       "35  flair, T1ce, T1   0.313048         0.233789             0.170865   \n",
       "\n",
       "    dice_coef_necrotic  mean_io_u  \n",
       "35            0.110565   0.391855  "
      ]
     },
     "execution_count": 23,
     "metadata": {},
     "output_type": "execute_result"
    }
   ],
   "source": [
    "df7 = pd.read_csv('Logs/validation/3D_U_net_flair_t1ce_t1.log')\n",
    "df7 = df7[['dice_coef', 'dice_coef_edema', 'dice_coef_enhancing', 'dice_coef_necrotic', 'mean_io_u']]\n",
    "df7 = pd.DataFrame(df7.mean().to_dict(),index=[df.index.values[-1]])\n",
    "df7.insert(loc=0, column='Modalities', value='flair, T1ce, T1')\n",
    "df7"
   ]
  },
  {
   "cell_type": "code",
   "execution_count": 24,
   "id": "0c1c6928",
   "metadata": {},
   "outputs": [
    {
     "data": {
      "text/html": [
       "<div>\n",
       "<style scoped>\n",
       "    .dataframe tbody tr th:only-of-type {\n",
       "        vertical-align: middle;\n",
       "    }\n",
       "\n",
       "    .dataframe tbody tr th {\n",
       "        vertical-align: top;\n",
       "    }\n",
       "\n",
       "    .dataframe thead th {\n",
       "        text-align: right;\n",
       "    }\n",
       "</style>\n",
       "<table border=\"1\" class=\"dataframe\">\n",
       "  <thead>\n",
       "    <tr style=\"text-align: right;\">\n",
       "      <th></th>\n",
       "      <th>Modalities</th>\n",
       "      <th>dice_coef</th>\n",
       "      <th>dice_coef_edema</th>\n",
       "      <th>dice_coef_enhancing</th>\n",
       "      <th>dice_coef_necrotic</th>\n",
       "      <th>mean_io_u</th>\n",
       "    </tr>\n",
       "  </thead>\n",
       "  <tbody>\n",
       "    <tr>\n",
       "      <th>35</th>\n",
       "      <td>flair, T1ce, T2</td>\n",
       "      <td>0.507536</td>\n",
       "      <td>0.654166</td>\n",
       "      <td>0.499891</td>\n",
       "      <td>0.284614</td>\n",
       "      <td>0.535756</td>\n",
       "    </tr>\n",
       "  </tbody>\n",
       "</table>\n",
       "</div>"
      ],
      "text/plain": [
       "         Modalities  dice_coef  dice_coef_edema  dice_coef_enhancing  \\\n",
       "35  flair, T1ce, T2   0.507536         0.654166             0.499891   \n",
       "\n",
       "    dice_coef_necrotic  mean_io_u  \n",
       "35            0.284614   0.535756  "
      ]
     },
     "execution_count": 24,
     "metadata": {},
     "output_type": "execute_result"
    }
   ],
   "source": [
    "df8 = pd.read_csv('Logs/validation/3D_U_net_flair_t1ce_t2.log')\n",
    "df8 = df8[['dice_coef', 'dice_coef_edema', 'dice_coef_enhancing', 'dice_coef_necrotic', 'mean_io_u']]\n",
    "df8 = pd.DataFrame(df8.mean().to_dict(),index=[df.index.values[-1]])\n",
    "df8.insert(loc=0, column='Modalities', value='flair, T1ce, T2')\n",
    "df8"
   ]
  },
  {
   "cell_type": "code",
   "execution_count": 25,
   "id": "7ded44b6",
   "metadata": {},
   "outputs": [
    {
     "data": {
      "text/html": [
       "<div>\n",
       "<style scoped>\n",
       "    .dataframe tbody tr th:only-of-type {\n",
       "        vertical-align: middle;\n",
       "    }\n",
       "\n",
       "    .dataframe tbody tr th {\n",
       "        vertical-align: top;\n",
       "    }\n",
       "\n",
       "    .dataframe thead th {\n",
       "        text-align: right;\n",
       "    }\n",
       "</style>\n",
       "<table border=\"1\" class=\"dataframe\">\n",
       "  <thead>\n",
       "    <tr style=\"text-align: right;\">\n",
       "      <th></th>\n",
       "      <th>Modalities</th>\n",
       "      <th>dice_coef</th>\n",
       "      <th>dice_coef_edema</th>\n",
       "      <th>dice_coef_enhancing</th>\n",
       "      <th>dice_coef_necrotic</th>\n",
       "      <th>mean_io_u</th>\n",
       "    </tr>\n",
       "  </thead>\n",
       "  <tbody>\n",
       "    <tr>\n",
       "      <th>35</th>\n",
       "      <td>T1ce, T1, T2</td>\n",
       "      <td>0.433346</td>\n",
       "      <td>0.525512</td>\n",
       "      <td>0.333648</td>\n",
       "      <td>0.24412</td>\n",
       "      <td>0.597154</td>\n",
       "    </tr>\n",
       "  </tbody>\n",
       "</table>\n",
       "</div>"
      ],
      "text/plain": [
       "      Modalities  dice_coef  dice_coef_edema  dice_coef_enhancing  \\\n",
       "35  T1ce, T1, T2   0.433346         0.525512             0.333648   \n",
       "\n",
       "    dice_coef_necrotic  mean_io_u  \n",
       "35             0.24412   0.597154  "
      ]
     },
     "execution_count": 25,
     "metadata": {},
     "output_type": "execute_result"
    }
   ],
   "source": [
    "df9 = pd.read_csv('Logs/validation/3D_U_net_t1ce_t2_t1.log')\n",
    "df9 = df9[['dice_coef', 'dice_coef_edema', 'dice_coef_enhancing', 'dice_coef_necrotic', 'mean_io_u']]\n",
    "df9 = pd.DataFrame(df9.mean().to_dict(),index=[df.index.values[-1]])\n",
    "df9.insert(loc=0, column='Modalities', value='T1ce, T1, T2')\n",
    "df9"
   ]
  },
  {
   "cell_type": "code",
   "execution_count": 26,
   "id": "baf0643b",
   "metadata": {},
   "outputs": [
    {
     "data": {
      "text/html": [
       "<div>\n",
       "<style scoped>\n",
       "    .dataframe tbody tr th:only-of-type {\n",
       "        vertical-align: middle;\n",
       "    }\n",
       "\n",
       "    .dataframe tbody tr th {\n",
       "        vertical-align: top;\n",
       "    }\n",
       "\n",
       "    .dataframe thead th {\n",
       "        text-align: right;\n",
       "    }\n",
       "</style>\n",
       "<table border=\"1\" class=\"dataframe\">\n",
       "  <thead>\n",
       "    <tr style=\"text-align: right;\">\n",
       "      <th></th>\n",
       "      <th>Modalities</th>\n",
       "      <th>dice_coef</th>\n",
       "      <th>dice_coef_edema</th>\n",
       "      <th>dice_coef_enhancing</th>\n",
       "      <th>dice_coef_necrotic</th>\n",
       "      <th>mean_io_u</th>\n",
       "    </tr>\n",
       "  </thead>\n",
       "  <tbody>\n",
       "    <tr>\n",
       "      <th>35</th>\n",
       "      <td>flair, T1, T2</td>\n",
       "      <td>0.441267</td>\n",
       "      <td>0.545357</td>\n",
       "      <td>0.267143</td>\n",
       "      <td>0.289873</td>\n",
       "      <td>0.524942</td>\n",
       "    </tr>\n",
       "  </tbody>\n",
       "</table>\n",
       "</div>"
      ],
      "text/plain": [
       "       Modalities  dice_coef  dice_coef_edema  dice_coef_enhancing  \\\n",
       "35  flair, T1, T2   0.441267         0.545357             0.267143   \n",
       "\n",
       "    dice_coef_necrotic  mean_io_u  \n",
       "35            0.289873   0.524942  "
      ]
     },
     "execution_count": 26,
     "metadata": {},
     "output_type": "execute_result"
    }
   ],
   "source": [
    "df10 = pd.read_csv('Logs/validation/3D_U_net_flair_t2_t1.log')\n",
    "df10 = df10[['dice_coef', 'dice_coef_edema', 'dice_coef_enhancing', 'dice_coef_necrotic', 'mean_io_u']]\n",
    "df10 = pd.DataFrame(df10.mean().to_dict(),index=[df.index.values[-1]])\n",
    "df10.insert(loc=0, column='Modalities', value='flair, T1, T2')\n",
    "df10"
   ]
  },
  {
   "cell_type": "code",
   "execution_count": 27,
   "id": "aa730626",
   "metadata": {},
   "outputs": [
    {
     "data": {
      "text/html": [
       "<div>\n",
       "<style scoped>\n",
       "    .dataframe tbody tr th:only-of-type {\n",
       "        vertical-align: middle;\n",
       "    }\n",
       "\n",
       "    .dataframe tbody tr th {\n",
       "        vertical-align: top;\n",
       "    }\n",
       "\n",
       "    .dataframe thead th {\n",
       "        text-align: right;\n",
       "    }\n",
       "</style>\n",
       "<table border=\"1\" class=\"dataframe\">\n",
       "  <thead>\n",
       "    <tr style=\"text-align: right;\">\n",
       "      <th></th>\n",
       "      <th>Modalities</th>\n",
       "      <th>dice_coef</th>\n",
       "      <th>dice_coef_edema</th>\n",
       "      <th>dice_coef_enhancing</th>\n",
       "      <th>dice_coef_necrotic</th>\n",
       "      <th>mean_io_u</th>\n",
       "    </tr>\n",
       "  </thead>\n",
       "  <tbody>\n",
       "    <tr>\n",
       "      <th>35</th>\n",
       "      <td>flair, T1ce, T2</td>\n",
       "      <td>0.507536</td>\n",
       "      <td>0.654166</td>\n",
       "      <td>0.499891</td>\n",
       "      <td>0.284614</td>\n",
       "      <td>0.535756</td>\n",
       "    </tr>\n",
       "    <tr>\n",
       "      <th>35</th>\n",
       "      <td>flair, T1, T2</td>\n",
       "      <td>0.441267</td>\n",
       "      <td>0.545357</td>\n",
       "      <td>0.267143</td>\n",
       "      <td>0.289873</td>\n",
       "      <td>0.524942</td>\n",
       "    </tr>\n",
       "    <tr>\n",
       "      <th>35</th>\n",
       "      <td>T1ce, T1, T2</td>\n",
       "      <td>0.433346</td>\n",
       "      <td>0.525512</td>\n",
       "      <td>0.333648</td>\n",
       "      <td>0.244120</td>\n",
       "      <td>0.597154</td>\n",
       "    </tr>\n",
       "    <tr>\n",
       "      <th>35</th>\n",
       "      <td>flair, T1ce, T1, T2</td>\n",
       "      <td>0.432859</td>\n",
       "      <td>0.573087</td>\n",
       "      <td>0.276937</td>\n",
       "      <td>0.218319</td>\n",
       "      <td>0.558685</td>\n",
       "    </tr>\n",
       "    <tr>\n",
       "      <th>35</th>\n",
       "      <td>flair, T1ce, T1</td>\n",
       "      <td>0.313048</td>\n",
       "      <td>0.233789</td>\n",
       "      <td>0.170865</td>\n",
       "      <td>0.110565</td>\n",
       "      <td>0.391855</td>\n",
       "    </tr>\n",
       "  </tbody>\n",
       "</table>\n",
       "</div>"
      ],
      "text/plain": [
       "             Modalities  dice_coef  dice_coef_edema  dice_coef_enhancing  \\\n",
       "35      flair, T1ce, T2   0.507536         0.654166             0.499891   \n",
       "35        flair, T1, T2   0.441267         0.545357             0.267143   \n",
       "35         T1ce, T1, T2   0.433346         0.525512             0.333648   \n",
       "35  flair, T1ce, T1, T2   0.432859         0.573087             0.276937   \n",
       "35      flair, T1ce, T1   0.313048         0.233789             0.170865   \n",
       "\n",
       "    dice_coef_necrotic  mean_io_u  \n",
       "35            0.284614   0.535756  \n",
       "35            0.289873   0.524942  \n",
       "35            0.244120   0.597154  \n",
       "35            0.218319   0.558685  \n",
       "35            0.110565   0.391855  "
      ]
     },
     "execution_count": 27,
     "metadata": {},
     "output_type": "execute_result"
    }
   ],
   "source": [
    "valid_df = pd.concat([df6, df7, df8, df9, df10])\n",
    "valid_df.sort_values(by=['dice_coef'], ascending=False, inplace=True)\n",
    "valid_df"
   ]
  },
  {
   "cell_type": "code",
   "execution_count": 28,
   "id": "6f71c6fd",
   "metadata": {},
   "outputs": [
    {
     "name": "stdout",
     "output_type": "stream",
     "text": [
      "\\begin{tabular}{lrrrrr}\n",
      "\\toprule\n",
      "         Modalities &  dice\\_coef &  dice\\_coef\\_edema &  dice\\_coef\\_enhancing &  dice\\_coef\\_necrotic &  mean\\_io\\_u \\\\\n",
      "\\midrule\n",
      "    flair, T1ce, T2 &     0.5407 &           0.6661 &               0.5796 &              0.3430 &     0.5269 \\\\\n",
      "flair, T1ce, T1, T2 &     0.4641 &           0.7044 &               0.2896 &              0.2228 &     0.5364 \\\\\n",
      "      flair, T1, T2 &     0.4547 &           0.5991 &               0.2736 &              0.3142 &     0.5098 \\\\\n",
      "       T1ce, T1, T2 &     0.4415 &           0.5385 &               0.3350 &              0.2607 &     0.6042 \\\\\n",
      "    flair, T1ce, T1 &     0.3194 &           0.2267 &               0.1893 &              0.1082 &     0.3905 \\\\\n",
      "    flair, T1ce, T2 &     0.5075 &           0.6542 &               0.4999 &              0.2846 &     0.5358 \\\\\n",
      "      flair, T1, T2 &     0.4413 &           0.5454 &               0.2671 &              0.2899 &     0.5249 \\\\\n",
      "       T1ce, T1, T2 &     0.4333 &           0.5255 &               0.3336 &              0.2441 &     0.5972 \\\\\n",
      "flair, T1ce, T1, T2 &     0.4329 &           0.5731 &               0.2769 &              0.2183 &     0.5587 \\\\\n",
      "    flair, T1ce, T1 &     0.3130 &           0.2338 &               0.1709 &              0.1106 &     0.3919 \\\\\n",
      "\\bottomrule\n",
      "\\end{tabular}\n",
      "\n"
     ]
    },
    {
     "name": "stderr",
     "output_type": "stream",
     "text": [
      "C:\\Users\\VegardEikenes\\AppData\\Local\\Temp\\ipykernel_17440\\3326558337.py:2: FutureWarning: In future versions `DataFrame.to_latex` is expected to utilise the base implementation of `Styler.to_latex` for formatting and rendering. The arguments signature may therefore change. It is recommended instead to use `DataFrame.style.to_latex` which also contains additional functionality.\n",
      "  print(concated.round(decimals=4).to_latex(index=False))\n"
     ]
    }
   ],
   "source": [
    "concated = pd.concat([test_df, valid_df])\n",
    "print(concated.round(decimals=4).to_latex(index=False))"
   ]
  },
  {
   "cell_type": "code",
   "execution_count": null,
   "id": "7d505f51",
   "metadata": {},
   "outputs": [],
   "source": []
  },
  {
   "cell_type": "code",
   "execution_count": null,
   "id": "875846f2",
   "metadata": {},
   "outputs": [],
   "source": [
    "concated = pd.concat([test_df, valid_df])\n",
    "print(concated.round(decimals=4).to_latex(index=False))"
   ]
  },
  {
   "cell_type": "code",
   "execution_count": null,
   "id": "eeec3c80",
   "metadata": {},
   "outputs": [],
   "source": []
  }
 ],
 "metadata": {
  "kernelspec": {
   "display_name": "Python 3 (ipykernel)",
   "language": "python",
   "name": "python3"
  },
  "language_info": {
   "codemirror_mode": {
    "name": "ipython",
    "version": 3
   },
   "file_extension": ".py",
   "mimetype": "text/x-python",
   "name": "python",
   "nbconvert_exporter": "python",
   "pygments_lexer": "ipython3",
   "version": "3.9.16"
  }
 },
 "nbformat": 4,
 "nbformat_minor": 5
}
