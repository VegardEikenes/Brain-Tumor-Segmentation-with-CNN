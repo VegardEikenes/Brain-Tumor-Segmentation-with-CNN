{
 "cells": [
  {
   "cell_type": "code",
   "execution_count": 1,
   "id": "0cc5735f",
   "metadata": {},
   "outputs": [],
   "source": [
    "import os\n",
    "import cv2\n",
    "import glob\n",
    "import PIL\n",
    "import shutil\n",
    "import numpy as np\n",
    "import pandas as pd\n",
    "from Unet3D import *\n",
    "from metrics3D import *\n",
    "from Datagens import *\n",
    "\n",
    "from tensorflow import keras\n",
    "import keras.backend as K\n",
    "from keras.callbacks import CSVLogger\n",
    "import tensorflow as tf\n",
    "from tensorflow.keras.utils import plot_model\n",
    "from sklearn.preprocessing import MinMaxScaler\n",
    "from sklearn.model_selection import train_test_split\n",
    "from sklearn.metrics import classification_report\n",
    "from tensorflow.keras.optimizers import *\n",
    "from tensorflow.keras.callbacks import ModelCheckpoint, ReduceLROnPlateau, EarlyStopping, TensorBoard\n",
    "from tensorflow.keras.layers.experimental import preprocessing\n",
    "\n",
    "np.set_printoptions(precision=3, suppress=True)\n",
    "\n",
    "CSVLogger.on_test_begin = CSVLogger.on_train_begin\n",
    "CSVLogger.on_test_batch_end = CSVLogger.on_epoch_end\n",
    "CSVLogger.on_test_end = CSVLogger.on_train_end"
   ]
  },
  {
   "cell_type": "code",
   "execution_count": 2,
   "id": "4069e8af",
   "metadata": {},
   "outputs": [
    {
     "name": "stdout",
     "output_type": "stream",
     "text": [
      "Model: \"model\"\n",
      "__________________________________________________________________________________________________\n",
      " Layer (type)                   Output Shape         Param #     Connected to                     \n",
      "==================================================================================================\n",
      " input_1 (InputLayer)           [(None, 128, 128, 1  0           []                               \n",
      "                                28, 4)]                                                           \n",
      "                                                                                                  \n",
      " conv3d (Conv3D)                (None, 128, 128, 12  1744        ['input_1[0][0]']                \n",
      "                                8, 16)                                                            \n",
      "                                                                                                  \n",
      " conv3d_1 (Conv3D)              (None, 128, 128, 12  6928        ['conv3d[0][0]']                 \n",
      "                                8, 16)                                                            \n",
      "                                                                                                  \n",
      " max_pooling3d (MaxPooling3D)   (None, 64, 64, 64,   0           ['conv3d_1[0][0]']               \n",
      "                                16)                                                               \n",
      "                                                                                                  \n",
      " conv3d_2 (Conv3D)              (None, 64, 64, 64,   13856       ['max_pooling3d[0][0]']          \n",
      "                                32)                                                               \n",
      "                                                                                                  \n",
      " conv3d_3 (Conv3D)              (None, 64, 64, 64,   27680       ['conv3d_2[0][0]']               \n",
      "                                32)                                                               \n",
      "                                                                                                  \n",
      " max_pooling3d_1 (MaxPooling3D)  (None, 32, 32, 32,   0          ['conv3d_3[0][0]']               \n",
      "                                32)                                                               \n",
      "                                                                                                  \n",
      " conv3d_4 (Conv3D)              (None, 32, 32, 32,   55360       ['max_pooling3d_1[0][0]']        \n",
      "                                64)                                                               \n",
      "                                                                                                  \n",
      " conv3d_5 (Conv3D)              (None, 32, 32, 32,   110656      ['conv3d_4[0][0]']               \n",
      "                                64)                                                               \n",
      "                                                                                                  \n",
      " max_pooling3d_2 (MaxPooling3D)  (None, 16, 16, 16,   0          ['conv3d_5[0][0]']               \n",
      "                                64)                                                               \n",
      "                                                                                                  \n",
      " conv3d_6 (Conv3D)              (None, 16, 16, 16,   221312      ['max_pooling3d_2[0][0]']        \n",
      "                                128)                                                              \n",
      "                                                                                                  \n",
      " dropout (Dropout)              (None, 16, 16, 16,   0           ['conv3d_6[0][0]']               \n",
      "                                128)                                                              \n",
      "                                                                                                  \n",
      " max_pooling3d_3 (MaxPooling3D)  (None, 8, 8, 8, 128  0          ['dropout[0][0]']                \n",
      "                                )                                                                 \n",
      "                                                                                                  \n",
      " conv3d_8 (Conv3D)              (None, 8, 8, 8, 256  884992      ['max_pooling3d_3[0][0]']        \n",
      "                                )                                                                 \n",
      "                                                                                                  \n",
      " dropout_1 (Dropout)            (None, 8, 8, 8, 256  0           ['conv3d_8[0][0]']               \n",
      "                                )                                                                 \n",
      "                                                                                                  \n",
      " up_sampling3d (UpSampling3D)   (None, 16, 16, 16,   0           ['dropout_1[0][0]']              \n",
      "                                256)                                                              \n",
      "                                                                                                  \n",
      " conv3d_7 (Conv3D)              (None, 16, 16, 16,   442496      ['conv3d_6[0][0]']               \n",
      "                                128)                                                              \n",
      "                                                                                                  \n",
      " conv3d_10 (Conv3D)             (None, 16, 16, 16,   262272      ['up_sampling3d[0][0]']          \n",
      "                                128)                                                              \n",
      "                                                                                                  \n",
      " concatenate (Concatenate)      (None, 16, 16, 16,   0           ['conv3d_7[0][0]',               \n",
      "                                256)                              'conv3d_10[0][0]']              \n",
      "                                                                                                  \n",
      " conv3d_11 (Conv3D)             (None, 16, 16, 16,   884864      ['concatenate[0][0]']            \n",
      "                                128)                                                              \n",
      "                                                                                                  \n",
      " conv3d_12 (Conv3D)             (None, 16, 16, 16,   442496      ['conv3d_11[0][0]']              \n",
      "                                128)                                                              \n",
      "                                                                                                  \n",
      " up_sampling3d_1 (UpSampling3D)  (None, 32, 32, 32,   0          ['conv3d_12[0][0]']              \n",
      "                                128)                                                              \n",
      "                                                                                                  \n",
      " conv3d_13 (Conv3D)             (None, 32, 32, 32,   65600       ['up_sampling3d_1[0][0]']        \n",
      "                                64)                                                               \n",
      "                                                                                                  \n",
      " concatenate_1 (Concatenate)    (None, 32, 32, 32,   0           ['conv3d_5[0][0]',               \n",
      "                                128)                              'conv3d_13[0][0]']              \n",
      "                                                                                                  \n",
      " conv3d_14 (Conv3D)             (None, 32, 32, 32,   221248      ['concatenate_1[0][0]']          \n",
      "                                64)                                                               \n",
      "                                                                                                  \n",
      " conv3d_15 (Conv3D)             (None, 32, 32, 32,   110656      ['conv3d_14[0][0]']              \n",
      "                                64)                                                               \n",
      "                                                                                                  \n",
      " up_sampling3d_2 (UpSampling3D)  (None, 64, 64, 64,   0          ['conv3d_15[0][0]']              \n",
      "                                64)                                                               \n"
     ]
    },
    {
     "name": "stdout",
     "output_type": "stream",
     "text": [
      "                                                                                                  \n",
      " conv3d_16 (Conv3D)             (None, 64, 64, 64,   16416       ['up_sampling3d_2[0][0]']        \n",
      "                                32)                                                               \n",
      "                                                                                                  \n",
      " concatenate_2 (Concatenate)    (None, 64, 64, 64,   0           ['conv3d_3[0][0]',               \n",
      "                                64)                               'conv3d_16[0][0]']              \n",
      "                                                                                                  \n",
      " conv3d_17 (Conv3D)             (None, 64, 64, 64,   55328       ['concatenate_2[0][0]']          \n",
      "                                32)                                                               \n",
      "                                                                                                  \n",
      " conv3d_18 (Conv3D)             (None, 64, 64, 64,   27680       ['conv3d_17[0][0]']              \n",
      "                                32)                                                               \n",
      "                                                                                                  \n",
      " up_sampling3d_3 (UpSampling3D)  (None, 128, 128, 12  0          ['conv3d_18[0][0]']              \n",
      "                                8, 32)                                                            \n",
      "                                                                                                  \n",
      " conv3d_19 (Conv3D)             (None, 128, 128, 12  4112        ['up_sampling3d_3[0][0]']        \n",
      "                                8, 16)                                                            \n",
      "                                                                                                  \n",
      " concatenate_3 (Concatenate)    (None, 128, 128, 12  0           ['conv3d_1[0][0]',               \n",
      "                                8, 32)                            'conv3d_19[0][0]']              \n",
      "                                                                                                  \n",
      " conv3d_20 (Conv3D)             (None, 128, 128, 12  13840       ['concatenate_3[0][0]']          \n",
      "                                8, 16)                                                            \n",
      "                                                                                                  \n",
      " conv3d_21 (Conv3D)             (None, 128, 128, 12  6928        ['conv3d_20[0][0]']              \n",
      "                                8, 16)                                                            \n",
      "                                                                                                  \n",
      " conv2d (Conv2D)                (None, 128, 128, 12  68          ['conv3d_21[0][0]']              \n",
      "                                8, 4)                                                             \n",
      "                                                                                                  \n",
      "==================================================================================================\n",
      "Total params: 3,876,532\n",
      "Trainable params: 3,876,532\n",
      "Non-trainable params: 0\n",
      "__________________________________________________________________________________________________\n"
     ]
    }
   ],
   "source": [
    "model = build_3Dunet(n_channels=4, ker_init='he_normal', dropout=0.2)\n",
    "model.compile(loss=\"categorical_crossentropy\", optimizer=keras.optimizers.Adam(learning_rate=0.001), metrics = ['accuracy',tf.keras.metrics.MeanIoU(num_classes=4), dice_coef, dice_coef_necrotic, dice_coef_edema ,dice_coef_enhancing] )"
   ]
  },
  {
   "cell_type": "code",
   "execution_count": 3,
   "id": "d65ec8c2",
   "metadata": {},
   "outputs": [],
   "source": [
    "directory = [f.path for f in os.scandir(PATH) if f.is_dir()]\n",
    "\n",
    "\n",
    "def generate_ids(dirLst):\n",
    "    ids = []\n",
    "    for i in range(0,len(dirLst)):\n",
    "        ids.append(dirLst[i][dirLst[i].rfind('/')+1:])\n",
    "    return ids\n",
    "\n",
    "train_and_test_ids = generate_ids(directory); \n",
    "\n",
    "    \n",
    "train_test_ids, val_ids = train_test_split(train_and_test_ids, train_size=236, test_size=60, random_state=14) \n",
    "train_ids, test_ids = train_test_split(train_test_ids, test_size=36, random_state=14) "
   ]
  },
  {
   "cell_type": "code",
   "execution_count": 4,
   "id": "8324c1fe",
   "metadata": {},
   "outputs": [
    {
     "name": "stdout",
     "output_type": "stream",
     "text": [
      "200\n",
      "60\n",
      "36\n"
     ]
    }
   ],
   "source": [
    "print(len(train_ids))\n",
    "print(len(val_ids))\n",
    "print(len(test_ids))"
   ]
  },
  {
   "cell_type": "code",
   "execution_count": 5,
   "id": "e99387b8",
   "metadata": {},
   "outputs": [],
   "source": [
    "training_generator = DataGenerator3D(train_ids)\n",
    "valid_generator = DataGenerator3D(val_ids)\n",
    "test_generator = DataGenerator3D(test_ids)"
   ]
  },
  {
   "cell_type": "code",
   "execution_count": 6,
   "id": "c8daa650",
   "metadata": {},
   "outputs": [],
   "source": [
    "csv_logger = CSVLogger('Logs/training/3D_U_net_resized.log', separator=',', append=True)\n",
    "\n",
    "eval_csv_logger = CSVLogger('Logs/testing/3D_U_net_resized.log', separator=',', append=True)\n",
    "\n",
    "callbacks = [\n",
    "      keras.callbacks.ReduceLROnPlateau(monitor='val_loss', factor=0.2,\n",
    "                              patience=2, min_lr=0.000001, verbose=1),\n",
    "        csv_logger\n",
    "    ]"
   ]
  },
  {
   "cell_type": "code",
   "execution_count": 7,
   "id": "e7467351",
   "metadata": {},
   "outputs": [
    {
     "name": "stdout",
     "output_type": "stream",
     "text": [
      "Epoch 1/100\n",
      "200/200 [==============================] - 103s 463ms/step - loss: 0.0971 - accuracy: 0.9859 - mean_io_u: 0.6899 - dice_coef: 0.2569 - dice_coef_necrotic: 0.0546 - dice_coef_edema: 0.0466 - dice_coef_enhancing: 0.0146 - val_loss: 0.0472 - val_accuracy: 0.9899 - val_mean_io_u: 0.8022 - val_dice_coef: 0.2663 - val_dice_coef_necrotic: 0.0879 - val_dice_coef_edema: 0.0383 - val_dice_coef_enhancing: 0.0169 - lr: 0.0010\n",
      "Epoch 2/100\n",
      "200/200 [==============================] - 92s 459ms/step - loss: 0.0717 - accuracy: 0.9861 - mean_io_u: 0.7463 - dice_coef: 0.2588 - dice_coef_necrotic: 0.0490 - dice_coef_edema: 0.0528 - dice_coef_enhancing: 0.0228 - val_loss: 0.0478 - val_accuracy: 0.9899 - val_mean_io_u: 0.8568 - val_dice_coef: 0.2715 - val_dice_coef_necrotic: 0.0909 - val_dice_coef_edema: 0.1041 - val_dice_coef_enhancing: 0.0258 - lr: 0.0010\n",
      "Epoch 3/100\n",
      "200/200 [==============================] - 92s 461ms/step - loss: 0.0463 - accuracy: 0.9908 - mean_io_u: 0.8473 - dice_coef: 0.2685 - dice_coef_necrotic: 0.0935 - dice_coef_edema: 0.0681 - dice_coef_enhancing: 0.0224 - val_loss: 0.0453 - val_accuracy: 0.9898 - val_mean_io_u: 0.8183 - val_dice_coef: 0.2845 - val_dice_coef_necrotic: 0.1605 - val_dice_coef_edema: 0.0722 - val_dice_coef_enhancing: 0.1303 - lr: 0.0010\n",
      "Epoch 4/100\n",
      "200/200 [==============================] - 92s 460ms/step - loss: 0.0410 - accuracy: 0.9909 - mean_io_u: 0.8590 - dice_coef: 0.2783 - dice_coef_necrotic: 0.1438 - dice_coef_edema: 0.0766 - dice_coef_enhancing: 0.0319 - val_loss: 0.0813 - val_accuracy: 0.9899 - val_mean_io_u: 0.8629 - val_dice_coef: 0.2647 - val_dice_coef_necrotic: 1.0162e-04 - val_dice_coef_edema: 0.0904 - val_dice_coef_enhancing: 5.4337e-05 - lr: 0.0010\n",
      "Epoch 5/100\n",
      "200/200 [==============================] - ETA: 0s - loss: 0.1080 - accuracy: 0.9895 - mean_io_u: 0.8013 - dice_coef: 0.2677 - dice_coef_necrotic: 0.0889 - dice_coef_edema: 0.0337 - dice_coef_enhancing: 0.0600\n",
      "Epoch 5: ReduceLROnPlateau reducing learning rate to 0.00020000000949949026.\n",
      "200/200 [==============================] - 92s 458ms/step - loss: 0.1080 - accuracy: 0.9895 - mean_io_u: 0.8013 - dice_coef: 0.2677 - dice_coef_necrotic: 0.0889 - dice_coef_edema: 0.0337 - dice_coef_enhancing: 0.0600 - val_loss: 0.0485 - val_accuracy: 0.9899 - val_mean_io_u: 0.8419 - val_dice_coef: 0.2680 - val_dice_coef_necrotic: 0.0370 - val_dice_coef_edema: 0.0285 - val_dice_coef_enhancing: 0.0865 - lr: 0.0010\n",
      "Epoch 6/100\n",
      "200/200 [==============================] - 92s 461ms/step - loss: 0.0386 - accuracy: 0.9913 - mean_io_u: 0.8292 - dice_coef: 0.2755 - dice_coef_necrotic: 0.0686 - dice_coef_edema: 0.0577 - dice_coef_enhancing: 0.1157 - val_loss: 0.0428 - val_accuracy: 0.9899 - val_mean_io_u: 0.8212 - val_dice_coef: 0.2793 - val_dice_coef_necrotic: 0.0936 - val_dice_coef_edema: 0.0848 - val_dice_coef_enhancing: 0.1259 - lr: 2.0000e-04\n",
      "Epoch 7/100\n",
      "200/200 [==============================] - 92s 459ms/step - loss: 0.0364 - accuracy: 0.9913 - mean_io_u: 0.8291 - dice_coef: 0.2811 - dice_coef_necrotic: 0.0870 - dice_coef_edema: 0.0765 - dice_coef_enhancing: 0.1205 - val_loss: 0.0388 - val_accuracy: 0.9899 - val_mean_io_u: 0.8295 - val_dice_coef: 0.2925 - val_dice_coef_necrotic: 0.1171 - val_dice_coef_edema: 0.0956 - val_dice_coef_enhancing: 0.1383 - lr: 2.0000e-04\n",
      "Epoch 8/100\n",
      "200/200 [==============================] - 92s 459ms/step - loss: 0.0340 - accuracy: 0.9913 - mean_io_u: 0.8286 - dice_coef: 0.2928 - dice_coef_necrotic: 0.1336 - dice_coef_edema: 0.1009 - dice_coef_enhancing: 0.1145 - val_loss: 0.0392 - val_accuracy: 0.9899 - val_mean_io_u: 0.8339 - val_dice_coef: 0.2991 - val_dice_coef_necrotic: 0.2249 - val_dice_coef_edema: 0.1902 - val_dice_coef_enhancing: 0.0513 - lr: 2.0000e-04\n",
      "Epoch 9/100\n",
      "200/200 [==============================] - ETA: 0s - loss: 0.0537 - accuracy: 0.9909 - mean_io_u: 0.8260 - dice_coef: 0.2805 - dice_coef_necrotic: 0.1057 - dice_coef_edema: 0.1220 - dice_coef_enhancing: 0.0154\n",
      "Epoch 9: ReduceLROnPlateau reducing learning rate to 4.0000001899898055e-05.\n",
      "200/200 [==============================] - 92s 460ms/step - loss: 0.0537 - accuracy: 0.9909 - mean_io_u: 0.8260 - dice_coef: 0.2805 - dice_coef_necrotic: 0.1057 - dice_coef_edema: 0.1220 - dice_coef_enhancing: 0.0154 - val_loss: 0.0484 - val_accuracy: 0.9899 - val_mean_io_u: 0.8037 - val_dice_coef: 0.2777 - val_dice_coef_necrotic: 0.0493 - val_dice_coef_edema: 0.1822 - val_dice_coef_enhancing: 0.0084 - lr: 2.0000e-04\n",
      "Epoch 10/100\n",
      "200/200 [==============================] - 92s 461ms/step - loss: 0.9829 - accuracy: 0.9858 - mean_io_u: 0.6408 - dice_coef: 0.2667 - dice_coef_necrotic: 0.0627 - dice_coef_edema: 0.0641 - dice_coef_enhancing: 0.0033 - val_loss: 17.5656 - val_accuracy: 0.9884 - val_mean_io_u: 0.9808 - val_dice_coef: 0.2486 - val_dice_coef_necrotic: 0.0000e+00 - val_dice_coef_edema: 0.0000e+00 - val_dice_coef_enhancing: 6.9953e-05 - lr: 4.0000e-05\n",
      "Epoch 11/100\n",
      "200/200 [==============================] - ETA: 0s - loss: 364780.0312 - accuracy: 0.9641 - mean_io_u: 0.9528 - dice_coef: 0.2477 - dice_coef_necrotic: 0.0023 - dice_coef_edema: 0.0015 - dice_coef_enhancing: 2.0467e-04\n",
      "Epoch 11: ReduceLROnPlateau reducing learning rate to 8.000000525498762e-06.\n",
      "200/200 [==============================] - 92s 458ms/step - loss: 364780.0312 - accuracy: 0.9641 - mean_io_u: 0.9528 - dice_coef: 0.2477 - dice_coef_necrotic: 0.0023 - dice_coef_edema: 0.0015 - dice_coef_enhancing: 2.0467e-04 - val_loss: 6949455.5000 - val_accuracy: 0.9899 - val_mean_io_u: 0.9858 - val_dice_coef: 0.2590 - val_dice_coef_necrotic: 0.0000e+00 - val_dice_coef_edema: 0.0000e+00 - val_dice_coef_enhancing: 0.0000e+00 - lr: 4.0000e-05\n",
      "Epoch 12/100\n",
      "200/200 [==============================] - 92s 459ms/step - loss: 1847757.8750 - accuracy: 0.9603 - mean_io_u: 0.9482 - dice_coef: 0.2532 - dice_coef_necrotic: 0.0084 - dice_coef_edema: 0.0086 - dice_coef_enhancing: 1.6231e-04 - val_loss: 1832660.1250 - val_accuracy: 0.9414 - val_mean_io_u: 0.9249 - val_dice_coef: 0.2457 - val_dice_coef_necrotic: 0.0118 - val_dice_coef_edema: 0.0000e+00 - val_dice_coef_enhancing: 0.0012 - lr: 8.0000e-06\n",
      "Epoch 13/100\n",
      "200/200 [==============================] - ETA: 0s - loss: 3894706.5000 - accuracy: 0.9583 - mean_io_u: 0.9457 - dice_coef: 0.2490 - dice_coef_necrotic: 0.0045 - dice_coef_edema: 0.0077 - dice_coef_enhancing: 8.0758e-05\n",
      "Epoch 13: ReduceLROnPlateau reducing learning rate to 1.6000001778593287e-06.\n",
      "200/200 [==============================] - 92s 460ms/step - loss: 3894706.5000 - accuracy: 0.9583 - mean_io_u: 0.9457 - dice_coef: 0.2490 - dice_coef_necrotic: 0.0045 - dice_coef_edema: 0.0077 - dice_coef_enhancing: 8.0758e-05 - val_loss: 4855866.0000 - val_accuracy: 0.8753 - val_mean_io_u: 0.8489 - val_dice_coef: 0.2477 - val_dice_coef_necrotic: 0.0330 - val_dice_coef_edema: 0.0230 - val_dice_coef_enhancing: 7.7773e-04 - lr: 8.0000e-06\n",
      "Epoch 14/100\n",
      "200/200 [==============================] - 92s 461ms/step - loss: 4103676.2500 - accuracy: 0.9449 - mean_io_u: 0.9291 - dice_coef: 0.2490 - dice_coef_necrotic: 0.0123 - dice_coef_edema: 0.0121 - dice_coef_enhancing: 2.3133e-04 - val_loss: 5011264.5000 - val_accuracy: 0.9729 - val_mean_io_u: 0.9640 - val_dice_coef: 0.2495 - val_dice_coef_necrotic: 8.0124e-05 - val_dice_coef_edema: 0.0120 - val_dice_coef_enhancing: 0.0000e+00 - lr: 1.6000e-06\n",
      "Epoch 15/100\n",
      "200/200 [==============================] - ETA: 0s - loss: 4519935.5000 - accuracy: 0.9450 - mean_io_u: 0.9293 - dice_coef: 0.2492 - dice_coef_necrotic: 0.0125 - dice_coef_edema: 0.0127 - dice_coef_enhancing: 2.5973e-04\n",
      "Epoch 15: ReduceLROnPlateau reducing learning rate to 1e-06.\n",
      "200/200 [==============================] - 94s 468ms/step - loss: 4519935.5000 - accuracy: 0.9450 - mean_io_u: 0.9293 - dice_coef: 0.2492 - dice_coef_necrotic: 0.0125 - dice_coef_edema: 0.0127 - dice_coef_enhancing: 2.5973e-04 - val_loss: 5916209.5000 - val_accuracy: 0.9740 - val_mean_io_u: 0.9653 - val_dice_coef: 0.2467 - val_dice_coef_necrotic: 8.4203e-05 - val_dice_coef_edema: 3.3524e-05 - val_dice_coef_enhancing: 3.3394e-05 - lr: 1.6000e-06\n",
      "Epoch 16/100\n",
      "200/200 [==============================] - 92s 458ms/step - loss: 4848205.0000 - accuracy: 0.9423 - mean_io_u: 0.9260 - dice_coef: 0.2490 - dice_coef_necrotic: 0.0134 - dice_coef_edema: 0.0125 - dice_coef_enhancing: 2.0747e-04 - val_loss: 5235662.5000 - val_accuracy: 0.9431 - val_mean_io_u: 0.9269 - val_dice_coef: 0.2483 - val_dice_coef_necrotic: 0.0137 - val_dice_coef_edema: 0.0088 - val_dice_coef_enhancing: 1.6640e-04 - lr: 1.0000e-06\n",
      "Epoch 17/100\n",
      "200/200 [==============================] - 92s 458ms/step - loss: 5133647.5000 - accuracy: 0.9418 - mean_io_u: 0.9254 - dice_coef: 0.2489 - dice_coef_necrotic: 0.0134 - dice_coef_edema: 0.0122 - dice_coef_enhancing: 1.7331e-04 - val_loss: 5498839.5000 - val_accuracy: 0.9443 - val_mean_io_u: 0.9283 - val_dice_coef: 0.2484 - val_dice_coef_necrotic: 0.0110 - val_dice_coef_edema: 0.0116 - val_dice_coef_enhancing: 7.4903e-05 - lr: 1.0000e-06\n",
      "Epoch 18/100\n",
      "200/200 [==============================] - 92s 458ms/step - loss: 5395506.5000 - accuracy: 0.9426 - mean_io_u: 0.9263 - dice_coef: 0.2491 - dice_coef_necrotic: 0.0145 - dice_coef_edema: 0.0114 - dice_coef_enhancing: 1.5462e-04 - val_loss: 5811391.0000 - val_accuracy: 0.9438 - val_mean_io_u: 0.9277 - val_dice_coef: 0.2482 - val_dice_coef_necrotic: 0.0085 - val_dice_coef_edema: 0.0135 - val_dice_coef_enhancing: 2.3941e-04 - lr: 1.0000e-06\n",
      "Epoch 19/100\n",
      "200/200 [==============================] - 92s 458ms/step - loss: 5695629.5000 - accuracy: 0.9418 - mean_io_u: 0.9253 - dice_coef: 0.2486 - dice_coef_necrotic: 0.0137 - dice_coef_edema: 0.0109 - dice_coef_enhancing: 1.8461e-04 - val_loss: 6078014.0000 - val_accuracy: 0.9432 - val_mean_io_u: 0.9270 - val_dice_coef: 0.2483 - val_dice_coef_necrotic: 0.0112 - val_dice_coef_edema: 0.0115 - val_dice_coef_enhancing: 1.7541e-04 - lr: 1.0000e-06\n",
      "Epoch 20/100\n",
      "200/200 [==============================] - 92s 460ms/step - loss: 5978511.5000 - accuracy: 0.9409 - mean_io_u: 0.9243 - dice_coef: 0.2485 - dice_coef_necrotic: 0.0136 - dice_coef_edema: 0.0107 - dice_coef_enhancing: 1.6290e-04 - val_loss: 6376226.0000 - val_accuracy: 0.9332 - val_mean_io_u: 0.9150 - val_dice_coef: 0.2493 - val_dice_coef_necrotic: 0.0156 - val_dice_coef_edema: 0.0162 - val_dice_coef_enhancing: 1.8256e-04 - lr: 1.0000e-06\n",
      "Epoch 21/100\n",
      "200/200 [==============================] - 93s 463ms/step - loss: 6196720.5000 - accuracy: 0.9405 - mean_io_u: 0.9238 - dice_coef: 0.2487 - dice_coef_necrotic: 0.0151 - dice_coef_edema: 0.0103 - dice_coef_enhancing: 2.0239e-04 - val_loss: 6619161.0000 - val_accuracy: 0.9423 - val_mean_io_u: 0.9259 - val_dice_coef: 0.2485 - val_dice_coef_necrotic: 0.0126 - val_dice_coef_edema: 0.0114 - val_dice_coef_enhancing: 1.8289e-04 - lr: 1.0000e-06\n",
      "Epoch 22/100\n",
      "200/200 [==============================] - 92s 461ms/step - loss: 6431945.5000 - accuracy: 0.9407 - mean_io_u: 0.9240 - dice_coef: 0.2484 - dice_coef_necrotic: 0.0135 - dice_coef_edema: 0.0106 - dice_coef_enhancing: 2.1017e-04 - val_loss: 6921607.5000 - val_accuracy: 0.9442 - val_mean_io_u: 0.9283 - val_dice_coef: 0.2476 - val_dice_coef_necrotic: 0.0100 - val_dice_coef_edema: 0.0091 - val_dice_coef_enhancing: 2.7228e-04 - lr: 1.0000e-06\n",
      "Epoch 23/100\n",
      "200/200 [==============================] - 91s 457ms/step - loss: 6699175.0000 - accuracy: 0.9391 - mean_io_u: 0.9221 - dice_coef: 0.2477 - dice_coef_necrotic: 0.0127 - dice_coef_edema: 0.0098 - dice_coef_enhancing: 2.3562e-04 - val_loss: 7335866.5000 - val_accuracy: 0.9545 - val_mean_io_u: 0.9409 - val_dice_coef: 0.2475 - val_dice_coef_necrotic: 0.0051 - val_dice_coef_edema: 0.0085 - val_dice_coef_enhancing: 0.0000e+00 - lr: 1.0000e-06\n",
      "Epoch 24/100\n",
      "200/200 [==============================] - 92s 460ms/step - loss: 6998037.0000 - accuracy: 0.9390 - mean_io_u: 0.9220 - dice_coef: 0.2477 - dice_coef_necrotic: 0.0123 - dice_coef_edema: 0.0101 - dice_coef_enhancing: 1.7121e-04 - val_loss: 7588945.0000 - val_accuracy: 0.9518 - val_mean_io_u: 0.9375 - val_dice_coef: 0.2472 - val_dice_coef_necrotic: 0.0052 - val_dice_coef_edema: 0.0085 - val_dice_coef_enhancing: 5.9041e-05 - lr: 1.0000e-06\n",
      "Epoch 25/100\n",
      "200/200 [==============================] - 92s 462ms/step - loss: 7175679.5000 - accuracy: 0.9387 - mean_io_u: 0.9216 - dice_coef: 0.2479 - dice_coef_necrotic: 0.0133 - dice_coef_edema: 0.0100 - dice_coef_enhancing: 1.8937e-04 - val_loss: 7684025.5000 - val_accuracy: 0.9387 - val_mean_io_u: 0.9216 - val_dice_coef: 0.2482 - val_dice_coef_necrotic: 0.0133 - val_dice_coef_edema: 0.0113 - val_dice_coef_enhancing: 9.8825e-05 - lr: 1.0000e-06\n",
      "Epoch 26/100\n",
      "200/200 [==============================] - 92s 457ms/step - loss: 7619357.0000 - accuracy: 0.9384 - mean_io_u: 0.9212 - dice_coef: 0.2474 - dice_coef_necrotic: 0.0114 - dice_coef_edema: 0.0099 - dice_coef_enhancing: 2.2234e-04 - val_loss: 7965635.0000 - val_accuracy: 0.9294 - val_mean_io_u: 0.9105 - val_dice_coef: 0.2482 - val_dice_coef_necrotic: 0.0157 - val_dice_coef_edema: 0.0136 - val_dice_coef_enhancing: 2.0379e-04 - lr: 1.0000e-06\n",
      "Epoch 27/100\n",
      "200/200 [==============================] - 93s 463ms/step - loss: 7737094.5000 - accuracy: 0.9382 - mean_io_u: 0.9210 - dice_coef: 0.2476 - dice_coef_necrotic: 0.0123 - dice_coef_edema: 0.0103 - dice_coef_enhancing: 1.4715e-04 - val_loss: 8435835.0000 - val_accuracy: 0.9481 - val_mean_io_u: 0.9330 - val_dice_coef: 0.2472 - val_dice_coef_necrotic: 0.0058 - val_dice_coef_edema: 0.0098 - val_dice_coef_enhancing: 1.6103e-04 - lr: 1.0000e-06\n",
      "Epoch 28/100\n",
      "200/200 [==============================] - 92s 461ms/step - loss: 8134514.0000 - accuracy: 0.9378 - mean_io_u: 0.9206 - dice_coef: 0.2474 - dice_coef_necrotic: 0.0116 - dice_coef_edema: 0.0100 - dice_coef_enhancing: 1.8500e-04 - val_loss: 8624532.0000 - val_accuracy: 0.9431 - val_mean_io_u: 0.9270 - val_dice_coef: 0.2478 - val_dice_coef_necrotic: 0.0082 - val_dice_coef_edema: 0.0125 - val_dice_coef_enhancing: 7.3768e-05 - lr: 1.0000e-06\n",
      "Epoch 29/100\n",
      "200/200 [==============================] - 93s 465ms/step - loss: 8478858.0000 - accuracy: 0.9390 - mean_io_u: 0.9220 - dice_coef: 0.2473 - dice_coef_necrotic: 0.0111 - dice_coef_edema: 0.0096 - dice_coef_enhancing: 1.5619e-04 - val_loss: 9006167.0000 - val_accuracy: 0.9368 - val_mean_io_u: 0.9193 - val_dice_coef: 0.2469 - val_dice_coef_necrotic: 0.0098 - val_dice_coef_edema: 0.0101 - val_dice_coef_enhancing: 5.7810e-04 - lr: 1.0000e-06\n",
      "Epoch 30/100\n",
      "200/200 [==============================] - 92s 458ms/step - loss: 8674511.0000 - accuracy: 0.9376 - mean_io_u: 0.9203 - dice_coef: 0.2474 - dice_coef_necrotic: 0.0116 - dice_coef_edema: 0.0102 - dice_coef_enhancing: 2.0932e-04 - val_loss: 9588663.0000 - val_accuracy: 0.9118 - val_mean_io_u: 0.8899 - val_dice_coef: 0.2480 - val_dice_coef_necrotic: 0.0211 - val_dice_coef_edema: 0.0166 - val_dice_coef_enhancing: 2.6825e-04 - lr: 1.0000e-06\n",
      "Epoch 31/100\n",
      "200/200 [==============================] - 91s 457ms/step - loss: 9109300.0000 - accuracy: 0.9380 - mean_io_u: 0.9208 - dice_coef: 0.2473 - dice_coef_necrotic: 0.0110 - dice_coef_edema: 0.0102 - dice_coef_enhancing: 1.3935e-04 - val_loss: 9859463.0000 - val_accuracy: 0.9162 - val_mean_io_u: 0.8950 - val_dice_coef: 0.2481 - val_dice_coef_necrotic: 0.0200 - val_dice_coef_edema: 0.0159 - val_dice_coef_enhancing: 1.6407e-04 - lr: 1.0000e-06\n",
      "Epoch 32/100\n",
      "200/200 [==============================] - 92s 460ms/step - loss: 9457971.0000 - accuracy: 0.9378 - mean_io_u: 0.9206 - dice_coef: 0.2475 - dice_coef_necrotic: 0.0114 - dice_coef_edema: 0.0108 - dice_coef_enhancing: 1.5118e-04 - val_loss: 9977143.0000 - val_accuracy: 0.9393 - val_mean_io_u: 0.9223 - val_dice_coef: 0.2476 - val_dice_coef_necrotic: 0.0097 - val_dice_coef_edema: 0.0121 - val_dice_coef_enhancing: 2.5874e-04 - lr: 1.0000e-06\n",
      "Epoch 33/100\n",
      "200/200 [==============================] - 93s 464ms/step - loss: 9686794.0000 - accuracy: 0.9384 - mean_io_u: 0.9213 - dice_coef: 0.2474 - dice_coef_necrotic: 0.0111 - dice_coef_edema: 0.0106 - dice_coef_enhancing: 1.4906e-04 - val_loss: 10450163.0000 - val_accuracy: 0.9493 - val_mean_io_u: 0.9345 - val_dice_coef: 0.2478 - val_dice_coef_necrotic: 0.0055 - val_dice_coef_edema: 0.0121 - val_dice_coef_enhancing: 4.2887e-05 - lr: 1.0000e-06\n",
      "Epoch 34/100\n"
     ]
    },
    {
     "name": "stdout",
     "output_type": "stream",
     "text": [
      "200/200 [==============================] - 93s 463ms/step - loss: 9985780.0000 - accuracy: 0.9386 - mean_io_u: 0.9215 - dice_coef: 0.2476 - dice_coef_necrotic: 0.0114 - dice_coef_edema: 0.0109 - dice_coef_enhancing: 1.6956e-04 - val_loss: 10760501.0000 - val_accuracy: 0.9448 - val_mean_io_u: 0.9290 - val_dice_coef: 0.2480 - val_dice_coef_necrotic: 0.0091 - val_dice_coef_edema: 0.0117 - val_dice_coef_enhancing: 7.1871e-05 - lr: 1.0000e-06\n",
      "Epoch 35/100\n",
      "200/200 [==============================] - 92s 459ms/step - loss: 10335969.0000 - accuracy: 0.9384 - mean_io_u: 0.9212 - dice_coef: 0.2475 - dice_coef_necrotic: 0.0111 - dice_coef_edema: 0.0109 - dice_coef_enhancing: 1.2698e-04 - val_loss: 11469397.0000 - val_accuracy: 0.9105 - val_mean_io_u: 0.8884 - val_dice_coef: 0.2476 - val_dice_coef_necrotic: 0.0213 - val_dice_coef_edema: 0.0158 - val_dice_coef_enhancing: 3.3772e-04 - lr: 1.0000e-06\n",
      "Epoch 36/100\n",
      "200/200 [==============================] - 92s 459ms/step - loss: 10814063.0000 - accuracy: 0.9378 - mean_io_u: 0.9206 - dice_coef: 0.2472 - dice_coef_necrotic: 0.0102 - dice_coef_edema: 0.0107 - dice_coef_enhancing: 1.4143e-04 - val_loss: 11437271.0000 - val_accuracy: 0.9376 - val_mean_io_u: 0.9202 - val_dice_coef: 0.2477 - val_dice_coef_necrotic: 0.0102 - val_dice_coef_edema: 0.0131 - val_dice_coef_enhancing: 1.0940e-04 - lr: 1.0000e-06\n",
      "Epoch 37/100\n",
      "200/200 [==============================] - 92s 460ms/step - loss: 11354897.0000 - accuracy: 0.9390 - mean_io_u: 0.9219 - dice_coef: 0.2473 - dice_coef_necrotic: 0.0100 - dice_coef_edema: 0.0109 - dice_coef_enhancing: 1.6431e-04 - val_loss: 11869959.0000 - val_accuracy: 0.9434 - val_mean_io_u: 0.9273 - val_dice_coef: 0.2480 - val_dice_coef_necrotic: 0.0088 - val_dice_coef_edema: 0.0126 - val_dice_coef_enhancing: 1.5863e-05 - lr: 1.0000e-06\n",
      "Epoch 38/100\n",
      "200/200 [==============================] - 93s 463ms/step - loss: 11421784.0000 - accuracy: 0.9388 - mean_io_u: 0.9218 - dice_coef: 0.2477 - dice_coef_necrotic: 0.0113 - dice_coef_edema: 0.0112 - dice_coef_enhancing: 1.5082e-04 - val_loss: 12471239.0000 - val_accuracy: 0.9562 - val_mean_io_u: 0.9429 - val_dice_coef: 0.2476 - val_dice_coef_necrotic: 0.0036 - val_dice_coef_edema: 0.0094 - val_dice_coef_enhancing: 3.4171e-05 - lr: 1.0000e-06\n",
      "Epoch 39/100\n",
      "200/200 [==============================] - 92s 461ms/step - loss: 11861608.0000 - accuracy: 0.9404 - mean_io_u: 0.9236 - dice_coef: 0.2477 - dice_coef_necrotic: 0.0102 - dice_coef_edema: 0.0113 - dice_coef_enhancing: 1.3041e-04 - val_loss: 12816619.0000 - val_accuracy: 0.9139 - val_mean_io_u: 0.8923 - val_dice_coef: 0.2484 - val_dice_coef_necrotic: 0.0236 - val_dice_coef_edema: 0.0148 - val_dice_coef_enhancing: 3.1740e-04 - lr: 1.0000e-06\n",
      "Epoch 40/100\n",
      "200/200 [==============================] - 92s 460ms/step - loss: 12266596.0000 - accuracy: 0.9406 - mean_io_u: 0.9240 - dice_coef: 0.2477 - dice_coef_necrotic: 0.0095 - dice_coef_edema: 0.0122 - dice_coef_enhancing: 9.3951e-05 - val_loss: 12802260.0000 - val_accuracy: 0.9430 - val_mean_io_u: 0.9269 - val_dice_coef: 0.2485 - val_dice_coef_necrotic: 0.0089 - val_dice_coef_edema: 0.0149 - val_dice_coef_enhancing: 2.4505e-05 - lr: 1.0000e-06\n",
      "Epoch 41/100\n",
      "200/200 [==============================] - 91s 457ms/step - loss: 12572836.0000 - accuracy: 0.9433 - mean_io_u: 0.9272 - dice_coef: 0.2481 - dice_coef_necrotic: 0.0089 - dice_coef_edema: 0.0128 - dice_coef_enhancing: 8.6212e-05 - val_loss: 13459275.0000 - val_accuracy: 0.9243 - val_mean_io_u: 0.9044 - val_dice_coef: 0.2482 - val_dice_coef_necrotic: 0.0196 - val_dice_coef_edema: 0.0124 - val_dice_coef_enhancing: 3.8198e-04 - lr: 1.0000e-06\n",
      "Epoch 42/100\n",
      "200/200 [==============================] - 92s 460ms/step - loss: 12848524.0000 - accuracy: 0.9404 - mean_io_u: 0.9237 - dice_coef: 0.2477 - dice_coef_necrotic: 0.0086 - dice_coef_edema: 0.0130 - dice_coef_enhancing: 1.2231e-04 - val_loss: 13565689.0000 - val_accuracy: 0.9451 - val_mean_io_u: 0.9294 - val_dice_coef: 0.2484 - val_dice_coef_necrotic: 0.0083 - val_dice_coef_edema: 0.0138 - val_dice_coef_enhancing: 9.6867e-05 - lr: 1.0000e-06\n",
      "Epoch 43/100\n",
      "200/200 [==============================] - 92s 460ms/step - loss: 13324225.0000 - accuracy: 0.9414 - mean_io_u: 0.9249 - dice_coef: 0.2477 - dice_coef_necrotic: 0.0078 - dice_coef_edema: 0.0134 - dice_coef_enhancing: 8.9170e-05 - val_loss: 14027522.0000 - val_accuracy: 0.9360 - val_mean_io_u: 0.9183 - val_dice_coef: 0.2482 - val_dice_coef_necrotic: 0.0131 - val_dice_coef_edema: 0.0126 - val_dice_coef_enhancing: 3.0182e-04 - lr: 1.0000e-06\n",
      "Epoch 44/100\n",
      "200/200 [==============================] - 92s 460ms/step - loss: 13571567.0000 - accuracy: 0.9424 - mean_io_u: 0.9261 - dice_coef: 0.2483 - dice_coef_necrotic: 0.0083 - dice_coef_edema: 0.0146 - dice_coef_enhancing: 1.0447e-04 - val_loss: 14410246.0000 - val_accuracy: 0.9273 - val_mean_io_u: 0.9080 - val_dice_coef: 0.2497 - val_dice_coef_necrotic: 0.0184 - val_dice_coef_edema: 0.0180 - val_dice_coef_enhancing: 2.7477e-04 - lr: 1.0000e-06\n",
      "Epoch 45/100\n",
      "200/200 [==============================] - 92s 460ms/step - loss: 13916366.0000 - accuracy: 0.9444 - mean_io_u: 0.9285 - dice_coef: 0.2490 - dice_coef_necrotic: 0.0081 - dice_coef_edema: 0.0167 - dice_coef_enhancing: 1.3960e-04 - val_loss: 15166629.0000 - val_accuracy: 0.9585 - val_mean_io_u: 0.9458 - val_dice_coef: 0.2501 - val_dice_coef_necrotic: 0.0021 - val_dice_coef_edema: 0.0198 - val_dice_coef_enhancing: 3.0420e-05 - lr: 1.0000e-06\n",
      "Epoch 46/100\n",
      "200/200 [==============================] - 92s 459ms/step - loss: 14463877.0000 - accuracy: 0.9451 - mean_io_u: 0.9294 - dice_coef: 0.2493 - dice_coef_necrotic: 0.0081 - dice_coef_edema: 0.0177 - dice_coef_enhancing: 1.0710e-04 - val_loss: 15413183.0000 - val_accuracy: 0.9284 - val_mean_io_u: 0.9094 - val_dice_coef: 0.2509 - val_dice_coef_necrotic: 0.0138 - val_dice_coef_edema: 0.0265 - val_dice_coef_enhancing: 5.2265e-04 - lr: 1.0000e-06\n",
      "Epoch 47/100\n",
      "200/200 [==============================] - 92s 458ms/step - loss: 14746077.0000 - accuracy: 0.9440 - mean_io_u: 0.9280 - dice_coef: 0.2495 - dice_coef_necrotic: 0.0092 - dice_coef_edema: 0.0178 - dice_coef_enhancing: 8.1352e-05 - val_loss: 16797836.0000 - val_accuracy: 0.9666 - val_mean_io_u: 0.9560 - val_dice_coef: 0.2494 - val_dice_coef_necrotic: 8.7493e-04 - val_dice_coef_edema: 0.0140 - val_dice_coef_enhancing: 1.6390e-05 - lr: 1.0000e-06\n",
      "Epoch 48/100\n",
      "200/200 [==============================] - 93s 463ms/step - loss: 15397670.0000 - accuracy: 0.9447 - mean_io_u: 0.9290 - dice_coef: 0.2494 - dice_coef_necrotic: 0.0091 - dice_coef_edema: 0.0173 - dice_coef_enhancing: 8.6721e-05 - val_loss: 16417567.0000 - val_accuracy: 0.9531 - val_mean_io_u: 0.9391 - val_dice_coef: 0.2493 - val_dice_coef_necrotic: 0.0037 - val_dice_coef_edema: 0.0176 - val_dice_coef_enhancing: 1.5295e-04 - lr: 1.0000e-06\n",
      "Epoch 49/100\n",
      "200/200 [==============================] - 93s 463ms/step - loss: 16119859.0000 - accuracy: 0.9457 - mean_io_u: 0.9301 - dice_coef: 0.2492 - dice_coef_necrotic: 0.0076 - dice_coef_edema: 0.0172 - dice_coef_enhancing: 8.9410e-05 - val_loss: 17190786.0000 - val_accuracy: 0.9144 - val_mean_io_u: 0.8930 - val_dice_coef: 0.2510 - val_dice_coef_necrotic: 0.0222 - val_dice_coef_edema: 0.0256 - val_dice_coef_enhancing: 5.8512e-04 - lr: 1.0000e-06\n",
      "Epoch 50/100\n",
      "200/200 [==============================] - 93s 463ms/step - loss: 16201263.0000 - accuracy: 0.9430 - mean_io_u: 0.9268 - dice_coef: 0.2497 - dice_coef_necrotic: 0.0100 - dice_coef_edema: 0.0182 - dice_coef_enhancing: 8.5231e-05 - val_loss: 17160808.0000 - val_accuracy: 0.9468 - val_mean_io_u: 0.9315 - val_dice_coef: 0.2505 - val_dice_coef_necrotic: 0.0072 - val_dice_coef_edema: 0.0223 - val_dice_coef_enhancing: 1.0919e-04 - lr: 1.0000e-06\n",
      "Epoch 51/100\n",
      "200/200 [==============================] - 93s 463ms/step - loss: 16957878.0000 - accuracy: 0.9441 - mean_io_u: 0.9282 - dice_coef: 0.2498 - dice_coef_necrotic: 0.0097 - dice_coef_edema: 0.0184 - dice_coef_enhancing: 1.1852e-04 - val_loss: 17761882.0000 - val_accuracy: 0.9475 - val_mean_io_u: 0.9323 - val_dice_coef: 0.2497 - val_dice_coef_necrotic: 0.0087 - val_dice_coef_edema: 0.0172 - val_dice_coef_enhancing: 1.2245e-04 - lr: 1.0000e-06\n"
     ]
    },
    {
     "name": "stdout",
     "output_type": "stream",
     "text": [
      "Epoch 52/100\n",
      "200/200 [==============================] - 94s 470ms/step - loss: 17527008.0000 - accuracy: 0.9452 - mean_io_u: 0.9296 - dice_coef: 0.2496 - dice_coef_necrotic: 0.0091 - dice_coef_edema: 0.0177 - dice_coef_enhancing: 1.2626e-04 - val_loss: 18721256.0000 - val_accuracy: 0.9517 - val_mean_io_u: 0.9374 - val_dice_coef: 0.2491 - val_dice_coef_necrotic: 0.0064 - val_dice_coef_edema: 0.0149 - val_dice_coef_enhancing: 1.8327e-04 - lr: 1.0000e-06\n",
      "Epoch 53/100\n",
      "200/200 [==============================] - 91s 456ms/step - loss: 17999484.0000 - accuracy: 0.9427 - mean_io_u: 0.9265 - dice_coef: 0.2496 - dice_coef_necrotic: 0.0107 - dice_coef_edema: 0.0173 - dice_coef_enhancing: 1.1198e-04 - val_loss: 20243162.0000 - val_accuracy: 0.9605 - val_mean_io_u: 0.9483 - val_dice_coef: 0.2482 - val_dice_coef_necrotic: 0.0042 - val_dice_coef_edema: 0.0090 - val_dice_coef_enhancing: 5.1159e-05 - lr: 1.0000e-06\n",
      "Epoch 54/100\n",
      "200/200 [==============================] - 92s 457ms/step - loss: 18888716.0000 - accuracy: 0.9440 - mean_io_u: 0.9281 - dice_coef: 0.2496 - dice_coef_necrotic: 0.0105 - dice_coef_edema: 0.0166 - dice_coef_enhancing: 1.3650e-04 - val_loss: 19776904.0000 - val_accuracy: 0.9278 - val_mean_io_u: 0.9087 - val_dice_coef: 0.2515 - val_dice_coef_necrotic: 0.0171 - val_dice_coef_edema: 0.0259 - val_dice_coef_enhancing: 2.5113e-04 - lr: 1.0000e-06\n",
      "Epoch 55/100\n",
      "200/200 [==============================] - 93s 462ms/step - loss: 19238928.0000 - accuracy: 0.9419 - mean_io_u: 0.9255 - dice_coef: 0.2497 - dice_coef_necrotic: 0.0111 - dice_coef_edema: 0.0176 - dice_coef_enhancing: 1.5337e-04 - val_loss: 20712702.0000 - val_accuracy: 0.9240 - val_mean_io_u: 0.9042 - val_dice_coef: 0.2517 - val_dice_coef_necrotic: 0.0189 - val_dice_coef_edema: 0.0273 - val_dice_coef_enhancing: 8.5782e-05 - lr: 1.0000e-06\n",
      "Epoch 56/100\n",
      "200/200 [==============================] - 92s 460ms/step - loss: 19949090.0000 - accuracy: 0.9439 - mean_io_u: 0.9280 - dice_coef: 0.2499 - dice_coef_necrotic: 0.0107 - dice_coef_edema: 0.0177 - dice_coef_enhancing: 1.8273e-04 - val_loss: 22300844.0000 - val_accuracy: 0.9625 - val_mean_io_u: 0.9508 - val_dice_coef: 0.2486 - val_dice_coef_necrotic: 0.0052 - val_dice_coef_edema: 0.0084 - val_dice_coef_enhancing: 1.3299e-05 - lr: 1.0000e-06\n",
      "Epoch 57/100\n",
      "200/200 [==============================] - 93s 465ms/step - loss: 20474082.0000 - accuracy: 0.9433 - mean_io_u: 0.9272 - dice_coef: 0.2496 - dice_coef_necrotic: 0.0113 - dice_coef_edema: 0.0165 - dice_coef_enhancing: 1.2977e-04 - val_loss: 21377602.0000 - val_accuracy: 0.9371 - val_mean_io_u: 0.9197 - val_dice_coef: 0.2511 - val_dice_coef_necrotic: 0.0141 - val_dice_coef_edema: 0.0225 - val_dice_coef_enhancing: 3.3329e-04 - lr: 1.0000e-06\n",
      "Epoch 58/100\n",
      "200/200 [==============================] - 92s 459ms/step - loss: 21616884.0000 - accuracy: 0.9428 - mean_io_u: 0.9266 - dice_coef: 0.2493 - dice_coef_necrotic: 0.0103 - dice_coef_edema: 0.0166 - dice_coef_enhancing: 1.9307e-04 - val_loss: 23018638.0000 - val_accuracy: 0.9575 - val_mean_io_u: 0.9446 - val_dice_coef: 0.2494 - val_dice_coef_necrotic: 0.0070 - val_dice_coef_edema: 0.0124 - val_dice_coef_enhancing: 8.9796e-05 - lr: 1.0000e-06\n",
      "Epoch 59/100\n",
      "200/200 [==============================] - 92s 461ms/step - loss: 22082234.0000 - accuracy: 0.9443 - mean_io_u: 0.9284 - dice_coef: 0.2497 - dice_coef_necrotic: 0.0104 - dice_coef_edema: 0.0171 - dice_coef_enhancing: 1.7224e-04 - val_loss: 22990558.0000 - val_accuracy: 0.9493 - val_mean_io_u: 0.9345 - val_dice_coef: 0.2505 - val_dice_coef_necrotic: 0.0106 - val_dice_coef_edema: 0.0177 - val_dice_coef_enhancing: 1.0977e-04 - lr: 1.0000e-06\n",
      "Epoch 60/100\n",
      "200/200 [==============================] - 92s 459ms/step - loss: 23069400.0000 - accuracy: 0.9435 - mean_io_u: 0.9275 - dice_coef: 0.2494 - dice_coef_necrotic: 0.0099 - dice_coef_edema: 0.0170 - dice_coef_enhancing: 1.9081e-04 - val_loss: 23606750.0000 - val_accuracy: 0.9416 - val_mean_io_u: 0.9251 - val_dice_coef: 0.2508 - val_dice_coef_necrotic: 0.0130 - val_dice_coef_edema: 0.0200 - val_dice_coef_enhancing: 3.6930e-04 - lr: 1.0000e-06\n",
      "Epoch 61/100\n",
      "200/200 [==============================] - 93s 464ms/step - loss: 23378456.0000 - accuracy: 0.9431 - mean_io_u: 0.9269 - dice_coef: 0.2499 - dice_coef_necrotic: 0.0111 - dice_coef_edema: 0.0178 - dice_coef_enhancing: 2.3310e-04 - val_loss: 24713100.0000 - val_accuracy: 0.9519 - val_mean_io_u: 0.9377 - val_dice_coef: 0.2505 - val_dice_coef_necrotic: 0.0086 - val_dice_coef_edema: 0.0184 - val_dice_coef_enhancing: 1.4297e-04 - lr: 1.0000e-06\n",
      "Epoch 62/100\n",
      "200/200 [==============================] - 92s 461ms/step - loss: 24703462.0000 - accuracy: 0.9449 - mean_io_u: 0.9291 - dice_coef: 0.2494 - dice_coef_necrotic: 0.0096 - dice_coef_edema: 0.0166 - dice_coef_enhancing: 1.7843e-04 - val_loss: 28231072.0000 - val_accuracy: 0.9661 - val_mean_io_u: 0.9553 - val_dice_coef: 0.2479 - val_dice_coef_necrotic: 0.0024 - val_dice_coef_edema: 0.0068 - val_dice_coef_enhancing: 2.8512e-05 - lr: 1.0000e-06\n",
      "Epoch 63/100\n",
      "200/200 [==============================] - 92s 461ms/step - loss: 25723994.0000 - accuracy: 0.9442 - mean_io_u: 0.9284 - dice_coef: 0.2491 - dice_coef_necrotic: 0.0089 - dice_coef_edema: 0.0164 - dice_coef_enhancing: 2.7207e-04 - val_loss: 26315974.0000 - val_accuracy: 0.9315 - val_mean_io_u: 0.9130 - val_dice_coef: 0.2513 - val_dice_coef_necrotic: 0.0145 - val_dice_coef_edema: 0.0261 - val_dice_coef_enhancing: 3.2078e-04 - lr: 1.0000e-06\n",
      "Epoch 64/100\n",
      "200/200 [==============================] - 93s 462ms/step - loss: 26751332.0000 - accuracy: 0.9416 - mean_io_u: 0.9252 - dice_coef: 0.2492 - dice_coef_necrotic: 0.0100 - dice_coef_edema: 0.0168 - dice_coef_enhancing: 2.2570e-04 - val_loss: 28304234.0000 - val_accuracy: 0.9553 - val_mean_io_u: 0.9419 - val_dice_coef: 0.2490 - val_dice_coef_necrotic: 0.0053 - val_dice_coef_edema: 0.0136 - val_dice_coef_enhancing: 2.3727e-04 - lr: 1.0000e-06\n",
      "Epoch 65/100\n",
      "200/200 [==============================] - 92s 462ms/step - loss: 27605686.0000 - accuracy: 0.9440 - mean_io_u: 0.9281 - dice_coef: 0.2495 - dice_coef_necrotic: 0.0090 - dice_coef_edema: 0.0178 - dice_coef_enhancing: 2.8113e-04 - val_loss: 28406126.0000 - val_accuracy: 0.9282 - val_mean_io_u: 0.9091 - val_dice_coef: 0.2504 - val_dice_coef_necrotic: 0.0170 - val_dice_coef_edema: 0.0210 - val_dice_coef_enhancing: 7.7308e-04 - lr: 1.0000e-06\n",
      "Epoch 66/100\n",
      "200/200 [==============================] - 93s 465ms/step - loss: 28215970.0000 - accuracy: 0.9417 - mean_io_u: 0.9252 - dice_coef: 0.2496 - dice_coef_necrotic: 0.0097 - dice_coef_edema: 0.0188 - dice_coef_enhancing: 2.6945e-04 - val_loss: 30746728.0000 - val_accuracy: 0.9580 - val_mean_io_u: 0.9452 - val_dice_coef: 0.2490 - val_dice_coef_necrotic: 0.0045 - val_dice_coef_edema: 0.0131 - val_dice_coef_enhancing: 2.1238e-04 - lr: 1.0000e-06\n",
      "Epoch 67/100\n",
      "200/200 [==============================] - 92s 460ms/step - loss: 29008968.0000 - accuracy: 0.9413 - mean_io_u: 0.9248 - dice_coef: 0.2497 - dice_coef_necrotic: 0.0102 - dice_coef_edema: 0.0188 - dice_coef_enhancing: 2.4362e-04 - val_loss: 30572908.0000 - val_accuracy: 0.9517 - val_mean_io_u: 0.9375 - val_dice_coef: 0.2505 - val_dice_coef_necrotic: 0.0078 - val_dice_coef_edema: 0.0190 - val_dice_coef_enhancing: 8.2188e-05 - lr: 1.0000e-06\n",
      "Epoch 68/100\n",
      "200/200 [==============================] - 92s 461ms/step - loss: 30544722.0000 - accuracy: 0.9417 - mean_io_u: 0.9253 - dice_coef: 0.2488 - dice_coef_necrotic: 0.0081 - dice_coef_edema: 0.0174 - dice_coef_enhancing: 1.9377e-04 - val_loss: 31102668.0000 - val_accuracy: 0.9403 - val_mean_io_u: 0.9235 - val_dice_coef: 0.2495 - val_dice_coef_necrotic: 0.0086 - val_dice_coef_edema: 0.0199 - val_dice_coef_enhancing: 4.4061e-04 - lr: 1.0000e-06\n",
      "Epoch 69/100\n",
      "200/200 [==============================] - 92s 459ms/step - loss: 31698142.0000 - accuracy: 0.9408 - mean_io_u: 0.9241 - dice_coef: 0.2480 - dice_coef_necrotic: 0.0070 - dice_coef_edema: 0.0157 - dice_coef_enhancing: 1.9117e-04 - val_loss: 32570966.0000 - val_accuracy: 0.9231 - val_mean_io_u: 0.9030 - val_dice_coef: 0.2487 - val_dice_coef_necrotic: 0.0142 - val_dice_coef_edema: 0.0206 - val_dice_coef_enhancing: 1.6478e-04 - lr: 1.0000e-06\n"
     ]
    },
    {
     "name": "stdout",
     "output_type": "stream",
     "text": [
      "Epoch 70/100\n",
      "200/200 [==============================] - 92s 459ms/step - loss: 32543910.0000 - accuracy: 0.9383 - mean_io_u: 0.9211 - dice_coef: 0.2478 - dice_coef_necrotic: 0.0063 - dice_coef_edema: 0.0167 - dice_coef_enhancing: 1.6986e-04 - val_loss: 33163912.0000 - val_accuracy: 0.9331 - val_mean_io_u: 0.9149 - val_dice_coef: 0.2492 - val_dice_coef_necrotic: 0.0075 - val_dice_coef_edema: 0.0239 - val_dice_coef_enhancing: 2.5319e-04 - lr: 1.0000e-06\n",
      "Epoch 71/100\n",
      "200/200 [==============================] - 93s 463ms/step - loss: 33016446.0000 - accuracy: 0.9356 - mean_io_u: 0.9180 - dice_coef: 0.2480 - dice_coef_necrotic: 0.0068 - dice_coef_edema: 0.0184 - dice_coef_enhancing: 1.6502e-04 - val_loss: 34825896.0000 - val_accuracy: 0.9489 - val_mean_io_u: 0.9340 - val_dice_coef: 0.2494 - val_dice_coef_necrotic: 0.0045 - val_dice_coef_edema: 0.0194 - val_dice_coef_enhancing: 1.7640e-04 - lr: 1.0000e-06\n",
      "Epoch 72/100\n",
      "200/200 [==============================] - 91s 457ms/step - loss: 34365556.0000 - accuracy: 0.9387 - mean_io_u: 0.9216 - dice_coef: 0.2481 - dice_coef_necrotic: 0.0059 - dice_coef_edema: 0.0181 - dice_coef_enhancing: 1.4605e-04 - val_loss: 37069328.0000 - val_accuracy: 0.9579 - val_mean_io_u: 0.9450 - val_dice_coef: 0.2498 - val_dice_coef_necrotic: 0.0030 - val_dice_coef_edema: 0.0180 - val_dice_coef_enhancing: 1.2716e-04 - lr: 1.0000e-06\n",
      "Epoch 73/100\n",
      "200/200 [==============================] - 92s 460ms/step - loss: 36050812.0000 - accuracy: 0.9372 - mean_io_u: 0.9199 - dice_coef: 0.2478 - dice_coef_necrotic: 0.0057 - dice_coef_edema: 0.0182 - dice_coef_enhancing: 1.5689e-04 - val_loss: 37704436.0000 - val_accuracy: 0.9094 - val_mean_io_u: 0.8872 - val_dice_coef: 0.2477 - val_dice_coef_necrotic: 0.0108 - val_dice_coef_edema: 0.0270 - val_dice_coef_enhancing: 5.1152e-04 - lr: 1.0000e-06\n",
      "Epoch 74/100\n",
      "200/200 [==============================] - 92s 459ms/step - loss: 37195844.0000 - accuracy: 0.9380 - mean_io_u: 0.9207 - dice_coef: 0.2481 - dice_coef_necrotic: 0.0061 - dice_coef_edema: 0.0185 - dice_coef_enhancing: 1.6887e-04 - val_loss: 38080576.0000 - val_accuracy: 0.9214 - val_mean_io_u: 0.9011 - val_dice_coef: 0.2487 - val_dice_coef_necrotic: 0.0092 - val_dice_coef_edema: 0.0262 - val_dice_coef_enhancing: 1.2696e-04 - lr: 1.0000e-06\n",
      "Epoch 75/100\n",
      "200/200 [==============================] - 93s 464ms/step - loss: 38863376.0000 - accuracy: 0.9361 - mean_io_u: 0.9185 - dice_coef: 0.2476 - dice_coef_necrotic: 0.0064 - dice_coef_edema: 0.0171 - dice_coef_enhancing: 1.2805e-04 - val_loss: 41728824.0000 - val_accuracy: 0.9611 - val_mean_io_u: 0.9491 - val_dice_coef: 0.2510 - val_dice_coef_necrotic: 0.0023 - val_dice_coef_edema: 0.0220 - val_dice_coef_enhancing: 7.1433e-05 - lr: 1.0000e-06\n",
      "Epoch 76/100\n",
      "200/200 [==============================] - 91s 456ms/step - loss: 39543528.0000 - accuracy: 0.9354 - mean_io_u: 0.9177 - dice_coef: 0.2481 - dice_coef_necrotic: 0.0064 - dice_coef_edema: 0.0196 - dice_coef_enhancing: 3.8375e-05 - val_loss: 41345800.0000 - val_accuracy: 0.9425 - val_mean_io_u: 0.9261 - val_dice_coef: 0.2492 - val_dice_coef_necrotic: 0.0052 - val_dice_coef_edema: 0.0213 - val_dice_coef_enhancing: 2.9410e-04 - lr: 1.0000e-06\n",
      "Epoch 77/100\n",
      "200/200 [==============================] - 92s 459ms/step - loss: 41233028.0000 - accuracy: 0.9344 - mean_io_u: 0.9165 - dice_coef: 0.2478 - dice_coef_necrotic: 0.0066 - dice_coef_edema: 0.0189 - dice_coef_enhancing: 6.4232e-05 - val_loss: 43166764.0000 - val_accuracy: 0.9442 - val_mean_io_u: 0.9283 - val_dice_coef: 0.2489 - val_dice_coef_necrotic: 0.0056 - val_dice_coef_edema: 0.0187 - val_dice_coef_enhancing: 1.7009e-04 - lr: 1.0000e-06\n",
      "Epoch 78/100\n",
      "200/200 [==============================] - 92s 462ms/step - loss: 43740544.0000 - accuracy: 0.9376 - mean_io_u: 0.9203 - dice_coef: 0.2474 - dice_coef_necrotic: 0.0060 - dice_coef_edema: 0.0163 - dice_coef_enhancing: 1.0245e-04 - val_loss: 51814084.0000 - val_accuracy: 0.9658 - val_mean_io_u: 0.9549 - val_dice_coef: 0.2468 - val_dice_coef_necrotic: 0.0016 - val_dice_coef_edema: 0.0032 - val_dice_coef_enhancing: 6.4657e-05 - lr: 1.0000e-06\n",
      "Epoch 79/100\n",
      "200/200 [==============================] - 92s 459ms/step - loss: 45077412.0000 - accuracy: 0.9354 - mean_io_u: 0.9177 - dice_coef: 0.2474 - dice_coef_necrotic: 0.0065 - dice_coef_edema: 0.0168 - dice_coef_enhancing: 1.0353e-04 - val_loss: 45998896.0000 - val_accuracy: 0.9457 - val_mean_io_u: 0.9301 - val_dice_coef: 0.2498 - val_dice_coef_necrotic: 0.0054 - val_dice_coef_edema: 0.0219 - val_dice_coef_enhancing: 9.1098e-05 - lr: 1.0000e-06\n",
      "Epoch 80/100\n",
      "200/200 [==============================] - 93s 465ms/step - loss: 46697068.0000 - accuracy: 0.9339 - mean_io_u: 0.9158 - dice_coef: 0.2469 - dice_coef_necrotic: 0.0064 - dice_coef_edema: 0.0156 - dice_coef_enhancing: 5.1834e-05 - val_loss: 47066560.0000 - val_accuracy: 0.9313 - val_mean_io_u: 0.9127 - val_dice_coef: 0.2486 - val_dice_coef_necrotic: 0.0082 - val_dice_coef_edema: 0.0216 - val_dice_coef_enhancing: 2.1199e-04 - lr: 1.0000e-06\n",
      "Epoch 81/100\n",
      "200/200 [==============================] - 91s 456ms/step - loss: 47716932.0000 - accuracy: 0.9333 - mean_io_u: 0.9152 - dice_coef: 0.2471 - dice_coef_necrotic: 0.0069 - dice_coef_edema: 0.0162 - dice_coef_enhancing: 3.3956e-05 - val_loss: 50746948.0000 - val_accuracy: 0.9507 - val_mean_io_u: 0.9361 - val_dice_coef: 0.2488 - val_dice_coef_necrotic: 0.0041 - val_dice_coef_edema: 0.0167 - val_dice_coef_enhancing: 9.1164e-05 - lr: 1.0000e-06\n",
      "Epoch 82/100\n",
      "200/200 [==============================] - 91s 457ms/step - loss: 50684640.0000 - accuracy: 0.9336 - mean_io_u: 0.9155 - dice_coef: 0.2466 - dice_coef_necrotic: 0.0065 - dice_coef_edema: 0.0146 - dice_coef_enhancing: 4.8056e-05 - val_loss: 50936068.0000 - val_accuracy: 0.9306 - val_mean_io_u: 0.9119 - val_dice_coef: 0.2483 - val_dice_coef_necrotic: 0.0083 - val_dice_coef_edema: 0.0210 - val_dice_coef_enhancing: 1.6394e-04 - lr: 1.0000e-06\n",
      "Epoch 83/100\n",
      "200/200 [==============================] - 92s 460ms/step - loss: 52305844.0000 - accuracy: 0.9358 - mean_io_u: 0.9182 - dice_coef: 0.2468 - dice_coef_necrotic: 0.0064 - dice_coef_edema: 0.0144 - dice_coef_enhancing: 4.9549e-05 - val_loss: 53210344.0000 - val_accuracy: 0.9373 - val_mean_io_u: 0.9199 - val_dice_coef: 0.2481 - val_dice_coef_necrotic: 0.0069 - val_dice_coef_edema: 0.0178 - val_dice_coef_enhancing: 1.4225e-04 - lr: 1.0000e-06\n",
      "Epoch 84/100\n",
      "200/200 [==============================] - 92s 461ms/step - loss: 54832384.0000 - accuracy: 0.9350 - mean_io_u: 0.9172 - dice_coef: 0.2468 - dice_coef_necrotic: 0.0068 - dice_coef_edema: 0.0144 - dice_coef_enhancing: 6.0781e-05 - val_loss: 54815768.0000 - val_accuracy: 0.9286 - val_mean_io_u: 0.9096 - val_dice_coef: 0.2481 - val_dice_coef_necrotic: 0.0091 - val_dice_coef_edema: 0.0202 - val_dice_coef_enhancing: 1.0749e-04 - lr: 1.0000e-06\n",
      "Epoch 85/100\n",
      "200/200 [==============================] - 92s 461ms/step - loss: 55827984.0000 - accuracy: 0.9333 - mean_io_u: 0.9152 - dice_coef: 0.2468 - dice_coef_necrotic: 0.0074 - dice_coef_edema: 0.0146 - dice_coef_enhancing: 4.2206e-05 - val_loss: 57854128.0000 - val_accuracy: 0.9396 - val_mean_io_u: 0.9227 - val_dice_coef: 0.2475 - val_dice_coef_necrotic: 0.0079 - val_dice_coef_edema: 0.0135 - val_dice_coef_enhancing: 1.4640e-04 - lr: 1.0000e-06\n",
      "Epoch 86/100\n",
      "200/200 [==============================] - 93s 463ms/step - loss: 58263448.0000 - accuracy: 0.9356 - mean_io_u: 0.9179 - dice_coef: 0.2467 - dice_coef_necrotic: 0.0072 - dice_coef_edema: 0.0133 - dice_coef_enhancing: 5.2288e-05 - val_loss: 59761448.0000 - val_accuracy: 0.9140 - val_mean_io_u: 0.8925 - val_dice_coef: 0.2472 - val_dice_coef_necrotic: 0.0138 - val_dice_coef_edema: 0.0199 - val_dice_coef_enhancing: 1.5075e-04 - lr: 1.0000e-06\n",
      "Epoch 87/100\n",
      "200/200 [==============================] - 92s 460ms/step - loss: 62203360.0000 - accuracy: 0.9360 - mean_io_u: 0.9184 - dice_coef: 0.2466 - dice_coef_necrotic: 0.0067 - dice_coef_edema: 0.0129 - dice_coef_enhancing: 4.5659e-05 - val_loss: 65134620.0000 - val_accuracy: 0.8976 - val_mean_io_u: 0.8738 - val_dice_coef: 0.2457 - val_dice_coef_necrotic: 0.0149 - val_dice_coef_edema: 0.0216 - val_dice_coef_enhancing: 1.4169e-04 - lr: 1.0000e-06\n"
     ]
    },
    {
     "name": "stdout",
     "output_type": "stream",
     "text": [
      "Epoch 88/100\n",
      "200/200 [==============================] - 92s 459ms/step - loss: 64384936.0000 - accuracy: 0.9358 - mean_io_u: 0.9182 - dice_coef: 0.2462 - dice_coef_necrotic: 0.0075 - dice_coef_edema: 0.0108 - dice_coef_enhancing: 7.0527e-05 - val_loss: 74048480.0000 - val_accuracy: 0.9640 - val_mean_io_u: 0.9526 - val_dice_coef: 0.2470 - val_dice_coef_necrotic: 0.0011 - val_dice_coef_edema: 0.0057 - val_dice_coef_enhancing: 4.3792e-05 - lr: 1.0000e-06\n",
      "Epoch 89/100\n",
      "200/200 [==============================] - 92s 462ms/step - loss: 66754908.0000 - accuracy: 0.9350 - mean_io_u: 0.9171 - dice_coef: 0.2462 - dice_coef_necrotic: 0.0074 - dice_coef_edema: 0.0115 - dice_coef_enhancing: 4.9889e-05 - val_loss: 69172152.0000 - val_accuracy: 0.9384 - val_mean_io_u: 0.9212 - val_dice_coef: 0.2462 - val_dice_coef_necrotic: 0.0097 - val_dice_coef_edema: 0.0072 - val_dice_coef_enhancing: 1.7119e-04 - lr: 1.0000e-06\n",
      "Epoch 90/100\n",
      "200/200 [==============================] - 92s 461ms/step - loss: 67908544.0000 - accuracy: 0.9348 - mean_io_u: 0.9169 - dice_coef: 0.2464 - dice_coef_necrotic: 0.0079 - dice_coef_edema: 0.0117 - dice_coef_enhancing: 5.0885e-05 - val_loss: 73469392.0000 - val_accuracy: 0.8956 - val_mean_io_u: 0.8715 - val_dice_coef: 0.2456 - val_dice_coef_necrotic: 0.0206 - val_dice_coef_edema: 0.0165 - val_dice_coef_enhancing: 2.8979e-04 - lr: 1.0000e-06\n",
      "Epoch 91/100\n",
      "200/200 [==============================] - 92s 459ms/step - loss: 70063520.0000 - accuracy: 0.9343 - mean_io_u: 0.9163 - dice_coef: 0.2464 - dice_coef_necrotic: 0.0083 - dice_coef_edema: 0.0114 - dice_coef_enhancing: 5.3709e-05 - val_loss: 75952392.0000 - val_accuracy: 0.8961 - val_mean_io_u: 0.8721 - val_dice_coef: 0.2459 - val_dice_coef_necrotic: 0.0180 - val_dice_coef_edema: 0.0201 - val_dice_coef_enhancing: 1.4828e-04 - lr: 1.0000e-06\n",
      "Epoch 92/100\n",
      "200/200 [==============================] - 92s 457ms/step - loss: 74840504.0000 - accuracy: 0.9353 - mean_io_u: 0.9176 - dice_coef: 0.2461 - dice_coef_necrotic: 0.0075 - dice_coef_edema: 0.0105 - dice_coef_enhancing: 3.3844e-05 - val_loss: 74954016.0000 - val_accuracy: 0.9394 - val_mean_io_u: 0.9224 - val_dice_coef: 0.2469 - val_dice_coef_necrotic: 0.0087 - val_dice_coef_edema: 0.0103 - val_dice_coef_enhancing: 1.3475e-04 - lr: 1.0000e-06\n",
      "Epoch 93/100\n",
      "200/200 [==============================] - 92s 458ms/step - loss: 76548000.0000 - accuracy: 0.9334 - mean_io_u: 0.9152 - dice_coef: 0.2458 - dice_coef_necrotic: 0.0074 - dice_coef_edema: 0.0107 - dice_coef_enhancing: 6.0664e-05 - val_loss: 78676064.0000 - val_accuracy: 0.9437 - val_mean_io_u: 0.9277 - val_dice_coef: 0.2468 - val_dice_coef_necrotic: 0.0056 - val_dice_coef_edema: 0.0109 - val_dice_coef_enhancing: 1.2608e-04 - lr: 1.0000e-06\n",
      "Epoch 94/100\n",
      "200/200 [==============================] - 92s 460ms/step - loss: 80157984.0000 - accuracy: 0.9340 - mean_io_u: 0.9159 - dice_coef: 0.2455 - dice_coef_necrotic: 0.0068 - dice_coef_edema: 0.0098 - dice_coef_enhancing: 5.9766e-05 - val_loss: 81149064.0000 - val_accuracy: 0.9446 - val_mean_io_u: 0.9287 - val_dice_coef: 0.2473 - val_dice_coef_necrotic: 0.0066 - val_dice_coef_edema: 0.0113 - val_dice_coef_enhancing: 8.6738e-05 - lr: 1.0000e-06\n",
      "Epoch 95/100\n",
      "200/200 [==============================] - 92s 458ms/step - loss: 82058072.0000 - accuracy: 0.9323 - mean_io_u: 0.9140 - dice_coef: 0.2455 - dice_coef_necrotic: 0.0073 - dice_coef_edema: 0.0100 - dice_coef_enhancing: 7.1054e-05 - val_loss: 83937720.0000 - val_accuracy: 0.9352 - val_mean_io_u: 0.9174 - val_dice_coef: 0.2463 - val_dice_coef_necrotic: 0.0100 - val_dice_coef_edema: 0.0089 - val_dice_coef_enhancing: 1.5856e-04 - lr: 1.0000e-06\n",
      "Epoch 96/100\n",
      "200/200 [==============================] - 92s 460ms/step - loss: 85700520.0000 - accuracy: 0.9346 - mean_io_u: 0.9167 - dice_coef: 0.2456 - dice_coef_necrotic: 0.0074 - dice_coef_edema: 0.0093 - dice_coef_enhancing: 2.5533e-05 - val_loss: 92790672.0000 - val_accuracy: 0.9556 - val_mean_io_u: 0.9422 - val_dice_coef: 0.2468 - val_dice_coef_necrotic: 0.0025 - val_dice_coef_edema: 0.0076 - val_dice_coef_enhancing: 8.6632e-05 - lr: 1.0000e-06\n",
      "Epoch 97/100\n",
      "200/200 [==============================] - 92s 459ms/step - loss: 90701864.0000 - accuracy: 0.9345 - mean_io_u: 0.9165 - dice_coef: 0.2453 - dice_coef_necrotic: 0.0068 - dice_coef_edema: 0.0087 - dice_coef_enhancing: 5.3382e-05 - val_loss: 91280880.0000 - val_accuracy: 0.9063 - val_mean_io_u: 0.8835 - val_dice_coef: 0.2454 - val_dice_coef_necrotic: 0.0131 - val_dice_coef_edema: 0.0174 - val_dice_coef_enhancing: 2.1548e-04 - lr: 1.0000e-06\n",
      "Epoch 98/100\n",
      "200/200 [==============================] - 92s 460ms/step - loss: 92682344.0000 - accuracy: 0.9327 - mean_io_u: 0.9144 - dice_coef: 0.2452 - dice_coef_necrotic: 0.0068 - dice_coef_edema: 0.0093 - dice_coef_enhancing: 2.8313e-05 - val_loss: 94659720.0000 - val_accuracy: 0.9459 - val_mean_io_u: 0.9303 - val_dice_coef: 0.2469 - val_dice_coef_necrotic: 0.0054 - val_dice_coef_edema: 0.0101 - val_dice_coef_enhancing: 7.8917e-05 - lr: 1.0000e-06\n",
      "Epoch 99/100\n",
      "200/200 [==============================] - 92s 458ms/step - loss: 99112544.0000 - accuracy: 0.9365 - mean_io_u: 0.9190 - dice_coef: 0.2453 - dice_coef_necrotic: 0.0062 - dice_coef_edema: 0.0081 - dice_coef_enhancing: 5.1662e-05 - val_loss: 99357160.0000 - val_accuracy: 0.9354 - val_mean_io_u: 0.9176 - val_dice_coef: 0.2455 - val_dice_coef_necrotic: 0.0106 - val_dice_coef_edema: 0.0049 - val_dice_coef_enhancing: 1.7055e-04 - lr: 1.0000e-06\n",
      "Epoch 100/100\n",
      "200/200 [==============================] - 92s 462ms/step - loss: 97328760.0000 - accuracy: 0.9312 - mean_io_u: 0.9126 - dice_coef: 0.2451 - dice_coef_necrotic: 0.0078 - dice_coef_edema: 0.0084 - dice_coef_enhancing: 7.2009e-05 - val_loss: 110991328.0000 - val_accuracy: 0.9640 - val_mean_io_u: 0.9527 - val_dice_coef: 0.2469 - val_dice_coef_necrotic: 0.0022 - val_dice_coef_edema: 0.0041 - val_dice_coef_enhancing: 2.4352e-05 - lr: 1.0000e-06\n"
     ]
    }
   ],
   "source": [
    "K.clear_session()\n",
    "\n",
    "history =  model.fit(training_generator,\n",
    "                    epochs=100,\n",
    "                    steps_per_epoch=len(train_ids),\n",
    "                    callbacks= callbacks,\n",
    "                    validation_data = valid_generator\n",
    "                    )  \n",
    "model.save(\"Models/3D/3D_U_net_resized.h5\")"
   ]
  },
  {
   "cell_type": "code",
   "execution_count": null,
   "id": "3e3e6909",
   "metadata": {},
   "outputs": [],
   "source": []
  },
  {
   "cell_type": "code",
   "execution_count": null,
   "id": "a74354f4",
   "metadata": {},
   "outputs": [],
   "source": [
    "model = keras.models.load_model('Models/3D/U_net_200_flair_t1ce_t2.h5', \n",
    "                                   custom_objects={ 'accuracy' : tf.keras.metrics.MeanIoU(num_classes=4),\n",
    "                                                   \"dice_coef\": dice_coef,\n",
    "                                                   \"dice_coef_necrotic\": dice_coef_necrotic,\n",
    "                                                   \"dice_coef_edema\": dice_coef_edema,\n",
    "                                                   \"dice_coef_enhancing\": dice_coef_enhancing\n",
    "                                                  }, compile=True)"
   ]
  },
  {
   "cell_type": "code",
   "execution_count": 8,
   "id": "56a97f1b",
   "metadata": {},
   "outputs": [
    {
     "name": "stdout",
     "output_type": "stream",
     "text": [
      "36/36 [==============================] - 8s 215ms/step - loss: 135205376.0000 - accuracy: 0.9645 - mean_io_u: 0.9531 - dice_coef: 0.2467 - dice_coef_necrotic: 0.0023 - dice_coef_edema: 0.0030 - dice_coef_enhancing: 0.0000e+00\n"
     ]
    },
    {
     "data": {
      "text/plain": [
       "[135205376.0,\n",
       " 0.9644883275032043,\n",
       " 0.9531323909759521,\n",
       " 0.24666635692119598,\n",
       " 0.0023182411678135395,\n",
       " 0.0029606642201542854,\n",
       " 0.0]"
      ]
     },
     "execution_count": 8,
     "metadata": {},
     "output_type": "execute_result"
    }
   ],
   "source": [
    "model.evaluate(test_generator, callbacks=eval_csv_logger, verbose=1)"
   ]
  },
  {
   "cell_type": "code",
   "execution_count": 9,
   "id": "64282cc5",
   "metadata": {},
   "outputs": [
    {
     "name": "stdout",
     "output_type": "stream",
     "text": [
      "60/60 [==============================] - 11s 186ms/step - loss: 110991328.0000 - accuracy: 0.9640 - mean_io_u: 0.9527 - dice_coef: 0.2469 - dice_coef_necrotic: 0.0022 - dice_coef_edema: 0.0041 - dice_coef_enhancing: 2.4352e-05\n"
     ]
    },
    {
     "data": {
      "text/plain": [
       "[110991328.0,\n",
       " 0.9640367031097412,\n",
       " 0.9527334570884705,\n",
       " 0.24690128862857819,\n",
       " 0.0021608450915664434,\n",
       " 0.004137449897825718,\n",
       " 2.4352484615519643e-05]"
      ]
     },
     "execution_count": 9,
     "metadata": {},
     "output_type": "execute_result"
    }
   ],
   "source": [
    "valid_csv_logger = CSVLogger('Logs/validation/3D_U_net_resized.log', separator=',', append=True)\n",
    "model.evaluate(valid_generator, callbacks=valid_csv_logger, verbose=1)"
   ]
  },
  {
   "cell_type": "code",
   "execution_count": 11,
   "id": "920211fb",
   "metadata": {},
   "outputs": [],
   "source": [
    "x, y = training_generator.__getitem__(0)"
   ]
  },
  {
   "cell_type": "code",
   "execution_count": 12,
   "id": "e32e18b3",
   "metadata": {},
   "outputs": [],
   "source": [
    "xx, yy = training_generator.__getitem__(1)"
   ]
  },
  {
   "cell_type": "code",
   "execution_count": 14,
   "id": "cd22556e",
   "metadata": {},
   "outputs": [
    {
     "data": {
      "text/plain": [
       "False"
      ]
     },
     "execution_count": 14,
     "metadata": {},
     "output_type": "execute_result"
    }
   ],
   "source": [
    "x is xx"
   ]
  },
  {
   "cell_type": "code",
   "execution_count": null,
   "id": "c4181116",
   "metadata": {},
   "outputs": [],
   "source": []
  }
 ],
 "metadata": {
  "kernelspec": {
   "display_name": "Python 3 (ipykernel)",
   "language": "python",
   "name": "python3"
  },
  "language_info": {
   "codemirror_mode": {
    "name": "ipython",
    "version": 3
   },
   "file_extension": ".py",
   "mimetype": "text/x-python",
   "name": "python",
   "nbconvert_exporter": "python",
   "pygments_lexer": "ipython3",
   "version": "3.11.0"
  }
 },
 "nbformat": 4,
 "nbformat_minor": 5
}
