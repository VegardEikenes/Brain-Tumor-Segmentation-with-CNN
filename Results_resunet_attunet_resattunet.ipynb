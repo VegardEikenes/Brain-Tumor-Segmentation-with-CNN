{
 "cells": [
  {
   "cell_type": "code",
   "execution_count": 1,
   "id": "bb73704d",
   "metadata": {},
   "outputs": [],
   "source": [
    "import pandas as pd"
   ]
  },
  {
   "cell_type": "code",
   "execution_count": 3,
   "id": "ae3a96f6",
   "metadata": {},
   "outputs": [
    {
     "data": {
      "text/html": [
       "<div>\n",
       "<style scoped>\n",
       "    .dataframe tbody tr th:only-of-type {\n",
       "        vertical-align: middle;\n",
       "    }\n",
       "\n",
       "    .dataframe tbody tr th {\n",
       "        vertical-align: top;\n",
       "    }\n",
       "\n",
       "    .dataframe thead th {\n",
       "        text-align: right;\n",
       "    }\n",
       "</style>\n",
       "<table border=\"1\" class=\"dataframe\">\n",
       "  <thead>\n",
       "    <tr style=\"text-align: right;\">\n",
       "      <th></th>\n",
       "      <th>Architecture</th>\n",
       "      <th>dice_coef</th>\n",
       "      <th>dice_coef_edema</th>\n",
       "      <th>dice_coef_enhancing</th>\n",
       "      <th>dice_coef_necrotic</th>\n",
       "      <th>mean_io_u_1</th>\n",
       "    </tr>\n",
       "  </thead>\n",
       "  <tbody>\n",
       "    <tr>\n",
       "      <th>35</th>\n",
       "      <td>Residual U-Net</td>\n",
       "      <td>0.688136</td>\n",
       "      <td>0.825941</td>\n",
       "      <td>0.760557</td>\n",
       "      <td>0.632642</td>\n",
       "      <td>0.831365</td>\n",
       "    </tr>\n",
       "  </tbody>\n",
       "</table>\n",
       "</div>"
      ],
      "text/plain": [
       "      Architecture  dice_coef  dice_coef_edema  dice_coef_enhancing  \\\n",
       "35  Residual U-Net   0.688136         0.825941             0.760557   \n",
       "\n",
       "    dice_coef_necrotic  mean_io_u_1  \n",
       "35            0.632642     0.831365  "
      ]
     },
     "execution_count": 3,
     "metadata": {},
     "output_type": "execute_result"
    }
   ],
   "source": [
    "df = pd.read_csv('Logs/testing/resU_net_2d.log')\n",
    "df = df[['dice_coef', 'dice_coef_edema', 'dice_coef_enhancing', 'dice_coef_necrotic', 'mean_io_u_1']]\n",
    "df = pd.DataFrame(df.mean().to_dict(),index=[df.index.values[-1]])\n",
    "df.insert(loc=0, column='Architecture', value='Residual U-Net')\n",
    "df"
   ]
  },
  {
   "cell_type": "code",
   "execution_count": 5,
   "id": "059e8582",
   "metadata": {},
   "outputs": [
    {
     "data": {
      "text/html": [
       "<div>\n",
       "<style scoped>\n",
       "    .dataframe tbody tr th:only-of-type {\n",
       "        vertical-align: middle;\n",
       "    }\n",
       "\n",
       "    .dataframe tbody tr th {\n",
       "        vertical-align: top;\n",
       "    }\n",
       "\n",
       "    .dataframe thead th {\n",
       "        text-align: right;\n",
       "    }\n",
       "</style>\n",
       "<table border=\"1\" class=\"dataframe\">\n",
       "  <thead>\n",
       "    <tr style=\"text-align: right;\">\n",
       "      <th></th>\n",
       "      <th>Architecture</th>\n",
       "      <th>dice_coef</th>\n",
       "      <th>dice_coef_edema</th>\n",
       "      <th>dice_coef_enhancing</th>\n",
       "      <th>dice_coef_necrotic</th>\n",
       "      <th>mean_io_u</th>\n",
       "    </tr>\n",
       "  </thead>\n",
       "  <tbody>\n",
       "    <tr>\n",
       "      <th>35</th>\n",
       "      <td>Attention U-Net</td>\n",
       "      <td>0.335724</td>\n",
       "      <td>0.300641</td>\n",
       "      <td>0.191168</td>\n",
       "      <td>0.157059</td>\n",
       "      <td>0.809451</td>\n",
       "    </tr>\n",
       "  </tbody>\n",
       "</table>\n",
       "</div>"
      ],
      "text/plain": [
       "       Architecture  dice_coef  dice_coef_edema  dice_coef_enhancing  \\\n",
       "35  Attention U-Net   0.335724         0.300641             0.191168   \n",
       "\n",
       "    dice_coef_necrotic  mean_io_u  \n",
       "35            0.157059   0.809451  "
      ]
     },
     "execution_count": 5,
     "metadata": {},
     "output_type": "execute_result"
    }
   ],
   "source": [
    "df2 = pd.read_csv('Logs/testing/attU_net_2d.log')\n",
    "df2 = df2[['dice_coef', 'dice_coef_edema', 'dice_coef_enhancing', 'dice_coef_necrotic', 'mean_io_u']]\n",
    "df2 = pd.DataFrame(df2.mean().to_dict(),index=[df.index.values[-1]])\n",
    "df2.insert(loc=0, column='Architecture', value='Attention U-Net')\n",
    "df2"
   ]
  },
  {
   "cell_type": "code",
   "execution_count": 16,
   "id": "2c25a1c7",
   "metadata": {},
   "outputs": [
    {
     "data": {
      "text/html": [
       "<div>\n",
       "<style scoped>\n",
       "    .dataframe tbody tr th:only-of-type {\n",
       "        vertical-align: middle;\n",
       "    }\n",
       "\n",
       "    .dataframe tbody tr th {\n",
       "        vertical-align: top;\n",
       "    }\n",
       "\n",
       "    .dataframe thead th {\n",
       "        text-align: right;\n",
       "    }\n",
       "</style>\n",
       "<table border=\"1\" class=\"dataframe\">\n",
       "  <thead>\n",
       "    <tr style=\"text-align: right;\">\n",
       "      <th></th>\n",
       "      <th>Architecture</th>\n",
       "      <th>dice_coef</th>\n",
       "      <th>dice_coef_edema</th>\n",
       "      <th>dice_coef_enhancing</th>\n",
       "      <th>dice_coef_necrotic</th>\n",
       "      <th>mean_io_u</th>\n",
       "    </tr>\n",
       "  </thead>\n",
       "  <tbody>\n",
       "    <tr>\n",
       "      <th>35</th>\n",
       "      <td>Residual Attention U-Net</td>\n",
       "      <td>0.408476</td>\n",
       "      <td>0.360074</td>\n",
       "      <td>0.362405</td>\n",
       "      <td>0.196959</td>\n",
       "      <td>0.789009</td>\n",
       "    </tr>\n",
       "  </tbody>\n",
       "</table>\n",
       "</div>"
      ],
      "text/plain": [
       "                Architecture  dice_coef  dice_coef_edema  dice_coef_enhancing  \\\n",
       "35  Residual Attention U-Net   0.408476         0.360074             0.362405   \n",
       "\n",
       "    dice_coef_necrotic  mean_io_u  \n",
       "35            0.196959   0.789009  "
      ]
     },
     "execution_count": 16,
     "metadata": {},
     "output_type": "execute_result"
    }
   ],
   "source": [
    "df3 = pd.read_csv('Logs/testing/resattU_net_2d.log')\n",
    "df3 = df3[['dice_coef', 'dice_coef_edema', 'dice_coef_enhancing', 'dice_coef_necrotic', 'mean_io_u']]\n",
    "df3 = pd.DataFrame(df3.mean().to_dict(),index=[df.index.values[-1]])\n",
    "df3.insert(loc=0, column='Architecture', value='Residual Attention U-Net')\n",
    "df3"
   ]
  },
  {
   "cell_type": "code",
   "execution_count": 4,
   "id": "52fc67fc",
   "metadata": {},
   "outputs": [
    {
     "name": "stdout",
     "output_type": "stream",
     "text": [
      "\\begin{tabular}{lrrrrr}\n",
      "\\toprule\n",
      "  Architecture &  dice\\_coef &  dice\\_coef\\_edema &  dice\\_coef\\_enhancing &  dice\\_coef\\_necrotic &  mean\\_io\\_u\\_1 \\\\\n",
      "\\midrule\n",
      "Residual U-Net &     0.6881 &           0.8259 &               0.7606 &              0.6326 &       0.8314 \\\\\n",
      "\\bottomrule\n",
      "\\end{tabular}\n",
      "\n"
     ]
    },
    {
     "name": "stderr",
     "output_type": "stream",
     "text": [
      "C:\\Users\\VegardEikenes\\AppData\\Local\\Temp\\ipykernel_15404\\2890313485.py:1: FutureWarning: In future versions `DataFrame.to_latex` is expected to utilise the base implementation of `Styler.to_latex` for formatting and rendering. The arguments signature may therefore change. It is recommended instead to use `DataFrame.style.to_latex` which also contains additional functionality.\n",
      "  print(df.round(decimals=4).to_latex(index=False))\n"
     ]
    }
   ],
   "source": [
    "print(df.round(decimals=4).to_latex(index=False))"
   ]
  },
  {
   "cell_type": "code",
   "execution_count": 6,
   "id": "6d3cb400",
   "metadata": {},
   "outputs": [
    {
     "name": "stdout",
     "output_type": "stream",
     "text": [
      "\\begin{tabular}{lrrrrr}\n",
      "\\toprule\n",
      "   Architecture &  dice\\_coef &  dice\\_coef\\_edema &  dice\\_coef\\_enhancing &  dice\\_coef\\_necrotic &  mean\\_io\\_u \\\\\n",
      "\\midrule\n",
      "Attention U-Net &     0.3357 &           0.3006 &               0.1912 &              0.1571 &     0.8095 \\\\\n",
      "\\bottomrule\n",
      "\\end{tabular}\n",
      "\n"
     ]
    },
    {
     "name": "stderr",
     "output_type": "stream",
     "text": [
      "C:\\Users\\VegardEikenes\\AppData\\Local\\Temp\\ipykernel_15404\\186664166.py:1: FutureWarning: In future versions `DataFrame.to_latex` is expected to utilise the base implementation of `Styler.to_latex` for formatting and rendering. The arguments signature may therefore change. It is recommended instead to use `DataFrame.style.to_latex` which also contains additional functionality.\n",
      "  print(df2.round(decimals=4).to_latex(index=False))\n"
     ]
    }
   ],
   "source": [
    "print(df2.round(decimals=4).to_latex(index=False))"
   ]
  },
  {
   "cell_type": "code",
   "execution_count": 19,
   "id": "cf5f6c5c",
   "metadata": {},
   "outputs": [
    {
     "name": "stdout",
     "output_type": "stream",
     "text": [
      "\\begin{tabular}{lrrrrr}\n",
      "\\toprule\n",
      "            Architecture &  dice\\_coef &  dice\\_coef\\_edema &  dice\\_coef\\_enhancing &  dice\\_coef\\_necrotic &  mean\\_io\\_u \\\\\n",
      "\\midrule\n",
      "Residual Attention U-Net &     0.4085 &           0.3601 &               0.3624 &               0.197 &      0.789 \\\\\n",
      "\\bottomrule\n",
      "\\end{tabular}\n",
      "\n"
     ]
    },
    {
     "name": "stderr",
     "output_type": "stream",
     "text": [
      "C:\\Users\\VegardEikenes\\AppData\\Local\\Temp\\ipykernel_10072\\1440984.py:1: FutureWarning: In future versions `DataFrame.to_latex` is expected to utilise the base implementation of `Styler.to_latex` for formatting and rendering. The arguments signature may therefore change. It is recommended instead to use `DataFrame.style.to_latex` which also contains additional functionality.\n",
      "  print(df3.round(decimals=4).to_latex(index=False))\n"
     ]
    }
   ],
   "source": [
    "print(df3.round(decimals=4).to_latex(index=False))"
   ]
  },
  {
   "cell_type": "code",
   "execution_count": null,
   "id": "45b94c75",
   "metadata": {},
   "outputs": [],
   "source": []
  }
 ],
 "metadata": {
  "kernelspec": {
   "display_name": "Python 3 (ipykernel)",
   "language": "python",
   "name": "python3"
  },
  "language_info": {
   "codemirror_mode": {
    "name": "ipython",
    "version": 3
   },
   "file_extension": ".py",
   "mimetype": "text/x-python",
   "name": "python",
   "nbconvert_exporter": "python",
   "pygments_lexer": "ipython3",
   "version": "3.9.16"
  }
 },
 "nbformat": 4,
 "nbformat_minor": 5
}
