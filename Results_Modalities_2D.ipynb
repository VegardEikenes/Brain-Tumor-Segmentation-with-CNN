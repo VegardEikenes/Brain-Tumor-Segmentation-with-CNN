{
 "cells": [
  {
   "cell_type": "code",
   "execution_count": 1,
   "id": "b614cdaf",
   "metadata": {},
   "outputs": [],
   "source": [
    "import pandas as pd"
   ]
  },
  {
   "cell_type": "markdown",
   "id": "36543921",
   "metadata": {},
   "source": [
    "### Testing subset"
   ]
  },
  {
   "cell_type": "code",
   "execution_count": 12,
   "id": "9fbd5208",
   "metadata": {},
   "outputs": [
    {
     "data": {
      "text/html": [
       "<div>\n",
       "<style scoped>\n",
       "    .dataframe tbody tr th:only-of-type {\n",
       "        vertical-align: middle;\n",
       "    }\n",
       "\n",
       "    .dataframe tbody tr th {\n",
       "        vertical-align: top;\n",
       "    }\n",
       "\n",
       "    .dataframe thead th {\n",
       "        text-align: right;\n",
       "    }\n",
       "</style>\n",
       "<table border=\"1\" class=\"dataframe\">\n",
       "  <thead>\n",
       "    <tr style=\"text-align: right;\">\n",
       "      <th></th>\n",
       "      <th>Modalities</th>\n",
       "      <th>dice_coef</th>\n",
       "      <th>dice_coef_edema</th>\n",
       "      <th>dice_coef_enhancing</th>\n",
       "      <th>dice_coef_necrotic</th>\n",
       "      <th>mean_io_u</th>\n",
       "    </tr>\n",
       "  </thead>\n",
       "  <tbody>\n",
       "    <tr>\n",
       "      <th>35</th>\n",
       "      <td>T1ce, T1, T2</td>\n",
       "      <td>0.573528</td>\n",
       "      <td>0.67883</td>\n",
       "      <td>0.671788</td>\n",
       "      <td>0.46453</td>\n",
       "      <td>0.667528</td>\n",
       "    </tr>\n",
       "  </tbody>\n",
       "</table>\n",
       "</div>"
      ],
      "text/plain": [
       "      Modalities  dice_coef  dice_coef_edema  dice_coef_enhancing  \\\n",
       "35  T1ce, T1, T2   0.573528          0.67883             0.671788   \n",
       "\n",
       "    dice_coef_necrotic  mean_io_u  \n",
       "35             0.46453   0.667528  "
      ]
     },
     "execution_count": 12,
     "metadata": {},
     "output_type": "execute_result"
    }
   ],
   "source": [
    "df = pd.read_csv('Logs/testing/2D_U_net_t1ce_t1_t2.log')\n",
    "df = df[['dice_coef', 'dice_coef_edema', 'dice_coef_enhancing', 'dice_coef_necrotic', 'mean_io_u']]\n",
    "df = pd.DataFrame(df.mean().to_dict(),index=[df.index.values[-1]])\n",
    "df.insert(loc=0, column='Modalities', value='T1ce, T1, T2')\n",
    "df"
   ]
  },
  {
   "cell_type": "code",
   "execution_count": 13,
   "id": "cc116ca3",
   "metadata": {},
   "outputs": [
    {
     "data": {
      "text/html": [
       "<div>\n",
       "<style scoped>\n",
       "    .dataframe tbody tr th:only-of-type {\n",
       "        vertical-align: middle;\n",
       "    }\n",
       "\n",
       "    .dataframe tbody tr th {\n",
       "        vertical-align: top;\n",
       "    }\n",
       "\n",
       "    .dataframe thead th {\n",
       "        text-align: right;\n",
       "    }\n",
       "</style>\n",
       "<table border=\"1\" class=\"dataframe\">\n",
       "  <thead>\n",
       "    <tr style=\"text-align: right;\">\n",
       "      <th></th>\n",
       "      <th>Modalities</th>\n",
       "      <th>dice_coef</th>\n",
       "      <th>dice_coef_edema</th>\n",
       "      <th>dice_coef_enhancing</th>\n",
       "      <th>dice_coef_necrotic</th>\n",
       "      <th>mean_io_u</th>\n",
       "    </tr>\n",
       "  </thead>\n",
       "  <tbody>\n",
       "    <tr>\n",
       "      <th>35</th>\n",
       "      <td>flair, T1ce, T2</td>\n",
       "      <td>0.652161</td>\n",
       "      <td>0.791219</td>\n",
       "      <td>0.753609</td>\n",
       "      <td>0.581129</td>\n",
       "      <td>0.780474</td>\n",
       "    </tr>\n",
       "  </tbody>\n",
       "</table>\n",
       "</div>"
      ],
      "text/plain": [
       "         Modalities  dice_coef  dice_coef_edema  dice_coef_enhancing  \\\n",
       "35  flair, T1ce, T2   0.652161         0.791219             0.753609   \n",
       "\n",
       "    dice_coef_necrotic  mean_io_u  \n",
       "35            0.581129   0.780474  "
      ]
     },
     "execution_count": 13,
     "metadata": {},
     "output_type": "execute_result"
    }
   ],
   "source": [
    "df2 = pd.read_csv('Logs/testing/2D_U_net_flair_t1ce_t2.log')\n",
    "df2 = df2[['dice_coef', 'dice_coef_edema', 'dice_coef_enhancing', 'dice_coef_necrotic', 'mean_io_u']]\n",
    "df2 = pd.DataFrame(df2.mean().to_dict(),index=[df.index.values[-1]])\n",
    "df2.insert(loc=0, column='Modalities', value='flair, T1ce, T2')\n",
    "df2"
   ]
  },
  {
   "cell_type": "code",
   "execution_count": 14,
   "id": "cad2a78a",
   "metadata": {},
   "outputs": [
    {
     "data": {
      "text/html": [
       "<div>\n",
       "<style scoped>\n",
       "    .dataframe tbody tr th:only-of-type {\n",
       "        vertical-align: middle;\n",
       "    }\n",
       "\n",
       "    .dataframe tbody tr th {\n",
       "        vertical-align: top;\n",
       "    }\n",
       "\n",
       "    .dataframe thead th {\n",
       "        text-align: right;\n",
       "    }\n",
       "</style>\n",
       "<table border=\"1\" class=\"dataframe\">\n",
       "  <thead>\n",
       "    <tr style=\"text-align: right;\">\n",
       "      <th></th>\n",
       "      <th>Modalities</th>\n",
       "      <th>dice_coef</th>\n",
       "      <th>dice_coef_edema</th>\n",
       "      <th>dice_coef_enhancing</th>\n",
       "      <th>dice_coef_necrotic</th>\n",
       "      <th>mean_io_u</th>\n",
       "    </tr>\n",
       "  </thead>\n",
       "  <tbody>\n",
       "    <tr>\n",
       "      <th>35</th>\n",
       "      <td>flair, T1ce, T1</td>\n",
       "      <td>0.635274</td>\n",
       "      <td>0.747193</td>\n",
       "      <td>0.764255</td>\n",
       "      <td>0.576376</td>\n",
       "      <td>0.603264</td>\n",
       "    </tr>\n",
       "  </tbody>\n",
       "</table>\n",
       "</div>"
      ],
      "text/plain": [
       "         Modalities  dice_coef  dice_coef_edema  dice_coef_enhancing  \\\n",
       "35  flair, T1ce, T1   0.635274         0.747193             0.764255   \n",
       "\n",
       "    dice_coef_necrotic  mean_io_u  \n",
       "35            0.576376   0.603264  "
      ]
     },
     "execution_count": 14,
     "metadata": {},
     "output_type": "execute_result"
    }
   ],
   "source": [
    "df3 = pd.read_csv('Logs/testing/2D_U_net_flair_t1ce_t1.log')\n",
    "df3 = df3[['dice_coef', 'dice_coef_edema', 'dice_coef_enhancing', 'dice_coef_necrotic', 'mean_io_u']]\n",
    "df3 = pd.DataFrame(df3.mean().to_dict(),index=[df.index.values[-1]])\n",
    "df3.insert(loc=0, column='Modalities', value='flair, T1ce, T1')\n",
    "df3"
   ]
  },
  {
   "cell_type": "code",
   "execution_count": 15,
   "id": "5ba21d48",
   "metadata": {},
   "outputs": [
    {
     "data": {
      "text/html": [
       "<div>\n",
       "<style scoped>\n",
       "    .dataframe tbody tr th:only-of-type {\n",
       "        vertical-align: middle;\n",
       "    }\n",
       "\n",
       "    .dataframe tbody tr th {\n",
       "        vertical-align: top;\n",
       "    }\n",
       "\n",
       "    .dataframe thead th {\n",
       "        text-align: right;\n",
       "    }\n",
       "</style>\n",
       "<table border=\"1\" class=\"dataframe\">\n",
       "  <thead>\n",
       "    <tr style=\"text-align: right;\">\n",
       "      <th></th>\n",
       "      <th>Modalities</th>\n",
       "      <th>dice_coef</th>\n",
       "      <th>dice_coef_edema</th>\n",
       "      <th>dice_coef_enhancing</th>\n",
       "      <th>dice_coef_necrotic</th>\n",
       "      <th>mean_io_u</th>\n",
       "    </tr>\n",
       "  </thead>\n",
       "  <tbody>\n",
       "    <tr>\n",
       "      <th>35</th>\n",
       "      <td>flair, T1, T2</td>\n",
       "      <td>0.470201</td>\n",
       "      <td>0.692284</td>\n",
       "      <td>0.344624</td>\n",
       "      <td>0.280474</td>\n",
       "      <td>0.78652</td>\n",
       "    </tr>\n",
       "  </tbody>\n",
       "</table>\n",
       "</div>"
      ],
      "text/plain": [
       "       Modalities  dice_coef  dice_coef_edema  dice_coef_enhancing  \\\n",
       "35  flair, T1, T2   0.470201         0.692284             0.344624   \n",
       "\n",
       "    dice_coef_necrotic  mean_io_u  \n",
       "35            0.280474    0.78652  "
      ]
     },
     "execution_count": 15,
     "metadata": {},
     "output_type": "execute_result"
    }
   ],
   "source": [
    "df4 = pd.read_csv('Logs/testing/2D_U_net_flair_t1_t2.log')\n",
    "df4 = df4[['dice_coef', 'dice_coef_edema', 'dice_coef_enhancing', 'dice_coef_necrotic', 'mean_io_u']]\n",
    "df4 = pd.DataFrame(df4.mean().to_dict(),index=[df.index.values[-1]])\n",
    "df4.insert(loc=0, column='Modalities', value='flair, T1, T2')\n",
    "df4"
   ]
  },
  {
   "cell_type": "code",
   "execution_count": 2,
   "id": "f501a470",
   "metadata": {},
   "outputs": [
    {
     "data": {
      "text/html": [
       "<div>\n",
       "<style scoped>\n",
       "    .dataframe tbody tr th:only-of-type {\n",
       "        vertical-align: middle;\n",
       "    }\n",
       "\n",
       "    .dataframe tbody tr th {\n",
       "        vertical-align: top;\n",
       "    }\n",
       "\n",
       "    .dataframe thead th {\n",
       "        text-align: right;\n",
       "    }\n",
       "</style>\n",
       "<table border=\"1\" class=\"dataframe\">\n",
       "  <thead>\n",
       "    <tr style=\"text-align: right;\">\n",
       "      <th></th>\n",
       "      <th>Modalities</th>\n",
       "      <th>dice_coef</th>\n",
       "      <th>dice_coef_edema</th>\n",
       "      <th>dice_coef_enhancing</th>\n",
       "      <th>dice_coef_necrotic</th>\n",
       "      <th>mean_io_u</th>\n",
       "    </tr>\n",
       "  </thead>\n",
       "  <tbody>\n",
       "    <tr>\n",
       "      <th>35</th>\n",
       "      <td>flair, T1ce, T1, T2</td>\n",
       "      <td>0.561791</td>\n",
       "      <td>0.696282</td>\n",
       "      <td>0.621676</td>\n",
       "      <td>0.47053</td>\n",
       "      <td>0.806074</td>\n",
       "    </tr>\n",
       "  </tbody>\n",
       "</table>\n",
       "</div>"
      ],
      "text/plain": [
       "             Modalities  dice_coef  dice_coef_edema  dice_coef_enhancing  \\\n",
       "35  flair, T1ce, T1, T2   0.561791         0.696282             0.621676   \n",
       "\n",
       "    dice_coef_necrotic  mean_io_u  \n",
       "35             0.47053   0.806074  "
      ]
     },
     "execution_count": 2,
     "metadata": {},
     "output_type": "execute_result"
    }
   ],
   "source": [
    "df5 = pd.read_csv('Logs/testing/2D_U_net_4ch.log')\n",
    "df5 = df5[['dice_coef', 'dice_coef_edema', 'dice_coef_enhancing', 'dice_coef_necrotic', 'mean_io_u']]\n",
    "df5 = pd.DataFrame(df5.mean().to_dict(),index=[df5.index.values[-1]])\n",
    "df5.insert(loc=0, column='Modalities', value='flair, T1ce, T1, T2')\n",
    "df5"
   ]
  },
  {
   "cell_type": "code",
   "execution_count": 25,
   "id": "fdded2a8",
   "metadata": {},
   "outputs": [
    {
     "data": {
      "text/html": [
       "<div>\n",
       "<style scoped>\n",
       "    .dataframe tbody tr th:only-of-type {\n",
       "        vertical-align: middle;\n",
       "    }\n",
       "\n",
       "    .dataframe tbody tr th {\n",
       "        vertical-align: top;\n",
       "    }\n",
       "\n",
       "    .dataframe thead th {\n",
       "        text-align: right;\n",
       "    }\n",
       "</style>\n",
       "<table border=\"1\" class=\"dataframe\">\n",
       "  <thead>\n",
       "    <tr style=\"text-align: right;\">\n",
       "      <th></th>\n",
       "      <th>Modalities</th>\n",
       "      <th>dice_coef</th>\n",
       "      <th>dice_coef_edema</th>\n",
       "      <th>dice_coef_enhancing</th>\n",
       "      <th>dice_coef_necrotic</th>\n",
       "      <th>mean_io_u</th>\n",
       "    </tr>\n",
       "  </thead>\n",
       "  <tbody>\n",
       "    <tr>\n",
       "      <th>35</th>\n",
       "      <td>flair, T1ce, T2</td>\n",
       "      <td>0.652161</td>\n",
       "      <td>0.791219</td>\n",
       "      <td>0.753609</td>\n",
       "      <td>0.581129</td>\n",
       "      <td>0.780474</td>\n",
       "    </tr>\n",
       "    <tr>\n",
       "      <th>35</th>\n",
       "      <td>flair, T1ce, T1</td>\n",
       "      <td>0.635274</td>\n",
       "      <td>0.747193</td>\n",
       "      <td>0.764255</td>\n",
       "      <td>0.576376</td>\n",
       "      <td>0.603264</td>\n",
       "    </tr>\n",
       "    <tr>\n",
       "      <th>35</th>\n",
       "      <td>T1ce, T1, T2</td>\n",
       "      <td>0.573528</td>\n",
       "      <td>0.678830</td>\n",
       "      <td>0.671788</td>\n",
       "      <td>0.464530</td>\n",
       "      <td>0.667528</td>\n",
       "    </tr>\n",
       "    <tr>\n",
       "      <th>35</th>\n",
       "      <td>flair, T1ce, T1, T2</td>\n",
       "      <td>0.561791</td>\n",
       "      <td>0.696282</td>\n",
       "      <td>0.621676</td>\n",
       "      <td>0.470530</td>\n",
       "      <td>0.806074</td>\n",
       "    </tr>\n",
       "    <tr>\n",
       "      <th>35</th>\n",
       "      <td>flair, T1, T2</td>\n",
       "      <td>0.470201</td>\n",
       "      <td>0.692284</td>\n",
       "      <td>0.344624</td>\n",
       "      <td>0.280474</td>\n",
       "      <td>0.786520</td>\n",
       "    </tr>\n",
       "  </tbody>\n",
       "</table>\n",
       "</div>"
      ],
      "text/plain": [
       "             Modalities  dice_coef  dice_coef_edema  dice_coef_enhancing  \\\n",
       "35      flair, T1ce, T2   0.652161         0.791219             0.753609   \n",
       "35      flair, T1ce, T1   0.635274         0.747193             0.764255   \n",
       "35         T1ce, T1, T2   0.573528         0.678830             0.671788   \n",
       "35  flair, T1ce, T1, T2   0.561791         0.696282             0.621676   \n",
       "35        flair, T1, T2   0.470201         0.692284             0.344624   \n",
       "\n",
       "    dice_coef_necrotic  mean_io_u  \n",
       "35            0.581129   0.780474  \n",
       "35            0.576376   0.603264  \n",
       "35            0.464530   0.667528  \n",
       "35            0.470530   0.806074  \n",
       "35            0.280474   0.786520  "
      ]
     },
     "execution_count": 25,
     "metadata": {},
     "output_type": "execute_result"
    }
   ],
   "source": [
    "test_df = pd.concat([df, df2, df3, df4, df5])\n",
    "test_df.sort_values(by=['dice_coef'], ascending=False, inplace=True)\n",
    "test_df"
   ]
  },
  {
   "cell_type": "markdown",
   "id": "d707480c",
   "metadata": {},
   "source": [
    "### Validation subset"
   ]
  },
  {
   "cell_type": "code",
   "execution_count": 32,
   "id": "ce9280ff",
   "metadata": {},
   "outputs": [
    {
     "data": {
      "text/html": [
       "<div>\n",
       "<style scoped>\n",
       "    .dataframe tbody tr th:only-of-type {\n",
       "        vertical-align: middle;\n",
       "    }\n",
       "\n",
       "    .dataframe tbody tr th {\n",
       "        vertical-align: top;\n",
       "    }\n",
       "\n",
       "    .dataframe thead th {\n",
       "        text-align: right;\n",
       "    }\n",
       "</style>\n",
       "<table border=\"1\" class=\"dataframe\">\n",
       "  <thead>\n",
       "    <tr style=\"text-align: right;\">\n",
       "      <th></th>\n",
       "      <th>Modalities</th>\n",
       "      <th>dice_coef</th>\n",
       "      <th>dice_coef_edema</th>\n",
       "      <th>dice_coef_enhancing</th>\n",
       "      <th>dice_coef_necrotic</th>\n",
       "      <th>mean_io_u</th>\n",
       "    </tr>\n",
       "  </thead>\n",
       "  <tbody>\n",
       "    <tr>\n",
       "      <th>35</th>\n",
       "      <td>flair, T1ce, T1, T2</td>\n",
       "      <td>0.540295</td>\n",
       "      <td>0.706268</td>\n",
       "      <td>0.624988</td>\n",
       "      <td>0.344445</td>\n",
       "      <td>0.809583</td>\n",
       "    </tr>\n",
       "  </tbody>\n",
       "</table>\n",
       "</div>"
      ],
      "text/plain": [
       "             Modalities  dice_coef  dice_coef_edema  dice_coef_enhancing  \\\n",
       "35  flair, T1ce, T1, T2   0.540295         0.706268             0.624988   \n",
       "\n",
       "    dice_coef_necrotic  mean_io_u  \n",
       "35            0.344445   0.809583  "
      ]
     },
     "execution_count": 32,
     "metadata": {},
     "output_type": "execute_result"
    }
   ],
   "source": [
    "df6 = pd.read_csv('Logs/validation/2D_U_net_4ch.log')\n",
    "df6 = df6[['dice_coef', 'dice_coef_edema', 'dice_coef_enhancing', 'dice_coef_necrotic', 'mean_io_u']]\n",
    "df6 = pd.DataFrame(df6.mean().to_dict(),index=[df.index.values[-1]])\n",
    "df6.insert(loc=0, column='Modalities', value='flair, T1ce, T1, T2')\n",
    "df6"
   ]
  },
  {
   "cell_type": "code",
   "execution_count": 33,
   "id": "1c0aaa0c",
   "metadata": {},
   "outputs": [
    {
     "data": {
      "text/html": [
       "<div>\n",
       "<style scoped>\n",
       "    .dataframe tbody tr th:only-of-type {\n",
       "        vertical-align: middle;\n",
       "    }\n",
       "\n",
       "    .dataframe tbody tr th {\n",
       "        vertical-align: top;\n",
       "    }\n",
       "\n",
       "    .dataframe thead th {\n",
       "        text-align: right;\n",
       "    }\n",
       "</style>\n",
       "<table border=\"1\" class=\"dataframe\">\n",
       "  <thead>\n",
       "    <tr style=\"text-align: right;\">\n",
       "      <th></th>\n",
       "      <th>Modalities</th>\n",
       "      <th>dice_coef</th>\n",
       "      <th>dice_coef_edema</th>\n",
       "      <th>dice_coef_enhancing</th>\n",
       "      <th>dice_coef_necrotic</th>\n",
       "      <th>mean_io_u</th>\n",
       "    </tr>\n",
       "  </thead>\n",
       "  <tbody>\n",
       "    <tr>\n",
       "      <th>35</th>\n",
       "      <td>flair, T1ce, T1</td>\n",
       "      <td>0.5529</td>\n",
       "      <td>0.632786</td>\n",
       "      <td>0.581841</td>\n",
       "      <td>0.451666</td>\n",
       "      <td>0.592999</td>\n",
       "    </tr>\n",
       "  </tbody>\n",
       "</table>\n",
       "</div>"
      ],
      "text/plain": [
       "         Modalities  dice_coef  dice_coef_edema  dice_coef_enhancing  \\\n",
       "35  flair, T1ce, T1     0.5529         0.632786             0.581841   \n",
       "\n",
       "    dice_coef_necrotic  mean_io_u  \n",
       "35            0.451666   0.592999  "
      ]
     },
     "execution_count": 33,
     "metadata": {},
     "output_type": "execute_result"
    }
   ],
   "source": [
    "df7 = pd.read_csv('Logs/validation/2D_U_net_flair_t1ce_t1.log')\n",
    "df7 = df7[['dice_coef', 'dice_coef_edema', 'dice_coef_enhancing', 'dice_coef_necrotic', 'mean_io_u']]\n",
    "df7 = pd.DataFrame(df7.mean().to_dict(),index=[df.index.values[-1]])\n",
    "df7.insert(loc=0, column='Modalities', value='flair, T1ce, T1')\n",
    "df7"
   ]
  },
  {
   "cell_type": "code",
   "execution_count": 34,
   "id": "0c1c6928",
   "metadata": {},
   "outputs": [
    {
     "data": {
      "text/html": [
       "<div>\n",
       "<style scoped>\n",
       "    .dataframe tbody tr th:only-of-type {\n",
       "        vertical-align: middle;\n",
       "    }\n",
       "\n",
       "    .dataframe tbody tr th {\n",
       "        vertical-align: top;\n",
       "    }\n",
       "\n",
       "    .dataframe thead th {\n",
       "        text-align: right;\n",
       "    }\n",
       "</style>\n",
       "<table border=\"1\" class=\"dataframe\">\n",
       "  <thead>\n",
       "    <tr style=\"text-align: right;\">\n",
       "      <th></th>\n",
       "      <th>Modalities</th>\n",
       "      <th>dice_coef</th>\n",
       "      <th>dice_coef_edema</th>\n",
       "      <th>dice_coef_enhancing</th>\n",
       "      <th>dice_coef_necrotic</th>\n",
       "      <th>mean_io_u</th>\n",
       "    </tr>\n",
       "  </thead>\n",
       "  <tbody>\n",
       "    <tr>\n",
       "      <th>35</th>\n",
       "      <td>flair, T1ce, T2</td>\n",
       "      <td>0.588444</td>\n",
       "      <td>0.715345</td>\n",
       "      <td>0.643784</td>\n",
       "      <td>0.484155</td>\n",
       "      <td>0.785045</td>\n",
       "    </tr>\n",
       "  </tbody>\n",
       "</table>\n",
       "</div>"
      ],
      "text/plain": [
       "         Modalities  dice_coef  dice_coef_edema  dice_coef_enhancing  \\\n",
       "35  flair, T1ce, T2   0.588444         0.715345             0.643784   \n",
       "\n",
       "    dice_coef_necrotic  mean_io_u  \n",
       "35            0.484155   0.785045  "
      ]
     },
     "execution_count": 34,
     "metadata": {},
     "output_type": "execute_result"
    }
   ],
   "source": [
    "df8 = pd.read_csv('Logs/validation/2D_U_net_flair_t1ce_t2.log')\n",
    "df8 = df8[['dice_coef', 'dice_coef_edema', 'dice_coef_enhancing', 'dice_coef_necrotic', 'mean_io_u']]\n",
    "df8 = pd.DataFrame(df8.mean().to_dict(),index=[df.index.values[-1]])\n",
    "df8.insert(loc=0, column='Modalities', value='flair, T1ce, T2')\n",
    "df8"
   ]
  },
  {
   "cell_type": "code",
   "execution_count": 35,
   "id": "7ded44b6",
   "metadata": {},
   "outputs": [
    {
     "data": {
      "text/html": [
       "<div>\n",
       "<style scoped>\n",
       "    .dataframe tbody tr th:only-of-type {\n",
       "        vertical-align: middle;\n",
       "    }\n",
       "\n",
       "    .dataframe tbody tr th {\n",
       "        vertical-align: top;\n",
       "    }\n",
       "\n",
       "    .dataframe thead th {\n",
       "        text-align: right;\n",
       "    }\n",
       "</style>\n",
       "<table border=\"1\" class=\"dataframe\">\n",
       "  <thead>\n",
       "    <tr style=\"text-align: right;\">\n",
       "      <th></th>\n",
       "      <th>Modalities</th>\n",
       "      <th>dice_coef</th>\n",
       "      <th>dice_coef_edema</th>\n",
       "      <th>dice_coef_enhancing</th>\n",
       "      <th>dice_coef_necrotic</th>\n",
       "      <th>mean_io_u</th>\n",
       "    </tr>\n",
       "  </thead>\n",
       "  <tbody>\n",
       "    <tr>\n",
       "      <th>35</th>\n",
       "      <td>T1ce, T1, T2</td>\n",
       "      <td>0.55119</td>\n",
       "      <td>0.65363</td>\n",
       "      <td>0.618653</td>\n",
       "      <td>0.4256</td>\n",
       "      <td>0.666595</td>\n",
       "    </tr>\n",
       "  </tbody>\n",
       "</table>\n",
       "</div>"
      ],
      "text/plain": [
       "      Modalities  dice_coef  dice_coef_edema  dice_coef_enhancing  \\\n",
       "35  T1ce, T1, T2    0.55119          0.65363             0.618653   \n",
       "\n",
       "    dice_coef_necrotic  mean_io_u  \n",
       "35              0.4256   0.666595  "
      ]
     },
     "execution_count": 35,
     "metadata": {},
     "output_type": "execute_result"
    }
   ],
   "source": [
    "df9 = pd.read_csv('Logs/validation/2D_U_net_t1ce_t1_t2.log')\n",
    "df9 = df9[['dice_coef', 'dice_coef_edema', 'dice_coef_enhancing', 'dice_coef_necrotic', 'mean_io_u']]\n",
    "df9 = pd.DataFrame(df9.mean().to_dict(),index=[df.index.values[-1]])\n",
    "df9.insert(loc=0, column='Modalities', value='T1ce, T1, T2')\n",
    "df9"
   ]
  },
  {
   "cell_type": "code",
   "execution_count": 36,
   "id": "baf0643b",
   "metadata": {},
   "outputs": [
    {
     "data": {
      "text/html": [
       "<div>\n",
       "<style scoped>\n",
       "    .dataframe tbody tr th:only-of-type {\n",
       "        vertical-align: middle;\n",
       "    }\n",
       "\n",
       "    .dataframe tbody tr th {\n",
       "        vertical-align: top;\n",
       "    }\n",
       "\n",
       "    .dataframe thead th {\n",
       "        text-align: right;\n",
       "    }\n",
       "</style>\n",
       "<table border=\"1\" class=\"dataframe\">\n",
       "  <thead>\n",
       "    <tr style=\"text-align: right;\">\n",
       "      <th></th>\n",
       "      <th>Modalities</th>\n",
       "      <th>dice_coef</th>\n",
       "      <th>dice_coef_edema</th>\n",
       "      <th>dice_coef_enhancing</th>\n",
       "      <th>dice_coef_necrotic</th>\n",
       "      <th>mean_io_u</th>\n",
       "    </tr>\n",
       "  </thead>\n",
       "  <tbody>\n",
       "    <tr>\n",
       "      <th>35</th>\n",
       "      <td>flair, T1, T2</td>\n",
       "      <td>0.45127</td>\n",
       "      <td>0.638922</td>\n",
       "      <td>0.335237</td>\n",
       "      <td>0.273931</td>\n",
       "      <td>0.778284</td>\n",
       "    </tr>\n",
       "  </tbody>\n",
       "</table>\n",
       "</div>"
      ],
      "text/plain": [
       "       Modalities  dice_coef  dice_coef_edema  dice_coef_enhancing  \\\n",
       "35  flair, T1, T2    0.45127         0.638922             0.335237   \n",
       "\n",
       "    dice_coef_necrotic  mean_io_u  \n",
       "35            0.273931   0.778284  "
      ]
     },
     "execution_count": 36,
     "metadata": {},
     "output_type": "execute_result"
    }
   ],
   "source": [
    "df10 = pd.read_csv('Logs/validation/2D_U_net_flair_t1_t2.log')\n",
    "df10 = df10[['dice_coef', 'dice_coef_edema', 'dice_coef_enhancing', 'dice_coef_necrotic', 'mean_io_u']]\n",
    "df10 = pd.DataFrame(df10.mean().to_dict(),index=[df.index.values[-1]])\n",
    "df10.insert(loc=0, column='Modalities', value='flair, T1, T2')\n",
    "df10"
   ]
  },
  {
   "cell_type": "code",
   "execution_count": 37,
   "id": "aa730626",
   "metadata": {},
   "outputs": [
    {
     "data": {
      "text/html": [
       "<div>\n",
       "<style scoped>\n",
       "    .dataframe tbody tr th:only-of-type {\n",
       "        vertical-align: middle;\n",
       "    }\n",
       "\n",
       "    .dataframe tbody tr th {\n",
       "        vertical-align: top;\n",
       "    }\n",
       "\n",
       "    .dataframe thead th {\n",
       "        text-align: right;\n",
       "    }\n",
       "</style>\n",
       "<table border=\"1\" class=\"dataframe\">\n",
       "  <thead>\n",
       "    <tr style=\"text-align: right;\">\n",
       "      <th></th>\n",
       "      <th>Modalities</th>\n",
       "      <th>dice_coef</th>\n",
       "      <th>dice_coef_edema</th>\n",
       "      <th>dice_coef_enhancing</th>\n",
       "      <th>dice_coef_necrotic</th>\n",
       "      <th>mean_io_u</th>\n",
       "    </tr>\n",
       "  </thead>\n",
       "  <tbody>\n",
       "    <tr>\n",
       "      <th>35</th>\n",
       "      <td>flair, T1ce, T2</td>\n",
       "      <td>0.588444</td>\n",
       "      <td>0.715345</td>\n",
       "      <td>0.643784</td>\n",
       "      <td>0.484155</td>\n",
       "      <td>0.785045</td>\n",
       "    </tr>\n",
       "    <tr>\n",
       "      <th>35</th>\n",
       "      <td>flair, T1ce, T1</td>\n",
       "      <td>0.552900</td>\n",
       "      <td>0.632786</td>\n",
       "      <td>0.581841</td>\n",
       "      <td>0.451666</td>\n",
       "      <td>0.592999</td>\n",
       "    </tr>\n",
       "    <tr>\n",
       "      <th>35</th>\n",
       "      <td>T1ce, T1, T2</td>\n",
       "      <td>0.551190</td>\n",
       "      <td>0.653630</td>\n",
       "      <td>0.618653</td>\n",
       "      <td>0.425600</td>\n",
       "      <td>0.666595</td>\n",
       "    </tr>\n",
       "    <tr>\n",
       "      <th>35</th>\n",
       "      <td>flair, T1ce, T1, T2</td>\n",
       "      <td>0.540295</td>\n",
       "      <td>0.706268</td>\n",
       "      <td>0.624988</td>\n",
       "      <td>0.344445</td>\n",
       "      <td>0.809583</td>\n",
       "    </tr>\n",
       "    <tr>\n",
       "      <th>35</th>\n",
       "      <td>flair, T1, T2</td>\n",
       "      <td>0.451270</td>\n",
       "      <td>0.638922</td>\n",
       "      <td>0.335237</td>\n",
       "      <td>0.273931</td>\n",
       "      <td>0.778284</td>\n",
       "    </tr>\n",
       "  </tbody>\n",
       "</table>\n",
       "</div>"
      ],
      "text/plain": [
       "             Modalities  dice_coef  dice_coef_edema  dice_coef_enhancing  \\\n",
       "35      flair, T1ce, T2   0.588444         0.715345             0.643784   \n",
       "35      flair, T1ce, T1   0.552900         0.632786             0.581841   \n",
       "35         T1ce, T1, T2   0.551190         0.653630             0.618653   \n",
       "35  flair, T1ce, T1, T2   0.540295         0.706268             0.624988   \n",
       "35        flair, T1, T2   0.451270         0.638922             0.335237   \n",
       "\n",
       "    dice_coef_necrotic  mean_io_u  \n",
       "35            0.484155   0.785045  \n",
       "35            0.451666   0.592999  \n",
       "35            0.425600   0.666595  \n",
       "35            0.344445   0.809583  \n",
       "35            0.273931   0.778284  "
      ]
     },
     "execution_count": 37,
     "metadata": {},
     "output_type": "execute_result"
    }
   ],
   "source": [
    "valid_df = pd.concat([df6, df7, df8, df9, df10])\n",
    "valid_df.sort_values(by=['dice_coef'], ascending=False, inplace=True)\n",
    "valid_df"
   ]
  },
  {
   "cell_type": "code",
   "execution_count": null,
   "id": "6f71c6fd",
   "metadata": {},
   "outputs": [],
   "source": []
  },
  {
   "cell_type": "code",
   "execution_count": null,
   "id": "7d505f51",
   "metadata": {},
   "outputs": [],
   "source": []
  },
  {
   "cell_type": "code",
   "execution_count": 3,
   "id": "875846f2",
   "metadata": {},
   "outputs": [
    {
     "name": "stdout",
     "output_type": "stream",
     "text": [
      "\\begin{tabular}{lrrrrr}\n",
      "\\toprule\n",
      "         Modalities &  dice\\_coef &  dice\\_coef\\_edema &  dice\\_coef\\_enhancing &  dice\\_coef\\_necrotic &  mean\\_io\\_u \\\\\n",
      "\\midrule\n",
      "flair, T1ce, T1, T2 &     0.5618 &           0.6963 &               0.6217 &              0.4705 &     0.8061 \\\\\n",
      "\\bottomrule\n",
      "\\end{tabular}\n",
      "\n"
     ]
    },
    {
     "name": "stderr",
     "output_type": "stream",
     "text": [
      "C:\\Users\\VegardEikenes\\AppData\\Local\\Temp\\ipykernel_22592\\3175879319.py:2: FutureWarning: In future versions `DataFrame.to_latex` is expected to utilise the base implementation of `Styler.to_latex` for formatting and rendering. The arguments signature may therefore change. It is recommended instead to use `DataFrame.style.to_latex` which also contains additional functionality.\n",
      "  print(df5.round(decimals=4).to_latex(index=False))\n"
     ]
    }
   ],
   "source": [
    "# concated = pd.concat([test_df, valid_df])\n",
    "print(df5.round(decimals=4).to_latex(index=False))"
   ]
  },
  {
   "cell_type": "code",
   "execution_count": null,
   "id": "eeec3c80",
   "metadata": {},
   "outputs": [],
   "source": []
  }
 ],
 "metadata": {
  "kernelspec": {
   "display_name": "Python 3 (ipykernel)",
   "language": "python",
   "name": "python3"
  },
  "language_info": {
   "codemirror_mode": {
    "name": "ipython",
    "version": 3
   },
   "file_extension": ".py",
   "mimetype": "text/x-python",
   "name": "python",
   "nbconvert_exporter": "python",
   "pygments_lexer": "ipython3",
   "version": "3.11.0"
  }
 },
 "nbformat": 4,
 "nbformat_minor": 5
}
