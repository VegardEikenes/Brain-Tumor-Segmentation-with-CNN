{
 "cells": [
  {
   "cell_type": "code",
   "execution_count": null,
   "id": "af5039c9",
   "metadata": {},
   "outputs": [],
   "source": [
    "from tensorflow.keras import models, layers, regularizers\n",
    "from tensorflow.keras import backend as K\n",
    "import os\n",
    "import cv2\n",
    "import glob\n",
    "import PIL\n",
    "import shutil\n",
    "import numpy as np\n",
    "import pandas as pd\n",
    "from Datagens import *\n",
    "from AttentionUnet import *\n",
    "from metrics import *\n",
    "\n",
    "# ml libs\n",
    "from tensorflow import keras\n",
    "import keras.backend as K\n",
    "from keras.callbacks import CSVLogger\n",
    "import tensorflow as tf\n",
    "from tensorflow.keras.utils import plot_model\n",
    "from sklearn.preprocessing import MinMaxScaler\n",
    "from sklearn.model_selection import train_test_split\n",
    "from sklearn.metrics import classification_report\n",
    "from tensorflow.keras.optimizers import *\n",
    "from tensorflow.keras.callbacks import ModelCheckpoint, ReduceLROnPlateau, EarlyStopping, TensorBoard\n",
    "from tensorflow.keras.layers.experimental import preprocessing\n",
    "\n",
    "np.set_printoptions(precision=3, suppress=True)\n",
    "\n",
    "CSVLogger.on_test_begin = CSVLogger.on_train_begin\n",
    "CSVLogger.on_test_batch_end = CSVLogger.on_epoch_end\n",
    "CSVLogger.on_test_end = CSVLogger.on_train_end"
   ]
  },
  {
   "cell_type": "code",
   "execution_count": null,
   "id": "6662f9c1",
   "metadata": {},
   "outputs": [],
   "source": [
    "model = build_attention_unet(n_channels=3, ker_init='he_normal', dropout=0.2)\n",
    "model.compile(loss=\"categorical_crossentropy\", optimizer=keras.optimizers.Adam(learning_rate=0.001), metrics = ['accuracy',tf.keras.metrics.MeanIoU(num_classes=4), dice_coef, dice_coef_necrotic, dice_coef_edema ,dice_coef_enhancing] )"
   ]
  },
  {
   "cell_type": "code",
   "execution_count": null,
   "id": "d8da23e6",
   "metadata": {},
   "outputs": [],
   "source": [
    "directory = [f.path for f in os.scandir(PATH) if f.is_dir()]\n",
    "\n",
    "\n",
    "def generate_ids(dirLst):\n",
    "    ids = []\n",
    "    for i in range(0,len(dirLst)):\n",
    "        ids.append(dirLst[i][dirLst[i].rfind('/')+1:])\n",
    "    return ids\n",
    "\n",
    "train_and_test_ids = generate_ids(directory); \n",
    "\n",
    "    \n",
    "train_test_ids, val_ids = train_test_split(train_and_test_ids, train_size=236, test_size=60, random_state=14) \n",
    "train_ids, test_ids = train_test_split(train_test_ids, test_size=36, random_state=14) "
   ]
  },
  {
   "cell_type": "code",
   "execution_count": null,
   "id": "f6c85917",
   "metadata": {},
   "outputs": [],
   "source": [
    "training_generator = DataGenerator2D(train_ids)\n",
    "valid_generator = DataGenerator2D(val_ids)\n",
    "test_generator = DataGenerator2D(test_ids)"
   ]
  },
  {
   "cell_type": "code",
   "execution_count": null,
   "id": "65e99851",
   "metadata": {},
   "outputs": [],
   "source": [
    "csv_logger = CSVLogger('Logs/training/test.log', separator=',', append=False)\n",
    "\n",
    "eval_csv_logger = CSVLogger('Logs/testing/test.log', separator=',', append=False)\n",
    "\n",
    "\n",
    "callbacks = [\n",
    "      keras.callbacks.ReduceLROnPlateau(monitor='val_loss', factor=0.2,\n",
    "                              patience=2, min_lr=0.000001, verbose=1),\n",
    "        csv_logger\n",
    "    ]"
   ]
  },
  {
   "cell_type": "code",
   "execution_count": null,
   "id": "34db0abe",
   "metadata": {},
   "outputs": [],
   "source": [
    "K.clear_session()\n",
    "\n",
    "history =  model.fit(training_generator,\n",
    "                    epochs=100,\n",
    "                    steps_per_epoch=len(train_ids),\n",
    "                    callbacks= callbacks,\n",
    "                    validation_data = valid_generator\n",
    "                    )  \n",
    "model.save(\"Models/test.h5\")"
   ]
  },
  {
   "cell_type": "code",
   "execution_count": null,
   "id": "9d887764",
   "metadata": {},
   "outputs": [],
   "source": [
    "# model = keras.models.load_model('Models/2D/attU_net_2d.h5', \n",
    "#                                    custom_objects={ 'accuracy' : tf.keras.metrics.MeanIoU(num_classes=4),\n",
    "#                                                    \"dice_coef\": dice_coef,\n",
    "#                                                    \"dice_coef_necrotic\": dice_coef_necrotic,\n",
    "#                                                    \"dice_coef_edema\": dice_coef_edema,\n",
    "#                                                    \"dice_coef_enhancing\": dice_coef_enhancing\n",
    "#                                                   }, compile=True)"
   ]
  },
  {
   "cell_type": "code",
   "execution_count": null,
   "id": "31c6756d",
   "metadata": {},
   "outputs": [],
   "source": [
    "model.evaluate(test_generator, callbacks=eval_csv_logger, verbose=1)"
   ]
  },
  {
   "cell_type": "code",
   "execution_count": null,
   "id": "8c939087",
   "metadata": {},
   "outputs": [],
   "source": [
    "valid_csv_logger = CSVLogger('Logs/validation/test.log', separator=',', append=False)\n",
    "model.evaluate(valid_generator, callbacks=valid_csv_logger, verbose=1)"
   ]
  }
 ],
 "metadata": {
  "kernelspec": {
   "display_name": "Python 3 (ipykernel)",
   "language": "python",
   "name": "python3"
  },
  "language_info": {
   "codemirror_mode": {
    "name": "ipython",
    "version": 3
   },
   "file_extension": ".py",
   "mimetype": "text/x-python",
   "name": "python",
   "nbconvert_exporter": "python",
   "pygments_lexer": "ipython3",
   "version": "3.9.16"
  }
 },
 "nbformat": 4,
 "nbformat_minor": 5
}
