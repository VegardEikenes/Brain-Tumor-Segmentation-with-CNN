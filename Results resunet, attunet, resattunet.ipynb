{
 "cells": [
  {
   "cell_type": "code",
   "execution_count": 1,
   "id": "bb73704d",
   "metadata": {},
   "outputs": [],
   "source": [
    "import pandas as pd"
   ]
  },
  {
   "cell_type": "code",
   "execution_count": 2,
   "id": "ae3a96f6",
   "metadata": {},
   "outputs": [
    {
     "data": {
      "text/html": [
       "<div>\n",
       "<style scoped>\n",
       "    .dataframe tbody tr th:only-of-type {\n",
       "        vertical-align: middle;\n",
       "    }\n",
       "\n",
       "    .dataframe tbody tr th {\n",
       "        vertical-align: top;\n",
       "    }\n",
       "\n",
       "    .dataframe thead th {\n",
       "        text-align: right;\n",
       "    }\n",
       "</style>\n",
       "<table border=\"1\" class=\"dataframe\">\n",
       "  <thead>\n",
       "    <tr style=\"text-align: right;\">\n",
       "      <th></th>\n",
       "      <th>Architecture</th>\n",
       "      <th>dice_coef</th>\n",
       "      <th>dice_coef_edema</th>\n",
       "      <th>dice_coef_enhancing</th>\n",
       "      <th>dice_coef_necrotic</th>\n",
       "      <th>mean_io_u</th>\n",
       "    </tr>\n",
       "  </thead>\n",
       "  <tbody>\n",
       "    <tr>\n",
       "      <th>35</th>\n",
       "      <td>Residual U-Net</td>\n",
       "      <td>0.565885</td>\n",
       "      <td>0.724423</td>\n",
       "      <td>0.61398</td>\n",
       "      <td>0.463446</td>\n",
       "      <td>0.789243</td>\n",
       "    </tr>\n",
       "  </tbody>\n",
       "</table>\n",
       "</div>"
      ],
      "text/plain": [
       "      Architecture  dice_coef  dice_coef_edema  dice_coef_enhancing  \\\n",
       "35  Residual U-Net   0.565885         0.724423              0.61398   \n",
       "\n",
       "    dice_coef_necrotic  mean_io_u  \n",
       "35            0.463446   0.789243  "
      ]
     },
     "execution_count": 2,
     "metadata": {},
     "output_type": "execute_result"
    }
   ],
   "source": [
    "df = pd.read_csv('Logs/testing/resU_net_2d.log')\n",
    "df = df[['dice_coef', 'dice_coef_edema', 'dice_coef_enhancing', 'dice_coef_necrotic', 'mean_io_u']]\n",
    "df = pd.DataFrame(df.mean().to_dict(),index=[df.index.values[-1]])\n",
    "df.insert(loc=0, column='Architecture', value='Residual U-Net')\n",
    "df"
   ]
  },
  {
   "cell_type": "code",
   "execution_count": 4,
   "id": "059e8582",
   "metadata": {},
   "outputs": [
    {
     "data": {
      "text/html": [
       "<div>\n",
       "<style scoped>\n",
       "    .dataframe tbody tr th:only-of-type {\n",
       "        vertical-align: middle;\n",
       "    }\n",
       "\n",
       "    .dataframe tbody tr th {\n",
       "        vertical-align: top;\n",
       "    }\n",
       "\n",
       "    .dataframe thead th {\n",
       "        text-align: right;\n",
       "    }\n",
       "</style>\n",
       "<table border=\"1\" class=\"dataframe\">\n",
       "  <thead>\n",
       "    <tr style=\"text-align: right;\">\n",
       "      <th></th>\n",
       "      <th>Architecture</th>\n",
       "      <th>dice_coef</th>\n",
       "      <th>dice_coef_edema</th>\n",
       "      <th>dice_coef_enhancing</th>\n",
       "      <th>dice_coef_necrotic</th>\n",
       "      <th>mean_io_u</th>\n",
       "    </tr>\n",
       "  </thead>\n",
       "  <tbody>\n",
       "    <tr>\n",
       "      <th>35</th>\n",
       "      <td>Attention U-Net</td>\n",
       "      <td>0.372804</td>\n",
       "      <td>0.282975</td>\n",
       "      <td>0.170913</td>\n",
       "      <td>0.166693</td>\n",
       "      <td>0.857012</td>\n",
       "    </tr>\n",
       "  </tbody>\n",
       "</table>\n",
       "</div>"
      ],
      "text/plain": [
       "       Architecture  dice_coef  dice_coef_edema  dice_coef_enhancing  \\\n",
       "35  Attention U-Net   0.372804         0.282975             0.170913   \n",
       "\n",
       "    dice_coef_necrotic  mean_io_u  \n",
       "35            0.166693   0.857012  "
      ]
     },
     "execution_count": 4,
     "metadata": {},
     "output_type": "execute_result"
    }
   ],
   "source": [
    "df2 = pd.read_csv('Logs/testing/attU_net_2d.log')\n",
    "df2 = df2[['dice_coef', 'dice_coef_edema', 'dice_coef_enhancing', 'dice_coef_necrotic', 'mean_io_u']]\n",
    "df2 = pd.DataFrame(df2.mean().to_dict(),index=[df.index.values[-1]])\n",
    "df2.insert(loc=0, column='Architecture', value='Attention U-Net')\n",
    "df2"
   ]
  },
  {
   "cell_type": "code",
   "execution_count": 16,
   "id": "2c25a1c7",
   "metadata": {},
   "outputs": [
    {
     "data": {
      "text/html": [
       "<div>\n",
       "<style scoped>\n",
       "    .dataframe tbody tr th:only-of-type {\n",
       "        vertical-align: middle;\n",
       "    }\n",
       "\n",
       "    .dataframe tbody tr th {\n",
       "        vertical-align: top;\n",
       "    }\n",
       "\n",
       "    .dataframe thead th {\n",
       "        text-align: right;\n",
       "    }\n",
       "</style>\n",
       "<table border=\"1\" class=\"dataframe\">\n",
       "  <thead>\n",
       "    <tr style=\"text-align: right;\">\n",
       "      <th></th>\n",
       "      <th>Architecture</th>\n",
       "      <th>dice_coef</th>\n",
       "      <th>dice_coef_edema</th>\n",
       "      <th>dice_coef_enhancing</th>\n",
       "      <th>dice_coef_necrotic</th>\n",
       "      <th>mean_io_u</th>\n",
       "    </tr>\n",
       "  </thead>\n",
       "  <tbody>\n",
       "    <tr>\n",
       "      <th>35</th>\n",
       "      <td>Residual Attention U-Net</td>\n",
       "      <td>0.408476</td>\n",
       "      <td>0.360074</td>\n",
       "      <td>0.362405</td>\n",
       "      <td>0.196959</td>\n",
       "      <td>0.789009</td>\n",
       "    </tr>\n",
       "  </tbody>\n",
       "</table>\n",
       "</div>"
      ],
      "text/plain": [
       "                Architecture  dice_coef  dice_coef_edema  dice_coef_enhancing  \\\n",
       "35  Residual Attention U-Net   0.408476         0.360074             0.362405   \n",
       "\n",
       "    dice_coef_necrotic  mean_io_u  \n",
       "35            0.196959   0.789009  "
      ]
     },
     "execution_count": 16,
     "metadata": {},
     "output_type": "execute_result"
    }
   ],
   "source": [
    "df3 = pd.read_csv('Logs/testing/resattU_net_2d.log')\n",
    "df3 = df3[['dice_coef', 'dice_coef_edema', 'dice_coef_enhancing', 'dice_coef_necrotic', 'mean_io_u']]\n",
    "df3 = pd.DataFrame(df3.mean().to_dict(),index=[df.index.values[-1]])\n",
    "df3.insert(loc=0, column='Architecture', value='Residual Attention U-Net')\n",
    "df3"
   ]
  },
  {
   "cell_type": "code",
   "execution_count": 17,
   "id": "52fc67fc",
   "metadata": {},
   "outputs": [
    {
     "name": "stdout",
     "output_type": "stream",
     "text": [
      "\\begin{tabular}{lrrrrr}\n",
      "\\toprule\n",
      "  Architecture &  dice\\_coef &  dice\\_coef\\_edema &  dice\\_coef\\_enhancing &  dice\\_coef\\_necrotic &  mean\\_io\\_u \\\\\n",
      "\\midrule\n",
      "Residual U-Net &     0.5659 &           0.7244 &                0.614 &              0.4634 &     0.7892 \\\\\n",
      "\\bottomrule\n",
      "\\end{tabular}\n",
      "\n"
     ]
    },
    {
     "name": "stderr",
     "output_type": "stream",
     "text": [
      "C:\\Users\\VegardEikenes\\AppData\\Local\\Temp\\ipykernel_10072\\2890313485.py:1: FutureWarning: In future versions `DataFrame.to_latex` is expected to utilise the base implementation of `Styler.to_latex` for formatting and rendering. The arguments signature may therefore change. It is recommended instead to use `DataFrame.style.to_latex` which also contains additional functionality.\n",
      "  print(df.round(decimals=4).to_latex(index=False))\n"
     ]
    }
   ],
   "source": [
    "print(df.round(decimals=4).to_latex(index=False))"
   ]
  },
  {
   "cell_type": "code",
   "execution_count": 18,
   "id": "6d3cb400",
   "metadata": {},
   "outputs": [
    {
     "name": "stdout",
     "output_type": "stream",
     "text": [
      "\\begin{tabular}{lrrrrr}\n",
      "\\toprule\n",
      "   Architecture &  dice\\_coef &  dice\\_coef\\_edema &  dice\\_coef\\_enhancing &  dice\\_coef\\_necrotic &  mean\\_io\\_u \\\\\n",
      "\\midrule\n",
      "Attention U-Net &     0.3728 &            0.283 &               0.1709 &              0.1667 &      0.857 \\\\\n",
      "\\bottomrule\n",
      "\\end{tabular}\n",
      "\n"
     ]
    },
    {
     "name": "stderr",
     "output_type": "stream",
     "text": [
      "C:\\Users\\VegardEikenes\\AppData\\Local\\Temp\\ipykernel_10072\\186664166.py:1: FutureWarning: In future versions `DataFrame.to_latex` is expected to utilise the base implementation of `Styler.to_latex` for formatting and rendering. The arguments signature may therefore change. It is recommended instead to use `DataFrame.style.to_latex` which also contains additional functionality.\n",
      "  print(df2.round(decimals=4).to_latex(index=False))\n"
     ]
    }
   ],
   "source": [
    "print(df2.round(decimals=4).to_latex(index=False))"
   ]
  },
  {
   "cell_type": "code",
   "execution_count": 19,
   "id": "cf5f6c5c",
   "metadata": {},
   "outputs": [
    {
     "name": "stdout",
     "output_type": "stream",
     "text": [
      "\\begin{tabular}{lrrrrr}\n",
      "\\toprule\n",
      "            Architecture &  dice\\_coef &  dice\\_coef\\_edema &  dice\\_coef\\_enhancing &  dice\\_coef\\_necrotic &  mean\\_io\\_u \\\\\n",
      "\\midrule\n",
      "Residual Attention U-Net &     0.4085 &           0.3601 &               0.3624 &               0.197 &      0.789 \\\\\n",
      "\\bottomrule\n",
      "\\end{tabular}\n",
      "\n"
     ]
    },
    {
     "name": "stderr",
     "output_type": "stream",
     "text": [
      "C:\\Users\\VegardEikenes\\AppData\\Local\\Temp\\ipykernel_10072\\1440984.py:1: FutureWarning: In future versions `DataFrame.to_latex` is expected to utilise the base implementation of `Styler.to_latex` for formatting and rendering. The arguments signature may therefore change. It is recommended instead to use `DataFrame.style.to_latex` which also contains additional functionality.\n",
      "  print(df3.round(decimals=4).to_latex(index=False))\n"
     ]
    }
   ],
   "source": [
    "print(df3.round(decimals=4).to_latex(index=False))"
   ]
  },
  {
   "cell_type": "code",
   "execution_count": null,
   "id": "45b94c75",
   "metadata": {},
   "outputs": [],
   "source": []
  }
 ],
 "metadata": {
  "kernelspec": {
   "display_name": "Python 3 (ipykernel)",
   "language": "python",
   "name": "python3"
  },
  "language_info": {
   "codemirror_mode": {
    "name": "ipython",
    "version": 3
   },
   "file_extension": ".py",
   "mimetype": "text/x-python",
   "name": "python",
   "nbconvert_exporter": "python",
   "pygments_lexer": "ipython3",
   "version": "3.9.16"
  }
 },
 "nbformat": 4,
 "nbformat_minor": 5
}
