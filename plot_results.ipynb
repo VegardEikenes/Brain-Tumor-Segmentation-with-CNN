{
 "cells": [
  {
   "cell_type": "code",
   "execution_count": null,
   "id": "b8887160",
   "metadata": {},
   "outputs": [],
   "source": [
    "from tensorflow import keras\n",
    "from matplotlib import pyplot as plt\n",
    "from metrics import *\n",
    "from datagenerators import *\n",
    "from architectures.ResidualUnet import *\n",
    "from sklearn.model_selection import train_test_split"
   ]
  },
  {
   "cell_type": "code",
   "execution_count": null,
   "id": "5c5c25e7",
   "metadata": {},
   "outputs": [],
   "source": [
    "model = keras.models.load_model('Models/2D/resU_net_2d_300data.h5', \n",
    "                                   custom_objects={ 'accuracy' : tf.keras.metrics.MeanIoU(num_classes=4),\n",
    "                                                   \"dice_coef\": dice_coef,\n",
    "                                                   \"dice_coef_necrotic\": dice_coef_necrotic,\n",
    "                                                   \"dice_coef_edema\": dice_coef_edema,\n",
    "                                                   \"dice_coef_enhancing\": dice_coef_enhancing\n",
    "                                                  }, compile=False)"
   ]
  },
  {
   "cell_type": "code",
   "execution_count": null,
   "id": "b0683447",
   "metadata": {},
   "outputs": [],
   "source": [
    "directory = [f.path for f in os.scandir(PATH) if f.is_dir()]\n",
    "\n",
    "\n",
    "def generate_ids(dirLst):\n",
    "    ids = []\n",
    "    for i in range(0,len(dirLst)):\n",
    "        ids.append(dirLst[i][dirLst[i].rfind('/')+1:])\n",
    "    return ids\n",
    "\n",
    "train_and_test_ids = generate_ids(directory); \n",
    "\n",
    "    \n",
    "train_test_ids, val_ids = train_test_split(train_and_test_ids, train_size=336, test_size=60, random_state=14) \n",
    "train_ids, test_ids = train_test_split(train_test_ids, test_size=36, random_state=14)"
   ]
  },
  {
   "cell_type": "code",
   "execution_count": null,
   "id": "e271f9d1",
   "metadata": {},
   "outputs": [],
   "source": [
    "training_generator = DataGenerator2D(train_ids)\n",
    "valid_generator = DataGenerator2D(val_ids)\n",
    "test_generator = DataGenerator2D(test_ids)"
   ]
  },
  {
   "cell_type": "code",
   "execution_count": null,
   "id": "e7ca3e84",
   "metadata": {},
   "outputs": [],
   "source": [
    "classes = {\n",
    "    0 : 'No tumor',\n",
    "    1 : 'Necrotic region',\n",
    "    2 : 'Edema region',\n",
    "    3 : 'Enhancing region'\n",
    "}\n",
    "\n",
    "\n",
    "def normalize_intensity(image):\n",
    "    min_value = np.min(image)\n",
    "    max_value = np.max(image)\n",
    "    return (image - min_value) / (max_value - min_value)\n",
    "\n",
    "def predict_path(case_path,case):\n",
    "    files = next(os.walk(case_path))\n",
    "    X = np.empty((VOLUME_SLICES, 128, 128, 3))\n",
    "    \n",
    "    vol_path = os.path.join(case_path, f'{case}_flair.nii');\n",
    "    flair = nib.load(vol_path).get_fdata()\n",
    "    \n",
    "    vol_path = os.path.join(case_path, f'{case}_t1ce.nii');\n",
    "    ce = nib.load(vol_path).get_fdata() \n",
    "    \n",
    "    vol_path = os.path.join(case_path, f'{case}_t2.nii')\n",
    "    t2 = nib.load(vol_path).get_fdata()\n",
    "    \n",
    "    for j in range(VOLUME_SLICES):\n",
    "        X[j,:,:,0] = cv2.resize(flair[:,:,j+VOLUME_START_AT], (128,128))\n",
    "        X[j,:,:,1] = cv2.resize(ce[:,:,j+VOLUME_START_AT], (128,128))\n",
    "        X[j,:,:,2] = cv2.resize(t2[:,:,j+VOLUME_START_AT], (128,128))\n",
    "        \n",
    "    return model.predict(X/np.max(X), verbose=1)\n",
    "\n",
    "\n",
    "def predict_id(case, start_slice = 60):\n",
    "    path = f'C:/Users/VegardEikenes/Desktop/Bachelor/Data/BraTS2021_TrainingData/{case}'\n",
    "    gt = nib.load(os.path.join(path, f'{case}_seg.nii')).get_fdata()\n",
    "    origImage = nib.load(os.path.join(path, f'{case}_flair.nii')).get_fdata()\n",
    "    p = predict_path(path,case)\n",
    "\n",
    "    core = p[:,:,:,1]\n",
    "    edema = p[:,:,:,2]\n",
    "    enhancing = p[:,:,:,3]\n",
    "\n",
    "    plt.figure(figsize=(100, 100))\n",
    "    fig, ax = plt.subplots(1,6, figsize = (25, 25))\n",
    "    \n",
    "    normalized_orig_image = normalize_intensity(origImage)\n",
    "    \n",
    "    for i in range(6):\n",
    "        ax[i].imshow(cv2.resize(normalized_orig_image[:,:,start_slice+VOLUME_START_AT], (128, 128)), cmap=\"gray\")\n",
    "    \n",
    "    ax[0].imshow(cv2.resize(origImage[:,:,start_slice+VOLUME_START_AT], (128, 128)), cmap=\"gray\")\n",
    "    ax[0].title.set_text('Original flair image')\n",
    "    curr_gt=cv2.resize(gt[:,:,start_slice+VOLUME_START_AT], (128, 128), interpolation = cv2.INTER_NEAREST)\n",
    "    ax[1].imshow(curr_gt, cmap=\"Reds\", alpha=0.3)\n",
    "    ax[1].title.set_text('Ground truth')\n",
    "    ax[2].imshow(p[start_slice,:,:,1:4], cmap=\"Reds\", alpha=0.3)\n",
    "    ax[2].title.set_text('all classes')\n",
    "    ax[3].imshow(edema[start_slice,:,:], cmap=\"OrRd\", alpha=0.3)\n",
    "    ax[3].title.set_text(f'Predicted {classes[1]}')\n",
    "    ax[4].imshow(core[start_slice,:,:], cmap=\"OrRd\", alpha=0.3)\n",
    "    ax[4].title.set_text(f'Predicted {classes[2]}')\n",
    "    ax[5].imshow(enhancing[start_slice,:,:], cmap=\"OrRd\", alpha=0.3)\n",
    "    ax[5].title.set_text(f'Predicted {classes[3]}')\n",
    "    # plt.savefig('BraTS2021_00590.png')\n",
    "    \n",
    "    \n",
    "predict_id(case=test_ids[0])"
   ]
  },
  {
   "cell_type": "code",
   "execution_count": null,
   "id": "576b4649",
   "metadata": {},
   "outputs": [],
   "source": [
    "test_ids[0]"
   ]
  },
  {
   "cell_type": "code",
   "execution_count": null,
   "id": "f01426e2",
   "metadata": {},
   "outputs": [],
   "source": []
  }
 ],
 "metadata": {
  "kernelspec": {
   "display_name": "Python 3 (ipykernel)",
   "language": "python",
   "name": "python3"
  },
  "language_info": {
   "codemirror_mode": {
    "name": "ipython",
    "version": 3
   },
   "file_extension": ".py",
   "mimetype": "text/x-python",
   "name": "python",
   "nbconvert_exporter": "python",
   "pygments_lexer": "ipython3",
   "version": "3.9.16"
  }
 },
 "nbformat": 4,
 "nbformat_minor": 5
}
